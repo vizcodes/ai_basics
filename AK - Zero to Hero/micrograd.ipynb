{
 "cells": [
  {
   "cell_type": "markdown",
   "id": "6b46e095-f1ff-473b-a6d4-6d0f09900326",
   "metadata": {},
   "source": [
    "### 00. Dependencies"
   ]
  },
  {
   "cell_type": "code",
   "execution_count": 2,
   "id": "cde80814-b940-4883-be95-2579c446b0e4",
   "metadata": {},
   "outputs": [],
   "source": [
    "from IPython.core.interactiveshell import InteractiveShell\n",
    "InteractiveShell.ast_node_interactivity = \"all\"\n",
    "\n",
    "import math\n",
    "import numpy as np\n",
    "\n",
    "from graphviz import Digraph"
   ]
  },
  {
   "cell_type": "markdown",
   "id": "4b049e77-e034-4407-beca-63065a5c9de6",
   "metadata": {},
   "source": [
    "### 01. Building a Node"
   ]
  },
  {
   "cell_type": "code",
   "execution_count": 11,
   "id": "93cf4881-9b49-4759-8a2b-23943b4e9013",
   "metadata": {},
   "outputs": [
    {
     "name": "stdout",
     "output_type": "stream",
     "text": [
      "Value(data = 4.0)\n",
      "{Value(data = -6.0), Value(data = 10.0)}\n"
     ]
    }
   ],
   "source": [
    "class Node:\n",
    "    def __init__(self,data,_children = (), _opr = '', label = ''):\n",
    "        self.data = data\n",
    "        self._prev = set(_children)\n",
    "        self._opr = _opr\n",
    "        self.label = label\n",
    "        self.grad = 0.0\n",
    "        self._backward = lambda : None\n",
    "    def __repr__(self):\n",
    "        return f\"Node(data = {self.data})\"\n",
    "\n",
    "    def __add__(self, other):\n",
    "        other = other if isinstance(other, Node) else Node(other)\n",
    "        out = Node(self.data + other.data, (self, other), \"+\")\n",
    "\n",
    "        def _backward():\n",
    "            self.grad += 1.0 * out.grad\n",
    "            other.grad += 1.0 * out.grad\n",
    "        out._backward = _backward\n",
    "        "
   ]
  },
  {
   "cell_type": "code",
   "execution_count": null,
   "id": "40bae965-d58e-450e-8125-5e5c8c71a977",
   "metadata": {},
   "outputs": [],
   "source": []
  }
 ],
 "metadata": {
  "kernelspec": {
   "display_name": "Python 3 (ipykernel)",
   "language": "python",
   "name": "python3"
  },
  "language_info": {
   "codemirror_mode": {
    "name": "ipython",
    "version": 3
   },
   "file_extension": ".py",
   "mimetype": "text/x-python",
   "name": "python",
   "nbconvert_exporter": "python",
   "pygments_lexer": "ipython3",
   "version": "3.10.12"
  }
 },
 "nbformat": 4,
 "nbformat_minor": 5
}
