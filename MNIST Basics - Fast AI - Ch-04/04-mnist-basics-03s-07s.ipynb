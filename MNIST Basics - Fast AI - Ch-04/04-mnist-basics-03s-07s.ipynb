{
 "cells": [
  {
   "cell_type": "markdown",
   "metadata": {},
   "source": [
    "### Dependencies"
   ]
  },
  {
   "cell_type": "code",
   "execution_count": 1,
   "metadata": {
    "execution": {
     "iopub.execute_input": "2024-07-17T08:23:37.296480Z",
     "iopub.status.busy": "2024-07-17T08:23:37.296100Z",
     "iopub.status.idle": "2024-07-17T08:23:53.841443Z",
     "shell.execute_reply": "2024-07-17T08:23:53.840150Z",
     "shell.execute_reply.started": "2024-07-17T08:23:37.296446Z"
    },
    "scrolled": true
   },
   "outputs": [
    {
     "name": "stdout",
     "output_type": "stream",
     "text": [
      "Collecting fastbook\n",
      "  Downloading fastbook-0.0.29-py3-none-any.whl.metadata (13 kB)\n",
      "Requirement already satisfied: pip in /opt/conda/lib/python3.10/site-packages (from fastbook) (23.3.2)\n",
      "Requirement already satisfied: packaging in /opt/conda/lib/python3.10/site-packages (from fastbook) (21.3)\n",
      "Requirement already satisfied: fastai>=2.6 in /opt/conda/lib/python3.10/site-packages (from fastbook) (2.7.15)\n",
      "Requirement already satisfied: graphviz in /opt/conda/lib/python3.10/site-packages (from fastbook) (0.20.3)\n",
      "Requirement already satisfied: pandas in /opt/conda/lib/python3.10/site-packages (from fastbook) (2.2.2)\n",
      "Requirement already satisfied: requests in /opt/conda/lib/python3.10/site-packages (from fastbook) (2.32.3)\n",
      "Requirement already satisfied: transformers in /opt/conda/lib/python3.10/site-packages (from fastbook) (4.41.2)\n",
      "Requirement already satisfied: datasets in /opt/conda/lib/python3.10/site-packages (from fastbook) (2.19.2)\n",
      "Requirement already satisfied: ipywidgets<8 in /opt/conda/lib/python3.10/site-packages (from fastbook) (7.7.1)\n",
      "Requirement already satisfied: sentencepiece in /opt/conda/lib/python3.10/site-packages (from fastbook) (0.2.0)\n",
      "Requirement already satisfied: fastdownload<2,>=0.0.5 in /opt/conda/lib/python3.10/site-packages (from fastai>=2.6->fastbook) (0.0.7)\n",
      "Requirement already satisfied: fastcore<1.6,>=1.5.29 in /opt/conda/lib/python3.10/site-packages (from fastai>=2.6->fastbook) (1.5.43)\n",
      "Requirement already satisfied: torchvision>=0.11 in /opt/conda/lib/python3.10/site-packages (from fastai>=2.6->fastbook) (0.16.2+cpu)\n",
      "Requirement already satisfied: matplotlib in /opt/conda/lib/python3.10/site-packages (from fastai>=2.6->fastbook) (3.7.5)\n",
      "Requirement already satisfied: pyyaml in /opt/conda/lib/python3.10/site-packages (from fastai>=2.6->fastbook) (6.0.1)\n",
      "Requirement already satisfied: fastprogress>=0.2.4 in /opt/conda/lib/python3.10/site-packages (from fastai>=2.6->fastbook) (1.0.3)\n",
      "Requirement already satisfied: pillow>=9.0.0 in /opt/conda/lib/python3.10/site-packages (from fastai>=2.6->fastbook) (9.5.0)\n",
      "Requirement already satisfied: scikit-learn in /opt/conda/lib/python3.10/site-packages (from fastai>=2.6->fastbook) (1.2.2)\n",
      "Requirement already satisfied: scipy in /opt/conda/lib/python3.10/site-packages (from fastai>=2.6->fastbook) (1.11.4)\n",
      "Requirement already satisfied: spacy<4 in /opt/conda/lib/python3.10/site-packages (from fastai>=2.6->fastbook) (3.7.4)\n",
      "Requirement already satisfied: torch<2.4,>=1.10 in /opt/conda/lib/python3.10/site-packages (from fastai>=2.6->fastbook) (2.1.2+cpu)\n",
      "Requirement already satisfied: ipykernel>=4.5.1 in /opt/conda/lib/python3.10/site-packages (from ipywidgets<8->fastbook) (6.28.0)\n",
      "Requirement already satisfied: ipython-genutils~=0.2.0 in /opt/conda/lib/python3.10/site-packages (from ipywidgets<8->fastbook) (0.2.0)\n",
      "Requirement already satisfied: traitlets>=4.3.1 in /opt/conda/lib/python3.10/site-packages (from ipywidgets<8->fastbook) (5.9.0)\n",
      "Requirement already satisfied: widgetsnbextension~=3.6.0 in /opt/conda/lib/python3.10/site-packages (from ipywidgets<8->fastbook) (3.6.6)\n",
      "Requirement already satisfied: ipython>=4.0.0 in /opt/conda/lib/python3.10/site-packages (from ipywidgets<8->fastbook) (8.20.0)\n",
      "Requirement already satisfied: jupyterlab-widgets>=1.0.0 in /opt/conda/lib/python3.10/site-packages (from ipywidgets<8->fastbook) (3.0.9)\n",
      "Requirement already satisfied: filelock in /opt/conda/lib/python3.10/site-packages (from datasets->fastbook) (3.13.1)\n",
      "Requirement already satisfied: numpy>=1.17 in /opt/conda/lib/python3.10/site-packages (from datasets->fastbook) (1.26.4)\n",
      "Requirement already satisfied: pyarrow>=12.0.0 in /opt/conda/lib/python3.10/site-packages (from datasets->fastbook) (16.1.0)\n",
      "Requirement already satisfied: pyarrow-hotfix in /opt/conda/lib/python3.10/site-packages (from datasets->fastbook) (0.6)\n",
      "Requirement already satisfied: dill<0.3.9,>=0.3.0 in /opt/conda/lib/python3.10/site-packages (from datasets->fastbook) (0.3.8)\n",
      "Requirement already satisfied: tqdm>=4.62.1 in /opt/conda/lib/python3.10/site-packages (from datasets->fastbook) (4.66.4)\n",
      "Requirement already satisfied: xxhash in /opt/conda/lib/python3.10/site-packages (from datasets->fastbook) (3.4.1)\n",
      "Requirement already satisfied: multiprocess in /opt/conda/lib/python3.10/site-packages (from datasets->fastbook) (0.70.16)\n",
      "Requirement already satisfied: fsspec<=2024.3.1,>=2023.1.0 in /opt/conda/lib/python3.10/site-packages (from fsspec[http]<=2024.3.1,>=2023.1.0->datasets->fastbook) (2024.3.1)\n",
      "Requirement already satisfied: aiohttp in /opt/conda/lib/python3.10/site-packages (from datasets->fastbook) (3.9.1)\n",
      "Requirement already satisfied: huggingface-hub>=0.21.2 in /opt/conda/lib/python3.10/site-packages (from datasets->fastbook) (0.23.2)\n",
      "Requirement already satisfied: charset-normalizer<4,>=2 in /opt/conda/lib/python3.10/site-packages (from requests->fastbook) (3.3.2)\n",
      "Requirement already satisfied: idna<4,>=2.5 in /opt/conda/lib/python3.10/site-packages (from requests->fastbook) (3.6)\n",
      "Requirement already satisfied: urllib3<3,>=1.21.1 in /opt/conda/lib/python3.10/site-packages (from requests->fastbook) (1.26.18)\n",
      "Requirement already satisfied: certifi>=2017.4.17 in /opt/conda/lib/python3.10/site-packages (from requests->fastbook) (2024.2.2)\n",
      "Requirement already satisfied: pyparsing!=3.0.5,>=2.0.2 in /opt/conda/lib/python3.10/site-packages (from packaging->fastbook) (3.1.1)\n",
      "Requirement already satisfied: python-dateutil>=2.8.2 in /opt/conda/lib/python3.10/site-packages (from pandas->fastbook) (2.9.0.post0)\n",
      "Requirement already satisfied: pytz>=2020.1 in /opt/conda/lib/python3.10/site-packages (from pandas->fastbook) (2023.3.post1)\n",
      "Requirement already satisfied: tzdata>=2022.7 in /opt/conda/lib/python3.10/site-packages (from pandas->fastbook) (2023.4)\n",
      "Requirement already satisfied: regex!=2019.12.17 in /opt/conda/lib/python3.10/site-packages (from transformers->fastbook) (2023.12.25)\n",
      "Requirement already satisfied: tokenizers<0.20,>=0.19 in /opt/conda/lib/python3.10/site-packages (from transformers->fastbook) (0.19.1)\n",
      "Requirement already satisfied: safetensors>=0.4.1 in /opt/conda/lib/python3.10/site-packages (from transformers->fastbook) (0.4.3)\n",
      "Requirement already satisfied: attrs>=17.3.0 in /opt/conda/lib/python3.10/site-packages (from aiohttp->datasets->fastbook) (23.2.0)\n",
      "Requirement already satisfied: multidict<7.0,>=4.5 in /opt/conda/lib/python3.10/site-packages (from aiohttp->datasets->fastbook) (6.0.4)\n",
      "Requirement already satisfied: yarl<2.0,>=1.0 in /opt/conda/lib/python3.10/site-packages (from aiohttp->datasets->fastbook) (1.9.3)\n",
      "Requirement already satisfied: frozenlist>=1.1.1 in /opt/conda/lib/python3.10/site-packages (from aiohttp->datasets->fastbook) (1.4.1)\n",
      "Requirement already satisfied: aiosignal>=1.1.2 in /opt/conda/lib/python3.10/site-packages (from aiohttp->datasets->fastbook) (1.3.1)\n",
      "Requirement already satisfied: async-timeout<5.0,>=4.0 in /opt/conda/lib/python3.10/site-packages (from aiohttp->datasets->fastbook) (4.0.3)\n",
      "Requirement already satisfied: typing-extensions>=3.7.4.3 in /opt/conda/lib/python3.10/site-packages (from huggingface-hub>=0.21.2->datasets->fastbook) (4.9.0)\n",
      "Requirement already satisfied: comm>=0.1.1 in /opt/conda/lib/python3.10/site-packages (from ipykernel>=4.5.1->ipywidgets<8->fastbook) (0.2.1)\n",
      "Requirement already satisfied: debugpy>=1.6.5 in /opt/conda/lib/python3.10/site-packages (from ipykernel>=4.5.1->ipywidgets<8->fastbook) (1.8.0)\n",
      "Requirement already satisfied: jupyter-client>=6.1.12 in /opt/conda/lib/python3.10/site-packages (from ipykernel>=4.5.1->ipywidgets<8->fastbook) (7.4.9)\n",
      "Requirement already satisfied: jupyter-core!=5.0.*,>=4.12 in /opt/conda/lib/python3.10/site-packages (from ipykernel>=4.5.1->ipywidgets<8->fastbook) (5.7.1)\n",
      "Requirement already satisfied: matplotlib-inline>=0.1 in /opt/conda/lib/python3.10/site-packages (from ipykernel>=4.5.1->ipywidgets<8->fastbook) (0.1.6)\n",
      "Requirement already satisfied: nest-asyncio in /opt/conda/lib/python3.10/site-packages (from ipykernel>=4.5.1->ipywidgets<8->fastbook) (1.5.8)\n",
      "Requirement already satisfied: psutil in /opt/conda/lib/python3.10/site-packages (from ipykernel>=4.5.1->ipywidgets<8->fastbook) (5.9.3)\n",
      "Requirement already satisfied: pyzmq>=24 in /opt/conda/lib/python3.10/site-packages (from ipykernel>=4.5.1->ipywidgets<8->fastbook) (24.0.1)\n",
      "Requirement already satisfied: tornado>=6.1 in /opt/conda/lib/python3.10/site-packages (from ipykernel>=4.5.1->ipywidgets<8->fastbook) (6.3.3)\n",
      "Requirement already satisfied: decorator in /opt/conda/lib/python3.10/site-packages (from ipython>=4.0.0->ipywidgets<8->fastbook) (5.1.1)\n",
      "Requirement already satisfied: jedi>=0.16 in /opt/conda/lib/python3.10/site-packages (from ipython>=4.0.0->ipywidgets<8->fastbook) (0.19.1)\n",
      "Requirement already satisfied: prompt-toolkit<3.1.0,>=3.0.41 in /opt/conda/lib/python3.10/site-packages (from ipython>=4.0.0->ipywidgets<8->fastbook) (3.0.42)\n",
      "Requirement already satisfied: pygments>=2.4.0 in /opt/conda/lib/python3.10/site-packages (from ipython>=4.0.0->ipywidgets<8->fastbook) (2.17.2)\n",
      "Requirement already satisfied: stack-data in /opt/conda/lib/python3.10/site-packages (from ipython>=4.0.0->ipywidgets<8->fastbook) (0.6.2)\n",
      "Requirement already satisfied: exceptiongroup in /opt/conda/lib/python3.10/site-packages (from ipython>=4.0.0->ipywidgets<8->fastbook) (1.2.0)\n",
      "Requirement already satisfied: pexpect>4.3 in /opt/conda/lib/python3.10/site-packages (from ipython>=4.0.0->ipywidgets<8->fastbook) (4.8.0)\n",
      "Requirement already satisfied: six>=1.5 in /opt/conda/lib/python3.10/site-packages (from python-dateutil>=2.8.2->pandas->fastbook) (1.16.0)\n",
      "Requirement already satisfied: spacy-legacy<3.1.0,>=3.0.11 in /opt/conda/lib/python3.10/site-packages (from spacy<4->fastai>=2.6->fastbook) (3.0.12)\n",
      "Requirement already satisfied: spacy-loggers<2.0.0,>=1.0.0 in /opt/conda/lib/python3.10/site-packages (from spacy<4->fastai>=2.6->fastbook) (1.0.5)\n",
      "Requirement already satisfied: murmurhash<1.1.0,>=0.28.0 in /opt/conda/lib/python3.10/site-packages (from spacy<4->fastai>=2.6->fastbook) (1.0.10)\n",
      "Requirement already satisfied: cymem<2.1.0,>=2.0.2 in /opt/conda/lib/python3.10/site-packages (from spacy<4->fastai>=2.6->fastbook) (2.0.8)\n",
      "Requirement already satisfied: preshed<3.1.0,>=3.0.2 in /opt/conda/lib/python3.10/site-packages (from spacy<4->fastai>=2.6->fastbook) (3.0.9)\n",
      "Requirement already satisfied: thinc<8.3.0,>=8.2.2 in /opt/conda/lib/python3.10/site-packages (from spacy<4->fastai>=2.6->fastbook) (8.2.3)\n",
      "Requirement already satisfied: wasabi<1.2.0,>=0.9.1 in /opt/conda/lib/python3.10/site-packages (from spacy<4->fastai>=2.6->fastbook) (1.1.3)\n",
      "Requirement already satisfied: srsly<3.0.0,>=2.4.3 in /opt/conda/lib/python3.10/site-packages (from spacy<4->fastai>=2.6->fastbook) (2.4.8)\n",
      "Requirement already satisfied: catalogue<2.1.0,>=2.0.6 in /opt/conda/lib/python3.10/site-packages (from spacy<4->fastai>=2.6->fastbook) (2.0.10)\n",
      "Requirement already satisfied: weasel<0.4.0,>=0.1.0 in /opt/conda/lib/python3.10/site-packages (from spacy<4->fastai>=2.6->fastbook) (0.3.4)\n",
      "Requirement already satisfied: typer<0.10.0,>=0.3.0 in /opt/conda/lib/python3.10/site-packages (from spacy<4->fastai>=2.6->fastbook) (0.9.0)\n",
      "Requirement already satisfied: smart-open<7.0.0,>=5.2.1 in /opt/conda/lib/python3.10/site-packages (from spacy<4->fastai>=2.6->fastbook) (6.4.0)\n",
      "Requirement already satisfied: pydantic!=1.8,!=1.8.1,<3.0.0,>=1.7.4 in /opt/conda/lib/python3.10/site-packages (from spacy<4->fastai>=2.6->fastbook) (2.5.3)\n",
      "Requirement already satisfied: jinja2 in /opt/conda/lib/python3.10/site-packages (from spacy<4->fastai>=2.6->fastbook) (3.1.2)\n",
      "Requirement already satisfied: setuptools in /opt/conda/lib/python3.10/site-packages (from spacy<4->fastai>=2.6->fastbook) (69.0.3)\n",
      "Requirement already satisfied: langcodes<4.0.0,>=3.2.0 in /opt/conda/lib/python3.10/site-packages (from spacy<4->fastai>=2.6->fastbook) (3.4.0)\n",
      "Requirement already satisfied: sympy in /opt/conda/lib/python3.10/site-packages (from torch<2.4,>=1.10->fastai>=2.6->fastbook) (1.12.1)\n",
      "Requirement already satisfied: networkx in /opt/conda/lib/python3.10/site-packages (from torch<2.4,>=1.10->fastai>=2.6->fastbook) (3.2.1)\n",
      "Requirement already satisfied: notebook>=4.4.1 in /opt/conda/lib/python3.10/site-packages (from widgetsnbextension~=3.6.0->ipywidgets<8->fastbook) (6.5.4)\n",
      "Requirement already satisfied: contourpy>=1.0.1 in /opt/conda/lib/python3.10/site-packages (from matplotlib->fastai>=2.6->fastbook) (1.2.0)\n",
      "Requirement already satisfied: cycler>=0.10 in /opt/conda/lib/python3.10/site-packages (from matplotlib->fastai>=2.6->fastbook) (0.12.1)\n",
      "Requirement already satisfied: fonttools>=4.22.0 in /opt/conda/lib/python3.10/site-packages (from matplotlib->fastai>=2.6->fastbook) (4.47.0)\n",
      "Requirement already satisfied: kiwisolver>=1.0.1 in /opt/conda/lib/python3.10/site-packages (from matplotlib->fastai>=2.6->fastbook) (1.4.5)\n",
      "Requirement already satisfied: joblib>=1.1.1 in /opt/conda/lib/python3.10/site-packages (from scikit-learn->fastai>=2.6->fastbook) (1.4.2)\n",
      "Requirement already satisfied: threadpoolctl>=2.0.0 in /opt/conda/lib/python3.10/site-packages (from scikit-learn->fastai>=2.6->fastbook) (3.2.0)\n",
      "Requirement already satisfied: parso<0.9.0,>=0.8.3 in /opt/conda/lib/python3.10/site-packages (from jedi>=0.16->ipython>=4.0.0->ipywidgets<8->fastbook) (0.8.3)\n",
      "Requirement already satisfied: entrypoints in /opt/conda/lib/python3.10/site-packages (from jupyter-client>=6.1.12->ipykernel>=4.5.1->ipywidgets<8->fastbook) (0.4)\n",
      "Requirement already satisfied: platformdirs>=2.5 in /opt/conda/lib/python3.10/site-packages (from jupyter-core!=5.0.*,>=4.12->ipykernel>=4.5.1->ipywidgets<8->fastbook) (3.11.0)\n",
      "Requirement already satisfied: language-data>=1.2 in /opt/conda/lib/python3.10/site-packages (from langcodes<4.0.0,>=3.2.0->spacy<4->fastai>=2.6->fastbook) (1.2.0)\n",
      "Requirement already satisfied: argon2-cffi in /opt/conda/lib/python3.10/site-packages (from notebook>=4.4.1->widgetsnbextension~=3.6.0->ipywidgets<8->fastbook) (23.1.0)\n",
      "Requirement already satisfied: nbformat in /opt/conda/lib/python3.10/site-packages (from notebook>=4.4.1->widgetsnbextension~=3.6.0->ipywidgets<8->fastbook) (5.9.2)\n",
      "Requirement already satisfied: nbconvert>=5 in /opt/conda/lib/python3.10/site-packages (from notebook>=4.4.1->widgetsnbextension~=3.6.0->ipywidgets<8->fastbook) (6.4.5)\n",
      "Requirement already satisfied: Send2Trash>=1.8.0 in /opt/conda/lib/python3.10/site-packages (from notebook>=4.4.1->widgetsnbextension~=3.6.0->ipywidgets<8->fastbook) (1.8.2)\n",
      "Requirement already satisfied: terminado>=0.8.3 in /opt/conda/lib/python3.10/site-packages (from notebook>=4.4.1->widgetsnbextension~=3.6.0->ipywidgets<8->fastbook) (0.18.0)\n",
      "Requirement already satisfied: prometheus-client in /opt/conda/lib/python3.10/site-packages (from notebook>=4.4.1->widgetsnbextension~=3.6.0->ipywidgets<8->fastbook) (0.19.0)\n",
      "Requirement already satisfied: nbclassic>=0.4.7 in /opt/conda/lib/python3.10/site-packages (from notebook>=4.4.1->widgetsnbextension~=3.6.0->ipywidgets<8->fastbook) (1.0.0)\n",
      "Requirement already satisfied: ptyprocess>=0.5 in /opt/conda/lib/python3.10/site-packages (from pexpect>4.3->ipython>=4.0.0->ipywidgets<8->fastbook) (0.7.0)\n",
      "Requirement already satisfied: wcwidth in /opt/conda/lib/python3.10/site-packages (from prompt-toolkit<3.1.0,>=3.0.41->ipython>=4.0.0->ipywidgets<8->fastbook) (0.2.13)\n",
      "Requirement already satisfied: annotated-types>=0.4.0 in /opt/conda/lib/python3.10/site-packages (from pydantic!=1.8,!=1.8.1,<3.0.0,>=1.7.4->spacy<4->fastai>=2.6->fastbook) (0.6.0)\n",
      "Requirement already satisfied: pydantic-core==2.14.6 in /opt/conda/lib/python3.10/site-packages (from pydantic!=1.8,!=1.8.1,<3.0.0,>=1.7.4->spacy<4->fastai>=2.6->fastbook) (2.14.6)\n",
      "Requirement already satisfied: blis<0.8.0,>=0.7.8 in /opt/conda/lib/python3.10/site-packages (from thinc<8.3.0,>=8.2.2->spacy<4->fastai>=2.6->fastbook) (0.7.11)\n",
      "Requirement already satisfied: confection<1.0.0,>=0.0.1 in /opt/conda/lib/python3.10/site-packages (from thinc<8.3.0,>=8.2.2->spacy<4->fastai>=2.6->fastbook) (0.1.5)\n",
      "Requirement already satisfied: click<9.0.0,>=7.1.1 in /opt/conda/lib/python3.10/site-packages (from typer<0.10.0,>=0.3.0->spacy<4->fastai>=2.6->fastbook) (8.1.7)\n",
      "Requirement already satisfied: cloudpathlib<0.17.0,>=0.7.0 in /opt/conda/lib/python3.10/site-packages (from weasel<0.4.0,>=0.1.0->spacy<4->fastai>=2.6->fastbook) (0.16.0)\n",
      "Requirement already satisfied: MarkupSafe>=2.0 in /opt/conda/lib/python3.10/site-packages (from jinja2->spacy<4->fastai>=2.6->fastbook) (2.1.3)\n",
      "Requirement already satisfied: executing>=1.2.0 in /opt/conda/lib/python3.10/site-packages (from stack-data->ipython>=4.0.0->ipywidgets<8->fastbook) (2.0.1)\n",
      "Requirement already satisfied: asttokens>=2.1.0 in /opt/conda/lib/python3.10/site-packages (from stack-data->ipython>=4.0.0->ipywidgets<8->fastbook) (2.4.1)\n",
      "Requirement already satisfied: pure-eval in /opt/conda/lib/python3.10/site-packages (from stack-data->ipython>=4.0.0->ipywidgets<8->fastbook) (0.2.2)\n",
      "Requirement already satisfied: mpmath<1.4.0,>=1.1.0 in /opt/conda/lib/python3.10/site-packages (from sympy->torch<2.4,>=1.10->fastai>=2.6->fastbook) (1.3.0)\n",
      "Requirement already satisfied: marisa-trie>=0.7.7 in /opt/conda/lib/python3.10/site-packages (from language-data>=1.2->langcodes<4.0.0,>=3.2.0->spacy<4->fastai>=2.6->fastbook) (1.1.1)\n",
      "Requirement already satisfied: jupyter-server>=1.8 in /opt/conda/lib/python3.10/site-packages (from nbclassic>=0.4.7->notebook>=4.4.1->widgetsnbextension~=3.6.0->ipywidgets<8->fastbook) (2.12.5)\n",
      "Requirement already satisfied: notebook-shim>=0.2.3 in /opt/conda/lib/python3.10/site-packages (from nbclassic>=0.4.7->notebook>=4.4.1->widgetsnbextension~=3.6.0->ipywidgets<8->fastbook) (0.2.3)\n",
      "Requirement already satisfied: mistune<2,>=0.8.1 in /opt/conda/lib/python3.10/site-packages (from nbconvert>=5->notebook>=4.4.1->widgetsnbextension~=3.6.0->ipywidgets<8->fastbook) (0.8.4)\n",
      "Requirement already satisfied: jupyterlab-pygments in /opt/conda/lib/python3.10/site-packages (from nbconvert>=5->notebook>=4.4.1->widgetsnbextension~=3.6.0->ipywidgets<8->fastbook) (0.3.0)\n",
      "Requirement already satisfied: bleach in /opt/conda/lib/python3.10/site-packages (from nbconvert>=5->notebook>=4.4.1->widgetsnbextension~=3.6.0->ipywidgets<8->fastbook) (6.1.0)\n",
      "Requirement already satisfied: pandocfilters>=1.4.1 in /opt/conda/lib/python3.10/site-packages (from nbconvert>=5->notebook>=4.4.1->widgetsnbextension~=3.6.0->ipywidgets<8->fastbook) (1.5.0)\n",
      "Requirement already satisfied: testpath in /opt/conda/lib/python3.10/site-packages (from nbconvert>=5->notebook>=4.4.1->widgetsnbextension~=3.6.0->ipywidgets<8->fastbook) (0.6.0)\n",
      "Requirement already satisfied: defusedxml in /opt/conda/lib/python3.10/site-packages (from nbconvert>=5->notebook>=4.4.1->widgetsnbextension~=3.6.0->ipywidgets<8->fastbook) (0.7.1)\n",
      "Requirement already satisfied: beautifulsoup4 in /opt/conda/lib/python3.10/site-packages (from nbconvert>=5->notebook>=4.4.1->widgetsnbextension~=3.6.0->ipywidgets<8->fastbook) (4.12.2)\n",
      "Requirement already satisfied: nbclient<0.6.0,>=0.5.0 in /opt/conda/lib/python3.10/site-packages (from nbconvert>=5->notebook>=4.4.1->widgetsnbextension~=3.6.0->ipywidgets<8->fastbook) (0.5.13)\n",
      "Requirement already satisfied: fastjsonschema in /opt/conda/lib/python3.10/site-packages (from nbformat->notebook>=4.4.1->widgetsnbextension~=3.6.0->ipywidgets<8->fastbook) (2.19.1)\n",
      "Requirement already satisfied: jsonschema>=2.6 in /opt/conda/lib/python3.10/site-packages (from nbformat->notebook>=4.4.1->widgetsnbextension~=3.6.0->ipywidgets<8->fastbook) (4.20.0)\n",
      "Requirement already satisfied: argon2-cffi-bindings in /opt/conda/lib/python3.10/site-packages (from argon2-cffi->notebook>=4.4.1->widgetsnbextension~=3.6.0->ipywidgets<8->fastbook) (21.2.0)\n",
      "Requirement already satisfied: jsonschema-specifications>=2023.03.6 in /opt/conda/lib/python3.10/site-packages (from jsonschema>=2.6->nbformat->notebook>=4.4.1->widgetsnbextension~=3.6.0->ipywidgets<8->fastbook) (2023.12.1)\n",
      "Requirement already satisfied: referencing>=0.28.4 in /opt/conda/lib/python3.10/site-packages (from jsonschema>=2.6->nbformat->notebook>=4.4.1->widgetsnbextension~=3.6.0->ipywidgets<8->fastbook) (0.32.1)\n",
      "Requirement already satisfied: rpds-py>=0.7.1 in /opt/conda/lib/python3.10/site-packages (from jsonschema>=2.6->nbformat->notebook>=4.4.1->widgetsnbextension~=3.6.0->ipywidgets<8->fastbook) (0.16.2)\n",
      "Requirement already satisfied: anyio>=3.1.0 in /opt/conda/lib/python3.10/site-packages (from jupyter-server>=1.8->nbclassic>=0.4.7->notebook>=4.4.1->widgetsnbextension~=3.6.0->ipywidgets<8->fastbook) (4.2.0)\n",
      "Requirement already satisfied: jupyter-events>=0.9.0 in /opt/conda/lib/python3.10/site-packages (from jupyter-server>=1.8->nbclassic>=0.4.7->notebook>=4.4.1->widgetsnbextension~=3.6.0->ipywidgets<8->fastbook) (0.9.0)\n",
      "Requirement already satisfied: jupyter-server-terminals in /opt/conda/lib/python3.10/site-packages (from jupyter-server>=1.8->nbclassic>=0.4.7->notebook>=4.4.1->widgetsnbextension~=3.6.0->ipywidgets<8->fastbook) (0.5.1)\n",
      "Requirement already satisfied: overrides in /opt/conda/lib/python3.10/site-packages (from jupyter-server>=1.8->nbclassic>=0.4.7->notebook>=4.4.1->widgetsnbextension~=3.6.0->ipywidgets<8->fastbook) (7.4.0)\n",
      "Requirement already satisfied: websocket-client in /opt/conda/lib/python3.10/site-packages (from jupyter-server>=1.8->nbclassic>=0.4.7->notebook>=4.4.1->widgetsnbextension~=3.6.0->ipywidgets<8->fastbook) (1.7.0)\n",
      "Requirement already satisfied: cffi>=1.0.1 in /opt/conda/lib/python3.10/site-packages (from argon2-cffi-bindings->argon2-cffi->notebook>=4.4.1->widgetsnbextension~=3.6.0->ipywidgets<8->fastbook) (1.16.0)\n",
      "Requirement already satisfied: soupsieve>1.2 in /opt/conda/lib/python3.10/site-packages (from beautifulsoup4->nbconvert>=5->notebook>=4.4.1->widgetsnbextension~=3.6.0->ipywidgets<8->fastbook) (2.5)\n",
      "Requirement already satisfied: webencodings in /opt/conda/lib/python3.10/site-packages (from bleach->nbconvert>=5->notebook>=4.4.1->widgetsnbextension~=3.6.0->ipywidgets<8->fastbook) (0.5.1)\n",
      "Requirement already satisfied: sniffio>=1.1 in /opt/conda/lib/python3.10/site-packages (from anyio>=3.1.0->jupyter-server>=1.8->nbclassic>=0.4.7->notebook>=4.4.1->widgetsnbextension~=3.6.0->ipywidgets<8->fastbook) (1.3.0)\n",
      "Requirement already satisfied: pycparser in /opt/conda/lib/python3.10/site-packages (from cffi>=1.0.1->argon2-cffi-bindings->argon2-cffi->notebook>=4.4.1->widgetsnbextension~=3.6.0->ipywidgets<8->fastbook) (2.21)\n",
      "Requirement already satisfied: python-json-logger>=2.0.4 in /opt/conda/lib/python3.10/site-packages (from jupyter-events>=0.9.0->jupyter-server>=1.8->nbclassic>=0.4.7->notebook>=4.4.1->widgetsnbextension~=3.6.0->ipywidgets<8->fastbook) (2.0.7)\n",
      "Requirement already satisfied: rfc3339-validator in /opt/conda/lib/python3.10/site-packages (from jupyter-events>=0.9.0->jupyter-server>=1.8->nbclassic>=0.4.7->notebook>=4.4.1->widgetsnbextension~=3.6.0->ipywidgets<8->fastbook) (0.1.4)\n",
      "Requirement already satisfied: rfc3986-validator>=0.1.1 in /opt/conda/lib/python3.10/site-packages (from jupyter-events>=0.9.0->jupyter-server>=1.8->nbclassic>=0.4.7->notebook>=4.4.1->widgetsnbextension~=3.6.0->ipywidgets<8->fastbook) (0.1.1)\n",
      "Requirement already satisfied: fqdn in /opt/conda/lib/python3.10/site-packages (from jsonschema[format-nongpl]>=4.18.0->jupyter-events>=0.9.0->jupyter-server>=1.8->nbclassic>=0.4.7->notebook>=4.4.1->widgetsnbextension~=3.6.0->ipywidgets<8->fastbook) (1.5.1)\n",
      "Requirement already satisfied: isoduration in /opt/conda/lib/python3.10/site-packages (from jsonschema[format-nongpl]>=4.18.0->jupyter-events>=0.9.0->jupyter-server>=1.8->nbclassic>=0.4.7->notebook>=4.4.1->widgetsnbextension~=3.6.0->ipywidgets<8->fastbook) (20.11.0)\n",
      "Requirement already satisfied: jsonpointer>1.13 in /opt/conda/lib/python3.10/site-packages (from jsonschema[format-nongpl]>=4.18.0->jupyter-events>=0.9.0->jupyter-server>=1.8->nbclassic>=0.4.7->notebook>=4.4.1->widgetsnbextension~=3.6.0->ipywidgets<8->fastbook) (2.4)\n",
      "Requirement already satisfied: uri-template in /opt/conda/lib/python3.10/site-packages (from jsonschema[format-nongpl]>=4.18.0->jupyter-events>=0.9.0->jupyter-server>=1.8->nbclassic>=0.4.7->notebook>=4.4.1->widgetsnbextension~=3.6.0->ipywidgets<8->fastbook) (1.3.0)\n",
      "Requirement already satisfied: webcolors>=1.11 in /opt/conda/lib/python3.10/site-packages (from jsonschema[format-nongpl]>=4.18.0->jupyter-events>=0.9.0->jupyter-server>=1.8->nbclassic>=0.4.7->notebook>=4.4.1->widgetsnbextension~=3.6.0->ipywidgets<8->fastbook) (1.13)\n",
      "Requirement already satisfied: arrow>=0.15.0 in /opt/conda/lib/python3.10/site-packages (from isoduration->jsonschema[format-nongpl]>=4.18.0->jupyter-events>=0.9.0->jupyter-server>=1.8->nbclassic>=0.4.7->notebook>=4.4.1->widgetsnbextension~=3.6.0->ipywidgets<8->fastbook) (1.3.0)\n",
      "Requirement already satisfied: types-python-dateutil>=2.8.10 in /opt/conda/lib/python3.10/site-packages (from arrow>=0.15.0->isoduration->jsonschema[format-nongpl]>=4.18.0->jupyter-events>=0.9.0->jupyter-server>=1.8->nbclassic>=0.4.7->notebook>=4.4.1->widgetsnbextension~=3.6.0->ipywidgets<8->fastbook) (2.8.19.20240106)\n",
      "Downloading fastbook-0.0.29-py3-none-any.whl (719 kB)\n",
      "\u001b[2K   \u001b[90m━━━━━━━━━━━━━━━━━━━━━━━━━━━━━━━━━━━━━━━━\u001b[0m \u001b[32m719.8/719.8 kB\u001b[0m \u001b[31m9.1 MB/s\u001b[0m eta \u001b[36m0:00:00\u001b[0m:00:01\u001b[0m0:01\u001b[0m\n",
      "\u001b[?25hInstalling collected packages: fastbook\n",
      "Successfully installed fastbook-0.0.29\n"
     ]
    }
   ],
   "source": [
    "# !pip install fastai\n",
    "!pip install fastbook"
   ]
  },
  {
   "cell_type": "code",
   "execution_count": 2,
   "metadata": {
    "_cell_guid": "b1076dfc-b9ad-4769-8c92-a6c4dae69d19",
    "_uuid": "8f2839f25d086af736a60e9eeb907d3b93b6e0e5",
    "execution": {
     "iopub.execute_input": "2024-07-17T08:23:53.844614Z",
     "iopub.status.busy": "2024-07-17T08:23:53.844234Z",
     "iopub.status.idle": "2024-07-17T08:24:05.365332Z",
     "shell.execute_reply": "2024-07-17T08:24:05.364168Z",
     "shell.execute_reply.started": "2024-07-17T08:23:53.844577Z"
    }
   },
   "outputs": [],
   "source": [
    "# This Python 3 environment comes with many helpful analytics libraries installed\n",
    "# It is defined by the kaggle/python Docker image: https://github.com/kaggle/docker-python\n",
    "# For example, here's several helpful packages to load\n",
    "from IPython.core.interactiveshell import InteractiveShell\n",
    "InteractiveShell.ast_node_interactivity = \"all\"\n",
    "\n",
    "import numpy as np # linear algebra\n",
    "import pandas as pd # data processing, CSV file I/O (e.g. pd.read_csv)\n",
    "from fastai.vision import *\n",
    "from fastbook import *\n",
    "# Input data files are available in the read-only \"../input/\" directory\n",
    "# For example, running this (by clicking run or pressing Shift+Enter) will list all files under the input directory\n",
    "\n",
    "import os\n",
    "for dirname, _, filenames in os.walk('/kaggle/input'):\n",
    "    for filename in filenames:\n",
    "        print(os.path.join(dirname, filename))\n",
    "\n",
    "# You can write up to 20GB to the current directory (/kaggle/working/) that gets preserved as output when you create a version using \"Save & Run All\" \n",
    "# You can also write temporary files to /kaggle/temp/, but they won't be saved outside of the current session"
   ]
  },
  {
   "cell_type": "code",
   "execution_count": 3,
   "metadata": {
    "execution": {
     "iopub.execute_input": "2024-07-17T08:24:05.366920Z",
     "iopub.status.busy": "2024-07-17T08:24:05.366590Z",
     "iopub.status.idle": "2024-07-17T08:24:09.023098Z",
     "shell.execute_reply": "2024-07-17T08:24:09.021763Z",
     "shell.execute_reply.started": "2024-07-17T08:24:05.366892Z"
    }
   },
   "outputs": [
    {
     "data": {
      "text/html": [
       "\n",
       "<style>\n",
       "    /* Turns off some styling */\n",
       "    progress {\n",
       "        /* gets rid of default border in Firefox and Opera. */\n",
       "        border: none;\n",
       "        /* Needs to be in here for Safari polyfill so background images work as expected. */\n",
       "        background-size: auto;\n",
       "    }\n",
       "    progress:not([value]), progress:not([value])::-webkit-progress-bar {\n",
       "        background: repeating-linear-gradient(45deg, #7e7e7e, #7e7e7e 10px, #5c5c5c 10px, #5c5c5c 20px);\n",
       "    }\n",
       "    .progress-bar-interrupted, .progress-bar-interrupted::-webkit-progress-bar {\n",
       "        background: #F44336;\n",
       "    }\n",
       "</style>\n"
      ],
      "text/plain": [
       "<IPython.core.display.HTML object>"
      ]
     },
     "metadata": {},
     "output_type": "display_data"
    },
    {
     "data": {
      "text/html": [
       "\n",
       "    <div>\n",
       "      <progress value='3219456' class='' max='3214948' style='width:300px; height:20px; vertical-align: middle;'></progress>\n",
       "      100.14% [3219456/3214948 00:00&lt;00:00]\n",
       "    </div>\n",
       "    "
      ],
      "text/plain": [
       "<IPython.core.display.HTML object>"
      ]
     },
     "metadata": {},
     "output_type": "display_data"
    },
    {
     "data": {
      "text/plain": [
       "(#3) [Path('valid'),Path('labels.csv'),Path('train')]"
      ]
     },
     "execution_count": 3,
     "metadata": {},
     "output_type": "execute_result"
    },
    {
     "data": {
      "text/plain": [
       "(#2) [Path('train/7'),Path('train/3')]"
      ]
     },
     "execution_count": 3,
     "metadata": {},
     "output_type": "execute_result"
    }
   ],
   "source": [
    "path = untar_data(URLs.MNIST_SAMPLE)\n",
    "Path.BASE_PATH = path\n",
    "\n",
    "path.ls()\n",
    "\n",
    "(path/'train').ls()\n"
   ]
  },
  {
   "cell_type": "code",
   "execution_count": 4,
   "metadata": {
    "execution": {
     "iopub.execute_input": "2024-07-17T08:24:09.024846Z",
     "iopub.status.busy": "2024-07-17T08:24:09.024468Z",
     "iopub.status.idle": "2024-07-17T08:24:09.173564Z",
     "shell.execute_reply": "2024-07-17T08:24:09.172565Z",
     "shell.execute_reply.started": "2024-07-17T08:24:09.024805Z"
    }
   },
   "outputs": [
    {
     "data": {
      "image/png": "[encoded data removed]",
      "text/plain": [
       "<PIL.PngImagePlugin.PngImageFile image mode=L size=28x28>"
      ]
     },
     "execution_count": 4,
     "metadata": {},
     "output_type": "execute_result"
    },
    {
     "data": {
      "image/png": "[encoded data removed]",
      "text/plain": [
       "<PIL.PngImagePlugin.PngImageFile image mode=L size=28x28>"
      ]
     },
     "execution_count": 4,
     "metadata": {},
     "output_type": "execute_result"
    }
   ],
   "source": [
    "## Loading images\n",
    "threes = (path/'train'/'3').ls().sorted()\n",
    "sevens = (path/'train'/'7').ls().sorted()\n",
    "\n",
    "img3_path = threes[2]\n",
    "img3 = Image.open(img3_path)\n",
    "img3\n",
    "\n",
    "img7_path = sevens[2]\n",
    "img7 = Image.open(img7_path)\n",
    "img7"
   ]
  },
  {
   "cell_type": "code",
   "execution_count": 5,
   "metadata": {
    "execution": {
     "iopub.execute_input": "2024-07-17T08:24:09.177413Z",
     "iopub.status.busy": "2024-07-17T08:24:09.176959Z",
     "iopub.status.idle": "2024-07-17T08:24:09.183669Z",
     "shell.execute_reply": "2024-07-17T08:24:09.182680Z",
     "shell.execute_reply.started": "2024-07-17T08:24:09.177372Z"
    }
   },
   "outputs": [
    {
     "data": {
      "text/plain": [
       "784"
      ]
     },
     "execution_count": 5,
     "metadata": {},
     "output_type": "execute_result"
    }
   ],
   "source": [
    "28*28"
   ]
  },
  {
   "cell_type": "code",
   "execution_count": 6,
   "metadata": {
    "execution": {
     "iopub.execute_input": "2024-07-17T08:24:09.185164Z",
     "iopub.status.busy": "2024-07-17T08:24:09.184833Z",
     "iopub.status.idle": "2024-07-17T08:24:09.600034Z",
     "shell.execute_reply": "2024-07-17T08:24:09.598762Z",
     "shell.execute_reply.started": "2024-07-17T08:24:09.185135Z"
    }
   },
   "outputs": [
    {
     "data": {
      "text/html": [
       "<style type=\"text/css\">\n",
       "#T_a0588_row0_col0, #T_a0588_row0_col1, #T_a0588_row0_col2, #T_a0588_row0_col3, #T_a0588_row0_col4, #T_a0588_row0_col5, #T_a0588_row0_col6, #T_a0588_row0_col7, #T_a0588_row0_col8, #T_a0588_row0_col9, #T_a0588_row0_col10, #T_a0588_row0_col11, #T_a0588_row0_col12, #T_a0588_row0_col13, #T_a0588_row0_col14, #T_a0588_row0_col15, #T_a0588_row0_col16, #T_a0588_row0_col17, #T_a0588_row0_col18, #T_a0588_row0_col19, #T_a0588_row0_col20, #T_a0588_row0_col21, #T_a0588_row0_col22, #T_a0588_row0_col23, #T_a0588_row0_col24, #T_a0588_row0_col25, #T_a0588_row0_col26, #T_a0588_row0_col27, #T_a0588_row1_col0, #T_a0588_row1_col1, #T_a0588_row1_col2, #T_a0588_row1_col3, #T_a0588_row1_col4, #T_a0588_row1_col5, #T_a0588_row1_col6, #T_a0588_row1_col7, #T_a0588_row1_col8, #T_a0588_row1_col9, #T_a0588_row1_col10, #T_a0588_row1_col11, #T_a0588_row1_col12, #T_a0588_row1_col13, #T_a0588_row1_col14, #T_a0588_row1_col15, #T_a0588_row1_col16, #T_a0588_row1_col17, #T_a0588_row1_col18, #T_a0588_row1_col19, #T_a0588_row1_col20, #T_a0588_row1_col21, #T_a0588_row1_col22, #T_a0588_row1_col23, #T_a0588_row1_col24, #T_a0588_row1_col25, #T_a0588_row1_col26, #T_a0588_row1_col27, #T_a0588_row2_col0, #T_a0588_row2_col1, #T_a0588_row2_col2, #T_a0588_row2_col3, #T_a0588_row2_col4, #T_a0588_row2_col5, #T_a0588_row2_col6, #T_a0588_row2_col7, #T_a0588_row2_col8, #T_a0588_row2_col9, #T_a0588_row2_col10, #T_a0588_row2_col11, #T_a0588_row2_col12, #T_a0588_row2_col13, #T_a0588_row2_col14, #T_a0588_row2_col15, #T_a0588_row2_col16, #T_a0588_row2_col17, #T_a0588_row2_col18, #T_a0588_row2_col19, #T_a0588_row2_col20, #T_a0588_row2_col21, #T_a0588_row2_col22, #T_a0588_row2_col23, #T_a0588_row2_col24, #T_a0588_row2_col25, #T_a0588_row2_col26, #T_a0588_row2_col27, #T_a0588_row3_col0, #T_a0588_row3_col1, #T_a0588_row3_col2, #T_a0588_row3_col3, #T_a0588_row3_col4, #T_a0588_row3_col5, #T_a0588_row3_col6, #T_a0588_row3_col7, #T_a0588_row3_col8, #T_a0588_row3_col9, #T_a0588_row3_col10, #T_a0588_row3_col11, #T_a0588_row3_col12, #T_a0588_row3_col13, #T_a0588_row3_col14, #T_a0588_row3_col15, #T_a0588_row3_col16, #T_a0588_row3_col17, #T_a0588_row3_col18, #T_a0588_row3_col19, #T_a0588_row3_col20, #T_a0588_row3_col21, #T_a0588_row3_col22, #T_a0588_row3_col23, #T_a0588_row3_col24, #T_a0588_row3_col25, #T_a0588_row3_col26, #T_a0588_row3_col27, #T_a0588_row4_col0, #T_a0588_row4_col1, #T_a0588_row4_col2, #T_a0588_row4_col3, #T_a0588_row4_col4, #T_a0588_row4_col5, #T_a0588_row4_col6, #T_a0588_row4_col7, #T_a0588_row4_col8, #T_a0588_row4_col9, #T_a0588_row4_col10, #T_a0588_row4_col11, #T_a0588_row4_col12, #T_a0588_row4_col13, #T_a0588_row4_col14, #T_a0588_row4_col15, #T_a0588_row4_col16, #T_a0588_row4_col17, #T_a0588_row4_col18, #T_a0588_row4_col19, #T_a0588_row4_col20, #T_a0588_row4_col21, #T_a0588_row4_col22, #T_a0588_row4_col23, #T_a0588_row4_col24, #T_a0588_row4_col25, #T_a0588_row4_col26, #T_a0588_row4_col27, #T_a0588_row5_col0, #T_a0588_row5_col1, #T_a0588_row5_col2, #T_a0588_row5_col3, #T_a0588_row5_col4, #T_a0588_row5_col5, #T_a0588_row5_col6, #T_a0588_row5_col7, #T_a0588_row5_col8, #T_a0588_row5_col9, #T_a0588_row5_col10, #T_a0588_row5_col20, #T_a0588_row5_col21, #T_a0588_row5_col22, #T_a0588_row5_col23, #T_a0588_row5_col24, #T_a0588_row5_col25, #T_a0588_row5_col26, #T_a0588_row5_col27, #T_a0588_row6_col0, #T_a0588_row6_col1, #T_a0588_row6_col2, #T_a0588_row6_col3, #T_a0588_row6_col4, #T_a0588_row6_col5, #T_a0588_row6_col6, #T_a0588_row6_col7, #T_a0588_row6_col21, #T_a0588_row6_col22, #T_a0588_row6_col23, #T_a0588_row6_col24, #T_a0588_row6_col25, #T_a0588_row6_col26, #T_a0588_row6_col27, #T_a0588_row7_col0, #T_a0588_row7_col1, #T_a0588_row7_col2, #T_a0588_row7_col3, #T_a0588_row7_col4, #T_a0588_row7_col5, #T_a0588_row7_col6, #T_a0588_row7_col7, #T_a0588_row7_col21, #T_a0588_row7_col22, #T_a0588_row7_col23, #T_a0588_row7_col24, #T_a0588_row7_col25, #T_a0588_row7_col26, #T_a0588_row7_col27, #T_a0588_row8_col0, #T_a0588_row8_col1, #T_a0588_row8_col2, #T_a0588_row8_col3, #T_a0588_row8_col4, #T_a0588_row8_col5, #T_a0588_row8_col6, #T_a0588_row8_col7, #T_a0588_row8_col13, #T_a0588_row8_col14, #T_a0588_row8_col15, #T_a0588_row8_col16, #T_a0588_row8_col21, #T_a0588_row8_col22, #T_a0588_row8_col23, #T_a0588_row8_col24, #T_a0588_row8_col25, #T_a0588_row8_col26, #T_a0588_row8_col27, #T_a0588_row9_col0, #T_a0588_row9_col1, #T_a0588_row9_col2, #T_a0588_row9_col3, #T_a0588_row9_col4, #T_a0588_row9_col5, #T_a0588_row9_col6, #T_a0588_row9_col7, #T_a0588_row9_col11, #T_a0588_row9_col12, #T_a0588_row9_col13, #T_a0588_row9_col14, #T_a0588_row9_col15, #T_a0588_row9_col21, #T_a0588_row9_col22, #T_a0588_row9_col23, #T_a0588_row9_col24, #T_a0588_row9_col25, #T_a0588_row9_col26, #T_a0588_row9_col27, #T_a0588_row10_col0, #T_a0588_row10_col1, #T_a0588_row10_col2, #T_a0588_row10_col3, #T_a0588_row10_col4, #T_a0588_row10_col5, #T_a0588_row10_col6, #T_a0588_row10_col7, #T_a0588_row10_col8, #T_a0588_row10_col9, #T_a0588_row10_col10, #T_a0588_row10_col11, #T_a0588_row10_col12, #T_a0588_row10_col13, #T_a0588_row10_col21, #T_a0588_row10_col22, #T_a0588_row10_col23, #T_a0588_row10_col24, #T_a0588_row10_col25, #T_a0588_row10_col26, #T_a0588_row10_col27, #T_a0588_row11_col0, #T_a0588_row11_col1, #T_a0588_row11_col2, #T_a0588_row11_col3, #T_a0588_row11_col4, #T_a0588_row11_col5, #T_a0588_row11_col6, #T_a0588_row11_col7, #T_a0588_row11_col8, #T_a0588_row11_col9, #T_a0588_row11_col10, #T_a0588_row11_col20, #T_a0588_row11_col21, #T_a0588_row11_col22, #T_a0588_row11_col23, #T_a0588_row11_col24, #T_a0588_row11_col25, #T_a0588_row11_col26, #T_a0588_row11_col27, #T_a0588_row12_col0, #T_a0588_row12_col1, #T_a0588_row12_col2, #T_a0588_row12_col3, #T_a0588_row12_col4, #T_a0588_row12_col5, #T_a0588_row12_col6, #T_a0588_row12_col7, #T_a0588_row12_col8, #T_a0588_row12_col9, #T_a0588_row12_col19, #T_a0588_row12_col20, #T_a0588_row12_col21, #T_a0588_row12_col22, #T_a0588_row12_col23, #T_a0588_row12_col24, #T_a0588_row12_col25, #T_a0588_row12_col26, #T_a0588_row12_col27, #T_a0588_row13_col0, #T_a0588_row13_col1, #T_a0588_row13_col2, #T_a0588_row13_col3, #T_a0588_row13_col4, #T_a0588_row13_col5, #T_a0588_row13_col6, #T_a0588_row13_col7, #T_a0588_row13_col8, #T_a0588_row13_col9, #T_a0588_row13_col19, #T_a0588_row13_col20, #T_a0588_row13_col21, #T_a0588_row13_col22, #T_a0588_row13_col23, #T_a0588_row13_col24, #T_a0588_row13_col25, #T_a0588_row13_col26, #T_a0588_row13_col27, #T_a0588_row14_col0, #T_a0588_row14_col1, #T_a0588_row14_col2, #T_a0588_row14_col3, #T_a0588_row14_col4, #T_a0588_row14_col5, #T_a0588_row14_col6, #T_a0588_row14_col7, #T_a0588_row14_col8, #T_a0588_row14_col9, #T_a0588_row14_col10, #T_a0588_row14_col15, #T_a0588_row14_col16, #T_a0588_row14_col20, #T_a0588_row14_col21, #T_a0588_row14_col22, #T_a0588_row14_col23, #T_a0588_row14_col24, #T_a0588_row14_col25, #T_a0588_row14_col26, #T_a0588_row14_col27, #T_a0588_row15_col0, #T_a0588_row15_col1, #T_a0588_row15_col2, #T_a0588_row15_col3, #T_a0588_row15_col4, #T_a0588_row15_col5, #T_a0588_row15_col6, #T_a0588_row15_col7, #T_a0588_row15_col8, #T_a0588_row15_col9, #T_a0588_row15_col10, #T_a0588_row15_col11, #T_a0588_row15_col12, #T_a0588_row15_col13, #T_a0588_row15_col14, #T_a0588_row15_col15, #T_a0588_row15_col16, #T_a0588_row15_col20, #T_a0588_row15_col21, #T_a0588_row15_col22, #T_a0588_row15_col23, #T_a0588_row15_col24, #T_a0588_row15_col25, #T_a0588_row15_col26, #T_a0588_row15_col27, #T_a0588_row16_col0, #T_a0588_row16_col1, #T_a0588_row16_col2, #T_a0588_row16_col3, #T_a0588_row16_col4, #T_a0588_row16_col5, #T_a0588_row16_col6, #T_a0588_row16_col7, #T_a0588_row16_col8, #T_a0588_row16_col9, #T_a0588_row16_col10, #T_a0588_row16_col11, #T_a0588_row16_col12, #T_a0588_row16_col13, #T_a0588_row16_col14, #T_a0588_row16_col15, #T_a0588_row16_col16, #T_a0588_row16_col20, #T_a0588_row16_col21, #T_a0588_row16_col22, #T_a0588_row16_col23, #T_a0588_row16_col24, #T_a0588_row16_col25, #T_a0588_row16_col26, #T_a0588_row16_col27, #T_a0588_row17_col0, #T_a0588_row17_col1, #T_a0588_row17_col2, #T_a0588_row17_col3, #T_a0588_row17_col4, #T_a0588_row17_col5, #T_a0588_row17_col6, #T_a0588_row17_col7, #T_a0588_row17_col8, #T_a0588_row17_col9, #T_a0588_row17_col10, #T_a0588_row17_col11, #T_a0588_row17_col12, #T_a0588_row17_col13, #T_a0588_row17_col14, #T_a0588_row17_col15, #T_a0588_row17_col16, #T_a0588_row17_col20, #T_a0588_row17_col21, #T_a0588_row17_col22, #T_a0588_row17_col23, #T_a0588_row17_col24, #T_a0588_row17_col25, #T_a0588_row17_col26, #T_a0588_row17_col27, #T_a0588_row18_col0, #T_a0588_row18_col1, #T_a0588_row18_col2, #T_a0588_row18_col3, #T_a0588_row18_col4, #T_a0588_row18_col5, #T_a0588_row18_col10, #T_a0588_row18_col11, #T_a0588_row18_col12, #T_a0588_row18_col13, #T_a0588_row18_col14, #T_a0588_row18_col15, #T_a0588_row18_col16, #T_a0588_row18_col20, #T_a0588_row18_col21, #T_a0588_row18_col22, #T_a0588_row18_col23, #T_a0588_row18_col24, #T_a0588_row18_col25, #T_a0588_row18_col26, #T_a0588_row18_col27, #T_a0588_row19_col0, #T_a0588_row19_col1, #T_a0588_row19_col2, #T_a0588_row19_col3, #T_a0588_row19_col4, #T_a0588_row19_col5, #T_a0588_row19_col11, #T_a0588_row19_col12, #T_a0588_row19_col13, #T_a0588_row19_col14, #T_a0588_row19_col15, #T_a0588_row19_col20, #T_a0588_row19_col21, #T_a0588_row19_col22, #T_a0588_row19_col23, #T_a0588_row19_col24, #T_a0588_row19_col25, #T_a0588_row19_col26, #T_a0588_row19_col27, #T_a0588_row20_col0, #T_a0588_row20_col1, #T_a0588_row20_col2, #T_a0588_row20_col3, #T_a0588_row20_col4, #T_a0588_row20_col5, #T_a0588_row20_col6, #T_a0588_row20_col11, #T_a0588_row20_col12, #T_a0588_row20_col13, #T_a0588_row20_col14, #T_a0588_row20_col20, #T_a0588_row20_col21, #T_a0588_row20_col22, #T_a0588_row20_col23, #T_a0588_row20_col24, #T_a0588_row20_col25, #T_a0588_row20_col26, #T_a0588_row20_col27, #T_a0588_row21_col0, #T_a0588_row21_col1, #T_a0588_row21_col2, #T_a0588_row21_col3, #T_a0588_row21_col4, #T_a0588_row21_col5, #T_a0588_row21_col6, #T_a0588_row21_col12, #T_a0588_row21_col13, #T_a0588_row21_col19, #T_a0588_row21_col20, #T_a0588_row21_col21, #T_a0588_row21_col22, #T_a0588_row21_col23, #T_a0588_row21_col24, #T_a0588_row21_col25, #T_a0588_row21_col26, #T_a0588_row21_col27, #T_a0588_row22_col0, #T_a0588_row22_col1, #T_a0588_row22_col2, #T_a0588_row22_col3, #T_a0588_row22_col4, #T_a0588_row22_col5, #T_a0588_row22_col6, #T_a0588_row22_col7, #T_a0588_row22_col19, #T_a0588_row22_col20, #T_a0588_row22_col21, #T_a0588_row22_col22, #T_a0588_row22_col23, #T_a0588_row22_col24, #T_a0588_row22_col25, #T_a0588_row22_col26, #T_a0588_row22_col27, #T_a0588_row23_col0, #T_a0588_row23_col1, #T_a0588_row23_col2, #T_a0588_row23_col3, #T_a0588_row23_col4, #T_a0588_row23_col5, #T_a0588_row23_col6, #T_a0588_row23_col7, #T_a0588_row23_col8, #T_a0588_row23_col18, #T_a0588_row23_col19, #T_a0588_row23_col20, #T_a0588_row23_col21, #T_a0588_row23_col22, #T_a0588_row23_col23, #T_a0588_row23_col24, #T_a0588_row23_col25, #T_a0588_row23_col26, #T_a0588_row23_col27, #T_a0588_row24_col0, #T_a0588_row24_col1, #T_a0588_row24_col2, #T_a0588_row24_col3, #T_a0588_row24_col4, #T_a0588_row24_col5, #T_a0588_row24_col6, #T_a0588_row24_col7, #T_a0588_row24_col8, #T_a0588_row24_col9, #T_a0588_row24_col17, #T_a0588_row24_col18, #T_a0588_row24_col19, #T_a0588_row24_col20, #T_a0588_row24_col21, #T_a0588_row24_col22, #T_a0588_row24_col23, #T_a0588_row24_col24, #T_a0588_row24_col25, #T_a0588_row24_col26, #T_a0588_row24_col27, #T_a0588_row25_col0, #T_a0588_row25_col1, #T_a0588_row25_col2, #T_a0588_row25_col3, #T_a0588_row25_col4, #T_a0588_row25_col5, #T_a0588_row25_col6, #T_a0588_row25_col7, #T_a0588_row25_col8, #T_a0588_row25_col9, #T_a0588_row25_col10, #T_a0588_row25_col11, #T_a0588_row25_col12, #T_a0588_row25_col13, #T_a0588_row25_col14, #T_a0588_row25_col15, #T_a0588_row25_col16, #T_a0588_row25_col17, #T_a0588_row25_col18, #T_a0588_row25_col19, #T_a0588_row25_col20, #T_a0588_row25_col21, #T_a0588_row25_col22, #T_a0588_row25_col23, #T_a0588_row25_col24, #T_a0588_row25_col25, #T_a0588_row25_col26, #T_a0588_row25_col27, #T_a0588_row26_col0, #T_a0588_row26_col1, #T_a0588_row26_col2, #T_a0588_row26_col3, #T_a0588_row26_col4, #T_a0588_row26_col5, #T_a0588_row26_col6, #T_a0588_row26_col7, #T_a0588_row26_col8, #T_a0588_row26_col9, #T_a0588_row26_col10, #T_a0588_row26_col11, #T_a0588_row26_col12, #T_a0588_row26_col13, #T_a0588_row26_col14, #T_a0588_row26_col15, #T_a0588_row26_col16, #T_a0588_row26_col17, #T_a0588_row26_col18, #T_a0588_row26_col19, #T_a0588_row26_col20, #T_a0588_row26_col21, #T_a0588_row26_col22, #T_a0588_row26_col23, #T_a0588_row26_col24, #T_a0588_row26_col25, #T_a0588_row26_col26, #T_a0588_row26_col27, #T_a0588_row27_col0, #T_a0588_row27_col1, #T_a0588_row27_col2, #T_a0588_row27_col3, #T_a0588_row27_col4, #T_a0588_row27_col5, #T_a0588_row27_col6, #T_a0588_row27_col7, #T_a0588_row27_col8, #T_a0588_row27_col9, #T_a0588_row27_col10, #T_a0588_row27_col11, #T_a0588_row27_col12, #T_a0588_row27_col13, #T_a0588_row27_col14, #T_a0588_row27_col15, #T_a0588_row27_col16, #T_a0588_row27_col17, #T_a0588_row27_col18, #T_a0588_row27_col19, #T_a0588_row27_col20, #T_a0588_row27_col21, #T_a0588_row27_col22, #T_a0588_row27_col23, #T_a0588_row27_col24, #T_a0588_row27_col25, #T_a0588_row27_col26, #T_a0588_row27_col27 {\n",
       "  font-size: 6pt;\n",
       "  background-color: #ffffff;\n",
       "  color: #000000;\n",
       "}\n",
       "#T_a0588_row5_col11, #T_a0588_row9_col8, #T_a0588_row14_col14 {\n",
       "  font-size: 6pt;\n",
       "  background-color: #f7f7f7;\n",
       "  color: #000000;\n",
       "}\n",
       "#T_a0588_row5_col12, #T_a0588_row13_col16 {\n",
       "  font-size: 6pt;\n",
       "  background-color: #bebebe;\n",
       "  color: #000000;\n",
       "}\n",
       "#T_a0588_row5_col13 {\n",
       "  font-size: 6pt;\n",
       "  background-color: #6d6d6d;\n",
       "  color: #f1f1f1;\n",
       "}\n",
       "#T_a0588_row5_col14, #T_a0588_row5_col15, #T_a0588_row5_col16, #T_a0588_row5_col17, #T_a0588_row5_col18, #T_a0588_row6_col11, #T_a0588_row6_col12, #T_a0588_row6_col13, #T_a0588_row7_col9, #T_a0588_row7_col10, #T_a0588_row7_col11, #T_a0588_row7_col19, #T_a0588_row8_col9, #T_a0588_row8_col19, #T_a0588_row8_col20, #T_a0588_row9_col19, #T_a0588_row12_col12, #T_a0588_row12_col13, #T_a0588_row13_col12, #T_a0588_row13_col13, #T_a0588_row19_col6, #T_a0588_row19_col7, #T_a0588_row19_col8, #T_a0588_row20_col8, #T_a0588_row20_col9, #T_a0588_row21_col9, #T_a0588_row22_col10, #T_a0588_row23_col11, #T_a0588_row23_col12, #T_a0588_row23_col13, #T_a0588_row24_col12, #T_a0588_row24_col13 {\n",
       "  font-size: 6pt;\n",
       "  background-color: #000000;\n",
       "  color: #f1f1f1;\n",
       "}\n",
       "#T_a0588_row5_col19, #T_a0588_row6_col10, #T_a0588_row9_col9 {\n",
       "  font-size: 6pt;\n",
       "  background-color: #7b7b7b;\n",
       "  color: #f1f1f1;\n",
       "}\n",
       "#T_a0588_row6_col8, #T_a0588_row6_col20 {\n",
       "  font-size: 6pt;\n",
       "  background-color: #f9f9f9;\n",
       "  color: #000000;\n",
       "}\n",
       "#T_a0588_row6_col9 {\n",
       "  font-size: 6pt;\n",
       "  background-color: #ededed;\n",
       "  color: #000000;\n",
       "}\n",
       "#T_a0588_row6_col14, #T_a0588_row6_col16, #T_a0588_row8_col10, #T_a0588_row9_col18, #T_a0588_row10_col17, #T_a0588_row10_col18, #T_a0588_row11_col16, #T_a0588_row11_col17, #T_a0588_row12_col14, #T_a0588_row12_col16, #T_a0588_row12_col17, #T_a0588_row15_col18, #T_a0588_row16_col18, #T_a0588_row17_col18, #T_a0588_row18_col18, #T_a0588_row19_col18, #T_a0588_row20_col17, #T_a0588_row21_col16, #T_a0588_row21_col17, #T_a0588_row22_col16, #T_a0588_row23_col14 {\n",
       "  font-size: 6pt;\n",
       "  background-color: #010101;\n",
       "  color: #f1f1f1;\n",
       "}\n",
       "#T_a0588_row6_col15, #T_a0588_row11_col15, #T_a0588_row12_col15, #T_a0588_row22_col15, #T_a0588_row23_col15 {\n",
       "  font-size: 6pt;\n",
       "  background-color: #020202;\n",
       "  color: #f1f1f1;\n",
       "}\n",
       "#T_a0588_row6_col17 {\n",
       "  font-size: 6pt;\n",
       "  background-color: #2b2b2b;\n",
       "  color: #f1f1f1;\n",
       "}\n",
       "#T_a0588_row6_col18 {\n",
       "  font-size: 6pt;\n",
       "  background-color: #111111;\n",
       "  color: #f1f1f1;\n",
       "}\n",
       "#T_a0588_row6_col19 {\n",
       "  font-size: 6pt;\n",
       "  background-color: #303030;\n",
       "  color: #f1f1f1;\n",
       "}\n",
       "#T_a0588_row7_col8, #T_a0588_row8_col8 {\n",
       "  font-size: 6pt;\n",
       "  background-color: #c2c2c2;\n",
       "  color: #000000;\n",
       "}\n",
       "#T_a0588_row7_col12, #T_a0588_row20_col16 {\n",
       "  font-size: 6pt;\n",
       "  background-color: #090909;\n",
       "  color: #f1f1f1;\n",
       "}\n",
       "#T_a0588_row7_col13 {\n",
       "  font-size: 6pt;\n",
       "  background-color: #646464;\n",
       "  color: #f1f1f1;\n",
       "}\n",
       "#T_a0588_row7_col14, #T_a0588_row7_col15, #T_a0588_row7_col16 {\n",
       "  font-size: 6pt;\n",
       "  background-color: #c9c9c9;\n",
       "  color: #000000;\n",
       "}\n",
       "#T_a0588_row7_col17, #T_a0588_row19_col10 {\n",
       "  font-size: 6pt;\n",
       "  background-color: #fefefe;\n",
       "  color: #000000;\n",
       "}\n",
       "#T_a0588_row7_col18 {\n",
       "  font-size: 6pt;\n",
       "  background-color: #7e7e7e;\n",
       "  color: #f1f1f1;\n",
       "}\n",
       "#T_a0588_row7_col20 {\n",
       "  font-size: 6pt;\n",
       "  background-color: #404040;\n",
       "  color: #f1f1f1;\n",
       "}\n",
       "#T_a0588_row8_col11 {\n",
       "  font-size: 6pt;\n",
       "  background-color: #656565;\n",
       "  color: #f1f1f1;\n",
       "}\n",
       "#T_a0588_row8_col12 {\n",
       "  font-size: 6pt;\n",
       "  background-color: #e0e0e0;\n",
       "  color: #000000;\n",
       "}\n",
       "#T_a0588_row8_col17 {\n",
       "  font-size: 6pt;\n",
       "  background-color: #ececec;\n",
       "  color: #000000;\n",
       "}\n",
       "#T_a0588_row8_col18 {\n",
       "  font-size: 6pt;\n",
       "  background-color: #606060;\n",
       "  color: #f1f1f1;\n",
       "}\n",
       "#T_a0588_row9_col10 {\n",
       "  font-size: 6pt;\n",
       "  background-color: #e2e2e2;\n",
       "  color: #000000;\n",
       "}\n",
       "#T_a0588_row9_col16 {\n",
       "  font-size: 6pt;\n",
       "  background-color: #eaeaea;\n",
       "  color: #000000;\n",
       "}\n",
       "#T_a0588_row9_col17 {\n",
       "  font-size: 6pt;\n",
       "  background-color: #1d1d1d;\n",
       "  color: #f1f1f1;\n",
       "}\n",
       "#T_a0588_row9_col20 {\n",
       "  font-size: 6pt;\n",
       "  background-color: #464646;\n",
       "  color: #f1f1f1;\n",
       "}\n",
       "#T_a0588_row10_col14 {\n",
       "  font-size: 6pt;\n",
       "  background-color: #c8c8c8;\n",
       "  color: #000000;\n",
       "}\n",
       "#T_a0588_row10_col15, #T_a0588_row12_col11 {\n",
       "  font-size: 6pt;\n",
       "  background-color: #3d3d3d;\n",
       "  color: #f1f1f1;\n",
       "}\n",
       "#T_a0588_row10_col16 {\n",
       "  font-size: 6pt;\n",
       "  background-color: #141414;\n",
       "  color: #f1f1f1;\n",
       "}\n",
       "#T_a0588_row10_col19, #T_a0588_row20_col18 {\n",
       "  font-size: 6pt;\n",
       "  background-color: #333333;\n",
       "  color: #f1f1f1;\n",
       "}\n",
       "#T_a0588_row10_col20, #T_a0588_row24_col16 {\n",
       "  font-size: 6pt;\n",
       "  background-color: #fafafa;\n",
       "  color: #000000;\n",
       "}\n",
       "#T_a0588_row11_col11 {\n",
       "  font-size: 6pt;\n",
       "  background-color: #d4d4d4;\n",
       "  color: #000000;\n",
       "}\n",
       "#T_a0588_row11_col12 {\n",
       "  font-size: 6pt;\n",
       "  background-color: #848484;\n",
       "  color: #f1f1f1;\n",
       "}\n",
       "#T_a0588_row11_col13, #T_a0588_row14_col18 {\n",
       "  font-size: 6pt;\n",
       "  background-color: #0c0c0c;\n",
       "  color: #f1f1f1;\n",
       "}\n",
       "#T_a0588_row11_col14, #T_a0588_row19_col17 {\n",
       "  font-size: 6pt;\n",
       "  background-color: #030303;\n",
       "  color: #f1f1f1;\n",
       "}\n",
       "#T_a0588_row11_col18 {\n",
       "  font-size: 6pt;\n",
       "  background-color: #5c5c5c;\n",
       "  color: #f1f1f1;\n",
       "}\n",
       "#T_a0588_row11_col19 {\n",
       "  font-size: 6pt;\n",
       "  background-color: #e3e3e3;\n",
       "  color: #000000;\n",
       "}\n",
       "#T_a0588_row12_col10, #T_a0588_row13_col10 {\n",
       "  font-size: 6pt;\n",
       "  background-color: #fdfdfd;\n",
       "  color: #000000;\n",
       "}\n",
       "#T_a0588_row12_col18, #T_a0588_row21_col18 {\n",
       "  font-size: 6pt;\n",
       "  background-color: #b0b0b0;\n",
       "  color: #000000;\n",
       "}\n",
       "#T_a0588_row13_col11 {\n",
       "  font-size: 6pt;\n",
       "  background-color: #151515;\n",
       "  color: #f1f1f1;\n",
       "}\n",
       "#T_a0588_row13_col14 {\n",
       "  font-size: 6pt;\n",
       "  background-color: #272727;\n",
       "  color: #f1f1f1;\n",
       "}\n",
       "#T_a0588_row13_col15 {\n",
       "  font-size: 6pt;\n",
       "  background-color: #6b6b6b;\n",
       "  color: #f1f1f1;\n",
       "}\n",
       "#T_a0588_row13_col17, #T_a0588_row23_col10 {\n",
       "  font-size: 6pt;\n",
       "  background-color: #050505;\n",
       "  color: #f1f1f1;\n",
       "}\n",
       "#T_a0588_row13_col18, #T_a0588_row15_col19 {\n",
       "  font-size: 6pt;\n",
       "  background-color: #999999;\n",
       "  color: #f1f1f1;\n",
       "}\n",
       "#T_a0588_row14_col11 {\n",
       "  font-size: 6pt;\n",
       "  background-color: #aaaaaa;\n",
       "  color: #f1f1f1;\n",
       "}\n",
       "#T_a0588_row14_col12 {\n",
       "  font-size: 6pt;\n",
       "  background-color: #616161;\n",
       "  color: #f1f1f1;\n",
       "}\n",
       "#T_a0588_row14_col13 {\n",
       "  font-size: 6pt;\n",
       "  background-color: #cecece;\n",
       "  color: #000000;\n",
       "}\n",
       "#T_a0588_row14_col17, #T_a0588_row18_col17, #T_a0588_row22_col11 {\n",
       "  font-size: 6pt;\n",
       "  background-color: #060606;\n",
       "  color: #f1f1f1;\n",
       "}\n",
       "#T_a0588_row14_col19, #T_a0588_row20_col15 {\n",
       "  font-size: 6pt;\n",
       "  background-color: #dadada;\n",
       "  color: #000000;\n",
       "}\n",
       "#T_a0588_row15_col17 {\n",
       "  font-size: 6pt;\n",
       "  background-color: #323232;\n",
       "  color: #f1f1f1;\n",
       "}\n",
       "#T_a0588_row16_col17 {\n",
       "  font-size: 6pt;\n",
       "  background-color: #929292;\n",
       "  color: #f1f1f1;\n",
       "}\n",
       "#T_a0588_row16_col19, #T_a0588_row17_col19 {\n",
       "  font-size: 6pt;\n",
       "  background-color: #3a3a3a;\n",
       "  color: #f1f1f1;\n",
       "}\n",
       "#T_a0588_row17_col17 {\n",
       "  font-size: 6pt;\n",
       "  background-color: #131313;\n",
       "  color: #f1f1f1;\n",
       "}\n",
       "#T_a0588_row18_col6, #T_a0588_row20_col10 {\n",
       "  font-size: 6pt;\n",
       "  background-color: #efefef;\n",
       "  color: #000000;\n",
       "}\n",
       "#T_a0588_row18_col7 {\n",
       "  font-size: 6pt;\n",
       "  background-color: #242424;\n",
       "  color: #f1f1f1;\n",
       "}\n",
       "#T_a0588_row18_col8, #T_a0588_row21_col15 {\n",
       "  font-size: 6pt;\n",
       "  background-color: #393939;\n",
       "  color: #f1f1f1;\n",
       "}\n",
       "#T_a0588_row18_col9 {\n",
       "  font-size: 6pt;\n",
       "  background-color: #f5f5f5;\n",
       "  color: #000000;\n",
       "}\n",
       "#T_a0588_row18_col19 {\n",
       "  font-size: 6pt;\n",
       "  background-color: #828282;\n",
       "  color: #f1f1f1;\n",
       "}\n",
       "#T_a0588_row19_col9 {\n",
       "  font-size: 6pt;\n",
       "  background-color: #727272;\n",
       "  color: #f1f1f1;\n",
       "}\n",
       "#T_a0588_row19_col16 {\n",
       "  font-size: 6pt;\n",
       "  background-color: #cbcbcb;\n",
       "  color: #000000;\n",
       "}\n",
       "#T_a0588_row19_col19 {\n",
       "  font-size: 6pt;\n",
       "  background-color: #c3c3c3;\n",
       "  color: #000000;\n",
       "}\n",
       "#T_a0588_row20_col7 {\n",
       "  font-size: 6pt;\n",
       "  background-color: #4a4a4a;\n",
       "  color: #f1f1f1;\n",
       "}\n",
       "#T_a0588_row20_col19 {\n",
       "  font-size: 6pt;\n",
       "  background-color: #f0f0f0;\n",
       "  color: #000000;\n",
       "}\n",
       "#T_a0588_row21_col7 {\n",
       "  font-size: 6pt;\n",
       "  background-color: #f4f4f4;\n",
       "  color: #000000;\n",
       "}\n",
       "#T_a0588_row21_col8 {\n",
       "  font-size: 6pt;\n",
       "  background-color: #525252;\n",
       "  color: #f1f1f1;\n",
       "}\n",
       "#T_a0588_row21_col10 {\n",
       "  font-size: 6pt;\n",
       "  background-color: #282828;\n",
       "  color: #f1f1f1;\n",
       "}\n",
       "#T_a0588_row21_col11 {\n",
       "  font-size: 6pt;\n",
       "  background-color: #a8a8a8;\n",
       "  color: #f1f1f1;\n",
       "}\n",
       "#T_a0588_row21_col14 {\n",
       "  font-size: 6pt;\n",
       "  background-color: #c5c5c5;\n",
       "  color: #000000;\n",
       "}\n",
       "#T_a0588_row22_col8 {\n",
       "  font-size: 6pt;\n",
       "  background-color: #dcdcdc;\n",
       "  color: #000000;\n",
       "}\n",
       "#T_a0588_row22_col9 {\n",
       "  font-size: 6pt;\n",
       "  background-color: #0a0a0a;\n",
       "  color: #f1f1f1;\n",
       "}\n",
       "#T_a0588_row22_col12, #T_a0588_row22_col13, #T_a0588_row24_col11 {\n",
       "  font-size: 6pt;\n",
       "  background-color: #414141;\n",
       "  color: #f1f1f1;\n",
       "}\n",
       "#T_a0588_row22_col14 {\n",
       "  font-size: 6pt;\n",
       "  background-color: #0f0f0f;\n",
       "  color: #f1f1f1;\n",
       "}\n",
       "#T_a0588_row22_col17 {\n",
       "  font-size: 6pt;\n",
       "  background-color: #353535;\n",
       "  color: #f1f1f1;\n",
       "}\n",
       "#T_a0588_row22_col18 {\n",
       "  font-size: 6pt;\n",
       "  background-color: #d2d2d2;\n",
       "  color: #000000;\n",
       "}\n",
       "#T_a0588_row23_col9 {\n",
       "  font-size: 6pt;\n",
       "  background-color: #cacaca;\n",
       "  color: #000000;\n",
       "}\n",
       "#T_a0588_row23_col16 {\n",
       "  font-size: 6pt;\n",
       "  background-color: #383838;\n",
       "  color: #f1f1f1;\n",
       "}\n",
       "#T_a0588_row23_col17, #T_a0588_row24_col10 {\n",
       "  font-size: 6pt;\n",
       "  background-color: #f6f6f6;\n",
       "  color: #000000;\n",
       "}\n",
       "#T_a0588_row24_col14 {\n",
       "  font-size: 6pt;\n",
       "  background-color: #2c2c2c;\n",
       "  color: #f1f1f1;\n",
       "}\n",
       "#T_a0588_row24_col15 {\n",
       "  font-size: 6pt;\n",
       "  background-color: #c1c1c1;\n",
       "  color: #000000;\n",
       "}\n",
       "</style>\n",
       "<table id=\"T_a0588\">\n",
       "  <thead>\n",
       "    <tr>\n",
       "      <th class=\"blank level0\" >&nbsp;</th>\n",
       "      <th id=\"T_a0588_level0_col0\" class=\"col_heading level0 col0\" >0</th>\n",
       "      <th id=\"T_a0588_level0_col1\" class=\"col_heading level0 col1\" >1</th>\n",
       "      <th id=\"T_a0588_level0_col2\" class=\"col_heading level0 col2\" >2</th>\n",
       "      <th id=\"T_a0588_level0_col3\" class=\"col_heading level0 col3\" >3</th>\n",
       "      <th id=\"T_a0588_level0_col4\" class=\"col_heading level0 col4\" >4</th>\n",
       "      <th id=\"T_a0588_level0_col5\" class=\"col_heading level0 col5\" >5</th>\n",
       "      <th id=\"T_a0588_level0_col6\" class=\"col_heading level0 col6\" >6</th>\n",
       "      <th id=\"T_a0588_level0_col7\" class=\"col_heading level0 col7\" >7</th>\n",
       "      <th id=\"T_a0588_level0_col8\" class=\"col_heading level0 col8\" >8</th>\n",
       "      <th id=\"T_a0588_level0_col9\" class=\"col_heading level0 col9\" >9</th>\n",
       "      <th id=\"T_a0588_level0_col10\" class=\"col_heading level0 col10\" >10</th>\n",
       "      <th id=\"T_a0588_level0_col11\" class=\"col_heading level0 col11\" >11</th>\n",
       "      <th id=\"T_a0588_level0_col12\" class=\"col_heading level0 col12\" >12</th>\n",
       "      <th id=\"T_a0588_level0_col13\" class=\"col_heading level0 col13\" >13</th>\n",
       "      <th id=\"T_a0588_level0_col14\" class=\"col_heading level0 col14\" >14</th>\n",
       "      <th id=\"T_a0588_level0_col15\" class=\"col_heading level0 col15\" >15</th>\n",
       "      <th id=\"T_a0588_level0_col16\" class=\"col_heading level0 col16\" >16</th>\n",
       "      <th id=\"T_a0588_level0_col17\" class=\"col_heading level0 col17\" >17</th>\n",
       "      <th id=\"T_a0588_level0_col18\" class=\"col_heading level0 col18\" >18</th>\n",
       "      <th id=\"T_a0588_level0_col19\" class=\"col_heading level0 col19\" >19</th>\n",
       "      <th id=\"T_a0588_level0_col20\" class=\"col_heading level0 col20\" >20</th>\n",
       "      <th id=\"T_a0588_level0_col21\" class=\"col_heading level0 col21\" >21</th>\n",
       "      <th id=\"T_a0588_level0_col22\" class=\"col_heading level0 col22\" >22</th>\n",
       "      <th id=\"T_a0588_level0_col23\" class=\"col_heading level0 col23\" >23</th>\n",
       "      <th id=\"T_a0588_level0_col24\" class=\"col_heading level0 col24\" >24</th>\n",
       "      <th id=\"T_a0588_level0_col25\" class=\"col_heading level0 col25\" >25</th>\n",
       "      <th id=\"T_a0588_level0_col26\" class=\"col_heading level0 col26\" >26</th>\n",
       "      <th id=\"T_a0588_level0_col27\" class=\"col_heading level0 col27\" >27</th>\n",
       "    </tr>\n",
       "  </thead>\n",
       "  <tbody>\n",
       "    <tr>\n",
       "      <th id=\"T_a0588_level0_row0\" class=\"row_heading level0 row0\" >0</th>\n",
       "      <td id=\"T_a0588_row0_col0\" class=\"data row0 col0\" >0</td>\n",
       "      <td id=\"T_a0588_row0_col1\" class=\"data row0 col1\" >0</td>\n",
       "      <td id=\"T_a0588_row0_col2\" class=\"data row0 col2\" >0</td>\n",
       "      <td id=\"T_a0588_row0_col3\" class=\"data row0 col3\" >0</td>\n",
       "      <td id=\"T_a0588_row0_col4\" class=\"data row0 col4\" >0</td>\n",
       "      <td id=\"T_a0588_row0_col5\" class=\"data row0 col5\" >0</td>\n",
       "      <td id=\"T_a0588_row0_col6\" class=\"data row0 col6\" >0</td>\n",
       "      <td id=\"T_a0588_row0_col7\" class=\"data row0 col7\" >0</td>\n",
       "      <td id=\"T_a0588_row0_col8\" class=\"data row0 col8\" >0</td>\n",
       "      <td id=\"T_a0588_row0_col9\" class=\"data row0 col9\" >0</td>\n",
       "      <td id=\"T_a0588_row0_col10\" class=\"data row0 col10\" >0</td>\n",
       "      <td id=\"T_a0588_row0_col11\" class=\"data row0 col11\" >0</td>\n",
       "      <td id=\"T_a0588_row0_col12\" class=\"data row0 col12\" >0</td>\n",
       "      <td id=\"T_a0588_row0_col13\" class=\"data row0 col13\" >0</td>\n",
       "      <td id=\"T_a0588_row0_col14\" class=\"data row0 col14\" >0</td>\n",
       "      <td id=\"T_a0588_row0_col15\" class=\"data row0 col15\" >0</td>\n",
       "      <td id=\"T_a0588_row0_col16\" class=\"data row0 col16\" >0</td>\n",
       "      <td id=\"T_a0588_row0_col17\" class=\"data row0 col17\" >0</td>\n",
       "      <td id=\"T_a0588_row0_col18\" class=\"data row0 col18\" >0</td>\n",
       "      <td id=\"T_a0588_row0_col19\" class=\"data row0 col19\" >0</td>\n",
       "      <td id=\"T_a0588_row0_col20\" class=\"data row0 col20\" >0</td>\n",
       "      <td id=\"T_a0588_row0_col21\" class=\"data row0 col21\" >0</td>\n",
       "      <td id=\"T_a0588_row0_col22\" class=\"data row0 col22\" >0</td>\n",
       "      <td id=\"T_a0588_row0_col23\" class=\"data row0 col23\" >0</td>\n",
       "      <td id=\"T_a0588_row0_col24\" class=\"data row0 col24\" >0</td>\n",
       "      <td id=\"T_a0588_row0_col25\" class=\"data row0 col25\" >0</td>\n",
       "      <td id=\"T_a0588_row0_col26\" class=\"data row0 col26\" >0</td>\n",
       "      <td id=\"T_a0588_row0_col27\" class=\"data row0 col27\" >0</td>\n",
       "    </tr>\n",
       "    <tr>\n",
       "      <th id=\"T_a0588_level0_row1\" class=\"row_heading level0 row1\" >1</th>\n",
       "      <td id=\"T_a0588_row1_col0\" class=\"data row1 col0\" >0</td>\n",
       "      <td id=\"T_a0588_row1_col1\" class=\"data row1 col1\" >0</td>\n",
       "      <td id=\"T_a0588_row1_col2\" class=\"data row1 col2\" >0</td>\n",
       "      <td id=\"T_a0588_row1_col3\" class=\"data row1 col3\" >0</td>\n",
       "      <td id=\"T_a0588_row1_col4\" class=\"data row1 col4\" >0</td>\n",
       "      <td id=\"T_a0588_row1_col5\" class=\"data row1 col5\" >0</td>\n",
       "      <td id=\"T_a0588_row1_col6\" class=\"data row1 col6\" >0</td>\n",
       "      <td id=\"T_a0588_row1_col7\" class=\"data row1 col7\" >0</td>\n",
       "      <td id=\"T_a0588_row1_col8\" class=\"data row1 col8\" >0</td>\n",
       "      <td id=\"T_a0588_row1_col9\" class=\"data row1 col9\" >0</td>\n",
       "      <td id=\"T_a0588_row1_col10\" class=\"data row1 col10\" >0</td>\n",
       "      <td id=\"T_a0588_row1_col11\" class=\"data row1 col11\" >0</td>\n",
       "      <td id=\"T_a0588_row1_col12\" class=\"data row1 col12\" >0</td>\n",
       "      <td id=\"T_a0588_row1_col13\" class=\"data row1 col13\" >0</td>\n",
       "      <td id=\"T_a0588_row1_col14\" class=\"data row1 col14\" >0</td>\n",
       "      <td id=\"T_a0588_row1_col15\" class=\"data row1 col15\" >0</td>\n",
       "      <td id=\"T_a0588_row1_col16\" class=\"data row1 col16\" >0</td>\n",
       "      <td id=\"T_a0588_row1_col17\" class=\"data row1 col17\" >0</td>\n",
       "      <td id=\"T_a0588_row1_col18\" class=\"data row1 col18\" >0</td>\n",
       "      <td id=\"T_a0588_row1_col19\" class=\"data row1 col19\" >0</td>\n",
       "      <td id=\"T_a0588_row1_col20\" class=\"data row1 col20\" >0</td>\n",
       "      <td id=\"T_a0588_row1_col21\" class=\"data row1 col21\" >0</td>\n",
       "      <td id=\"T_a0588_row1_col22\" class=\"data row1 col22\" >0</td>\n",
       "      <td id=\"T_a0588_row1_col23\" class=\"data row1 col23\" >0</td>\n",
       "      <td id=\"T_a0588_row1_col24\" class=\"data row1 col24\" >0</td>\n",
       "      <td id=\"T_a0588_row1_col25\" class=\"data row1 col25\" >0</td>\n",
       "      <td id=\"T_a0588_row1_col26\" class=\"data row1 col26\" >0</td>\n",
       "      <td id=\"T_a0588_row1_col27\" class=\"data row1 col27\" >0</td>\n",
       "    </tr>\n",
       "    <tr>\n",
       "      <th id=\"T_a0588_level0_row2\" class=\"row_heading level0 row2\" >2</th>\n",
       "      <td id=\"T_a0588_row2_col0\" class=\"data row2 col0\" >0</td>\n",
       "      <td id=\"T_a0588_row2_col1\" class=\"data row2 col1\" >0</td>\n",
       "      <td id=\"T_a0588_row2_col2\" class=\"data row2 col2\" >0</td>\n",
       "      <td id=\"T_a0588_row2_col3\" class=\"data row2 col3\" >0</td>\n",
       "      <td id=\"T_a0588_row2_col4\" class=\"data row2 col4\" >0</td>\n",
       "      <td id=\"T_a0588_row2_col5\" class=\"data row2 col5\" >0</td>\n",
       "      <td id=\"T_a0588_row2_col6\" class=\"data row2 col6\" >0</td>\n",
       "      <td id=\"T_a0588_row2_col7\" class=\"data row2 col7\" >0</td>\n",
       "      <td id=\"T_a0588_row2_col8\" class=\"data row2 col8\" >0</td>\n",
       "      <td id=\"T_a0588_row2_col9\" class=\"data row2 col9\" >0</td>\n",
       "      <td id=\"T_a0588_row2_col10\" class=\"data row2 col10\" >0</td>\n",
       "      <td id=\"T_a0588_row2_col11\" class=\"data row2 col11\" >0</td>\n",
       "      <td id=\"T_a0588_row2_col12\" class=\"data row2 col12\" >0</td>\n",
       "      <td id=\"T_a0588_row2_col13\" class=\"data row2 col13\" >0</td>\n",
       "      <td id=\"T_a0588_row2_col14\" class=\"data row2 col14\" >0</td>\n",
       "      <td id=\"T_a0588_row2_col15\" class=\"data row2 col15\" >0</td>\n",
       "      <td id=\"T_a0588_row2_col16\" class=\"data row2 col16\" >0</td>\n",
       "      <td id=\"T_a0588_row2_col17\" class=\"data row2 col17\" >0</td>\n",
       "      <td id=\"T_a0588_row2_col18\" class=\"data row2 col18\" >0</td>\n",
       "      <td id=\"T_a0588_row2_col19\" class=\"data row2 col19\" >0</td>\n",
       "      <td id=\"T_a0588_row2_col20\" class=\"data row2 col20\" >0</td>\n",
       "      <td id=\"T_a0588_row2_col21\" class=\"data row2 col21\" >0</td>\n",
       "      <td id=\"T_a0588_row2_col22\" class=\"data row2 col22\" >0</td>\n",
       "      <td id=\"T_a0588_row2_col23\" class=\"data row2 col23\" >0</td>\n",
       "      <td id=\"T_a0588_row2_col24\" class=\"data row2 col24\" >0</td>\n",
       "      <td id=\"T_a0588_row2_col25\" class=\"data row2 col25\" >0</td>\n",
       "      <td id=\"T_a0588_row2_col26\" class=\"data row2 col26\" >0</td>\n",
       "      <td id=\"T_a0588_row2_col27\" class=\"data row2 col27\" >0</td>\n",
       "    </tr>\n",
       "    <tr>\n",
       "      <th id=\"T_a0588_level0_row3\" class=\"row_heading level0 row3\" >3</th>\n",
       "      <td id=\"T_a0588_row3_col0\" class=\"data row3 col0\" >0</td>\n",
       "      <td id=\"T_a0588_row3_col1\" class=\"data row3 col1\" >0</td>\n",
       "      <td id=\"T_a0588_row3_col2\" class=\"data row3 col2\" >0</td>\n",
       "      <td id=\"T_a0588_row3_col3\" class=\"data row3 col3\" >0</td>\n",
       "      <td id=\"T_a0588_row3_col4\" class=\"data row3 col4\" >0</td>\n",
       "      <td id=\"T_a0588_row3_col5\" class=\"data row3 col5\" >0</td>\n",
       "      <td id=\"T_a0588_row3_col6\" class=\"data row3 col6\" >0</td>\n",
       "      <td id=\"T_a0588_row3_col7\" class=\"data row3 col7\" >0</td>\n",
       "      <td id=\"T_a0588_row3_col8\" class=\"data row3 col8\" >0</td>\n",
       "      <td id=\"T_a0588_row3_col9\" class=\"data row3 col9\" >0</td>\n",
       "      <td id=\"T_a0588_row3_col10\" class=\"data row3 col10\" >0</td>\n",
       "      <td id=\"T_a0588_row3_col11\" class=\"data row3 col11\" >0</td>\n",
       "      <td id=\"T_a0588_row3_col12\" class=\"data row3 col12\" >0</td>\n",
       "      <td id=\"T_a0588_row3_col13\" class=\"data row3 col13\" >0</td>\n",
       "      <td id=\"T_a0588_row3_col14\" class=\"data row3 col14\" >0</td>\n",
       "      <td id=\"T_a0588_row3_col15\" class=\"data row3 col15\" >0</td>\n",
       "      <td id=\"T_a0588_row3_col16\" class=\"data row3 col16\" >0</td>\n",
       "      <td id=\"T_a0588_row3_col17\" class=\"data row3 col17\" >0</td>\n",
       "      <td id=\"T_a0588_row3_col18\" class=\"data row3 col18\" >0</td>\n",
       "      <td id=\"T_a0588_row3_col19\" class=\"data row3 col19\" >0</td>\n",
       "      <td id=\"T_a0588_row3_col20\" class=\"data row3 col20\" >0</td>\n",
       "      <td id=\"T_a0588_row3_col21\" class=\"data row3 col21\" >0</td>\n",
       "      <td id=\"T_a0588_row3_col22\" class=\"data row3 col22\" >0</td>\n",
       "      <td id=\"T_a0588_row3_col23\" class=\"data row3 col23\" >0</td>\n",
       "      <td id=\"T_a0588_row3_col24\" class=\"data row3 col24\" >0</td>\n",
       "      <td id=\"T_a0588_row3_col25\" class=\"data row3 col25\" >0</td>\n",
       "      <td id=\"T_a0588_row3_col26\" class=\"data row3 col26\" >0</td>\n",
       "      <td id=\"T_a0588_row3_col27\" class=\"data row3 col27\" >0</td>\n",
       "    </tr>\n",
       "    <tr>\n",
       "      <th id=\"T_a0588_level0_row4\" class=\"row_heading level0 row4\" >4</th>\n",
       "      <td id=\"T_a0588_row4_col0\" class=\"data row4 col0\" >0</td>\n",
       "      <td id=\"T_a0588_row4_col1\" class=\"data row4 col1\" >0</td>\n",
       "      <td id=\"T_a0588_row4_col2\" class=\"data row4 col2\" >0</td>\n",
       "      <td id=\"T_a0588_row4_col3\" class=\"data row4 col3\" >0</td>\n",
       "      <td id=\"T_a0588_row4_col4\" class=\"data row4 col4\" >0</td>\n",
       "      <td id=\"T_a0588_row4_col5\" class=\"data row4 col5\" >0</td>\n",
       "      <td id=\"T_a0588_row4_col6\" class=\"data row4 col6\" >0</td>\n",
       "      <td id=\"T_a0588_row4_col7\" class=\"data row4 col7\" >0</td>\n",
       "      <td id=\"T_a0588_row4_col8\" class=\"data row4 col8\" >0</td>\n",
       "      <td id=\"T_a0588_row4_col9\" class=\"data row4 col9\" >0</td>\n",
       "      <td id=\"T_a0588_row4_col10\" class=\"data row4 col10\" >0</td>\n",
       "      <td id=\"T_a0588_row4_col11\" class=\"data row4 col11\" >0</td>\n",
       "      <td id=\"T_a0588_row4_col12\" class=\"data row4 col12\" >0</td>\n",
       "      <td id=\"T_a0588_row4_col13\" class=\"data row4 col13\" >0</td>\n",
       "      <td id=\"T_a0588_row4_col14\" class=\"data row4 col14\" >0</td>\n",
       "      <td id=\"T_a0588_row4_col15\" class=\"data row4 col15\" >0</td>\n",
       "      <td id=\"T_a0588_row4_col16\" class=\"data row4 col16\" >0</td>\n",
       "      <td id=\"T_a0588_row4_col17\" class=\"data row4 col17\" >0</td>\n",
       "      <td id=\"T_a0588_row4_col18\" class=\"data row4 col18\" >0</td>\n",
       "      <td id=\"T_a0588_row4_col19\" class=\"data row4 col19\" >0</td>\n",
       "      <td id=\"T_a0588_row4_col20\" class=\"data row4 col20\" >0</td>\n",
       "      <td id=\"T_a0588_row4_col21\" class=\"data row4 col21\" >0</td>\n",
       "      <td id=\"T_a0588_row4_col22\" class=\"data row4 col22\" >0</td>\n",
       "      <td id=\"T_a0588_row4_col23\" class=\"data row4 col23\" >0</td>\n",
       "      <td id=\"T_a0588_row4_col24\" class=\"data row4 col24\" >0</td>\n",
       "      <td id=\"T_a0588_row4_col25\" class=\"data row4 col25\" >0</td>\n",
       "      <td id=\"T_a0588_row4_col26\" class=\"data row4 col26\" >0</td>\n",
       "      <td id=\"T_a0588_row4_col27\" class=\"data row4 col27\" >0</td>\n",
       "    </tr>\n",
       "    <tr>\n",
       "      <th id=\"T_a0588_level0_row5\" class=\"row_heading level0 row5\" >5</th>\n",
       "      <td id=\"T_a0588_row5_col0\" class=\"data row5 col0\" >0</td>\n",
       "      <td id=\"T_a0588_row5_col1\" class=\"data row5 col1\" >0</td>\n",
       "      <td id=\"T_a0588_row5_col2\" class=\"data row5 col2\" >0</td>\n",
       "      <td id=\"T_a0588_row5_col3\" class=\"data row5 col3\" >0</td>\n",
       "      <td id=\"T_a0588_row5_col4\" class=\"data row5 col4\" >0</td>\n",
       "      <td id=\"T_a0588_row5_col5\" class=\"data row5 col5\" >0</td>\n",
       "      <td id=\"T_a0588_row5_col6\" class=\"data row5 col6\" >0</td>\n",
       "      <td id=\"T_a0588_row5_col7\" class=\"data row5 col7\" >0</td>\n",
       "      <td id=\"T_a0588_row5_col8\" class=\"data row5 col8\" >0</td>\n",
       "      <td id=\"T_a0588_row5_col9\" class=\"data row5 col9\" >0</td>\n",
       "      <td id=\"T_a0588_row5_col10\" class=\"data row5 col10\" >1</td>\n",
       "      <td id=\"T_a0588_row5_col11\" class=\"data row5 col11\" >18</td>\n",
       "      <td id=\"T_a0588_row5_col12\" class=\"data row5 col12\" >93</td>\n",
       "      <td id=\"T_a0588_row5_col13\" class=\"data row5 col13\" >164</td>\n",
       "      <td id=\"T_a0588_row5_col14\" class=\"data row5 col14\" >254</td>\n",
       "      <td id=\"T_a0588_row5_col15\" class=\"data row5 col15\" >255</td>\n",
       "      <td id=\"T_a0588_row5_col16\" class=\"data row5 col16\" >254</td>\n",
       "      <td id=\"T_a0588_row5_col17\" class=\"data row5 col17\" >254</td>\n",
       "      <td id=\"T_a0588_row5_col18\" class=\"data row5 col18\" >254</td>\n",
       "      <td id=\"T_a0588_row5_col19\" class=\"data row5 col19\" >151</td>\n",
       "      <td id=\"T_a0588_row5_col20\" class=\"data row5 col20\" >0</td>\n",
       "      <td id=\"T_a0588_row5_col21\" class=\"data row5 col21\" >0</td>\n",
       "      <td id=\"T_a0588_row5_col22\" class=\"data row5 col22\" >0</td>\n",
       "      <td id=\"T_a0588_row5_col23\" class=\"data row5 col23\" >0</td>\n",
       "      <td id=\"T_a0588_row5_col24\" class=\"data row5 col24\" >0</td>\n",
       "      <td id=\"T_a0588_row5_col25\" class=\"data row5 col25\" >0</td>\n",
       "      <td id=\"T_a0588_row5_col26\" class=\"data row5 col26\" >0</td>\n",
       "      <td id=\"T_a0588_row5_col27\" class=\"data row5 col27\" >0</td>\n",
       "    </tr>\n",
       "    <tr>\n",
       "      <th id=\"T_a0588_level0_row6\" class=\"row_heading level0 row6\" >6</th>\n",
       "      <td id=\"T_a0588_row6_col0\" class=\"data row6 col0\" >0</td>\n",
       "      <td id=\"T_a0588_row6_col1\" class=\"data row6 col1\" >0</td>\n",
       "      <td id=\"T_a0588_row6_col2\" class=\"data row6 col2\" >0</td>\n",
       "      <td id=\"T_a0588_row6_col3\" class=\"data row6 col3\" >0</td>\n",
       "      <td id=\"T_a0588_row6_col4\" class=\"data row6 col4\" >0</td>\n",
       "      <td id=\"T_a0588_row6_col5\" class=\"data row6 col5\" >0</td>\n",
       "      <td id=\"T_a0588_row6_col6\" class=\"data row6 col6\" >0</td>\n",
       "      <td id=\"T_a0588_row6_col7\" class=\"data row6 col7\" >0</td>\n",
       "      <td id=\"T_a0588_row6_col8\" class=\"data row6 col8\" >13</td>\n",
       "      <td id=\"T_a0588_row6_col9\" class=\"data row6 col9\" >36</td>\n",
       "      <td id=\"T_a0588_row6_col10\" class=\"data row6 col10\" >151</td>\n",
       "      <td id=\"T_a0588_row6_col11\" class=\"data row6 col11\" >253</td>\n",
       "      <td id=\"T_a0588_row6_col12\" class=\"data row6 col12\" >253</td>\n",
       "      <td id=\"T_a0588_row6_col13\" class=\"data row6 col13\" >253</td>\n",
       "      <td id=\"T_a0588_row6_col14\" class=\"data row6 col14\" >253</td>\n",
       "      <td id=\"T_a0588_row6_col15\" class=\"data row6 col15\" >253</td>\n",
       "      <td id=\"T_a0588_row6_col16\" class=\"data row6 col16\" >253</td>\n",
       "      <td id=\"T_a0588_row6_col17\" class=\"data row6 col17\" >218</td>\n",
       "      <td id=\"T_a0588_row6_col18\" class=\"data row6 col18\" >239</td>\n",
       "      <td id=\"T_a0588_row6_col19\" class=\"data row6 col19\" >213</td>\n",
       "      <td id=\"T_a0588_row6_col20\" class=\"data row6 col20\" >10</td>\n",
       "      <td id=\"T_a0588_row6_col21\" class=\"data row6 col21\" >0</td>\n",
       "      <td id=\"T_a0588_row6_col22\" class=\"data row6 col22\" >0</td>\n",
       "      <td id=\"T_a0588_row6_col23\" class=\"data row6 col23\" >0</td>\n",
       "      <td id=\"T_a0588_row6_col24\" class=\"data row6 col24\" >0</td>\n",
       "      <td id=\"T_a0588_row6_col25\" class=\"data row6 col25\" >0</td>\n",
       "      <td id=\"T_a0588_row6_col26\" class=\"data row6 col26\" >0</td>\n",
       "      <td id=\"T_a0588_row6_col27\" class=\"data row6 col27\" >0</td>\n",
       "    </tr>\n",
       "    <tr>\n",
       "      <th id=\"T_a0588_level0_row7\" class=\"row_heading level0 row7\" >7</th>\n",
       "      <td id=\"T_a0588_row7_col0\" class=\"data row7 col0\" >0</td>\n",
       "      <td id=\"T_a0588_row7_col1\" class=\"data row7 col1\" >0</td>\n",
       "      <td id=\"T_a0588_row7_col2\" class=\"data row7 col2\" >0</td>\n",
       "      <td id=\"T_a0588_row7_col3\" class=\"data row7 col3\" >0</td>\n",
       "      <td id=\"T_a0588_row7_col4\" class=\"data row7 col4\" >0</td>\n",
       "      <td id=\"T_a0588_row7_col5\" class=\"data row7 col5\" >0</td>\n",
       "      <td id=\"T_a0588_row7_col6\" class=\"data row7 col6\" >0</td>\n",
       "      <td id=\"T_a0588_row7_col7\" class=\"data row7 col7\" >0</td>\n",
       "      <td id=\"T_a0588_row7_col8\" class=\"data row7 col8\" >89</td>\n",
       "      <td id=\"T_a0588_row7_col9\" class=\"data row7 col9\" >253</td>\n",
       "      <td id=\"T_a0588_row7_col10\" class=\"data row7 col10\" >253</td>\n",
       "      <td id=\"T_a0588_row7_col11\" class=\"data row7 col11\" >253</td>\n",
       "      <td id=\"T_a0588_row7_col12\" class=\"data row7 col12\" >245</td>\n",
       "      <td id=\"T_a0588_row7_col13\" class=\"data row7 col13\" >172</td>\n",
       "      <td id=\"T_a0588_row7_col14\" class=\"data row7 col14\" >82</td>\n",
       "      <td id=\"T_a0588_row7_col15\" class=\"data row7 col15\" >82</td>\n",
       "      <td id=\"T_a0588_row7_col16\" class=\"data row7 col16\" >82</td>\n",
       "      <td id=\"T_a0588_row7_col17\" class=\"data row7 col17\" >2</td>\n",
       "      <td id=\"T_a0588_row7_col18\" class=\"data row7 col18\" >148</td>\n",
       "      <td id=\"T_a0588_row7_col19\" class=\"data row7 col19\" >253</td>\n",
       "      <td id=\"T_a0588_row7_col20\" class=\"data row7 col20\" >150</td>\n",
       "      <td id=\"T_a0588_row7_col21\" class=\"data row7 col21\" >0</td>\n",
       "      <td id=\"T_a0588_row7_col22\" class=\"data row7 col22\" >0</td>\n",
       "      <td id=\"T_a0588_row7_col23\" class=\"data row7 col23\" >0</td>\n",
       "      <td id=\"T_a0588_row7_col24\" class=\"data row7 col24\" >0</td>\n",
       "      <td id=\"T_a0588_row7_col25\" class=\"data row7 col25\" >0</td>\n",
       "      <td id=\"T_a0588_row7_col26\" class=\"data row7 col26\" >0</td>\n",
       "      <td id=\"T_a0588_row7_col27\" class=\"data row7 col27\" >0</td>\n",
       "    </tr>\n",
       "    <tr>\n",
       "      <th id=\"T_a0588_level0_row8\" class=\"row_heading level0 row8\" >8</th>\n",
       "      <td id=\"T_a0588_row8_col0\" class=\"data row8 col0\" >0</td>\n",
       "      <td id=\"T_a0588_row8_col1\" class=\"data row8 col1\" >0</td>\n",
       "      <td id=\"T_a0588_row8_col2\" class=\"data row8 col2\" >0</td>\n",
       "      <td id=\"T_a0588_row8_col3\" class=\"data row8 col3\" >0</td>\n",
       "      <td id=\"T_a0588_row8_col4\" class=\"data row8 col4\" >0</td>\n",
       "      <td id=\"T_a0588_row8_col5\" class=\"data row8 col5\" >0</td>\n",
       "      <td id=\"T_a0588_row8_col6\" class=\"data row8 col6\" >0</td>\n",
       "      <td id=\"T_a0588_row8_col7\" class=\"data row8 col7\" >0</td>\n",
       "      <td id=\"T_a0588_row8_col8\" class=\"data row8 col8\" >89</td>\n",
       "      <td id=\"T_a0588_row8_col9\" class=\"data row8 col9\" >253</td>\n",
       "      <td id=\"T_a0588_row8_col10\" class=\"data row8 col10\" >252</td>\n",
       "      <td id=\"T_a0588_row8_col11\" class=\"data row8 col11\" >171</td>\n",
       "      <td id=\"T_a0588_row8_col12\" class=\"data row8 col12\" >54</td>\n",
       "      <td id=\"T_a0588_row8_col13\" class=\"data row8 col13\" >0</td>\n",
       "      <td id=\"T_a0588_row8_col14\" class=\"data row8 col14\" >0</td>\n",
       "      <td id=\"T_a0588_row8_col15\" class=\"data row8 col15\" >0</td>\n",
       "      <td id=\"T_a0588_row8_col16\" class=\"data row8 col16\" >0</td>\n",
       "      <td id=\"T_a0588_row8_col17\" class=\"data row8 col17\" >37</td>\n",
       "      <td id=\"T_a0588_row8_col18\" class=\"data row8 col18\" >177</td>\n",
       "      <td id=\"T_a0588_row8_col19\" class=\"data row8 col19\" >253</td>\n",
       "      <td id=\"T_a0588_row8_col20\" class=\"data row8 col20\" >188</td>\n",
       "      <td id=\"T_a0588_row8_col21\" class=\"data row8 col21\" >0</td>\n",
       "      <td id=\"T_a0588_row8_col22\" class=\"data row8 col22\" >0</td>\n",
       "      <td id=\"T_a0588_row8_col23\" class=\"data row8 col23\" >0</td>\n",
       "      <td id=\"T_a0588_row8_col24\" class=\"data row8 col24\" >0</td>\n",
       "      <td id=\"T_a0588_row8_col25\" class=\"data row8 col25\" >0</td>\n",
       "      <td id=\"T_a0588_row8_col26\" class=\"data row8 col26\" >0</td>\n",
       "      <td id=\"T_a0588_row8_col27\" class=\"data row8 col27\" >0</td>\n",
       "    </tr>\n",
       "    <tr>\n",
       "      <th id=\"T_a0588_level0_row9\" class=\"row_heading level0 row9\" >9</th>\n",
       "      <td id=\"T_a0588_row9_col0\" class=\"data row9 col0\" >0</td>\n",
       "      <td id=\"T_a0588_row9_col1\" class=\"data row9 col1\" >0</td>\n",
       "      <td id=\"T_a0588_row9_col2\" class=\"data row9 col2\" >0</td>\n",
       "      <td id=\"T_a0588_row9_col3\" class=\"data row9 col3\" >0</td>\n",
       "      <td id=\"T_a0588_row9_col4\" class=\"data row9 col4\" >0</td>\n",
       "      <td id=\"T_a0588_row9_col5\" class=\"data row9 col5\" >0</td>\n",
       "      <td id=\"T_a0588_row9_col6\" class=\"data row9 col6\" >0</td>\n",
       "      <td id=\"T_a0588_row9_col7\" class=\"data row9 col7\" >0</td>\n",
       "      <td id=\"T_a0588_row9_col8\" class=\"data row9 col8\" >17</td>\n",
       "      <td id=\"T_a0588_row9_col9\" class=\"data row9 col9\" >151</td>\n",
       "      <td id=\"T_a0588_row9_col10\" class=\"data row9 col10\" >51</td>\n",
       "      <td id=\"T_a0588_row9_col11\" class=\"data row9 col11\" >0</td>\n",
       "      <td id=\"T_a0588_row9_col12\" class=\"data row9 col12\" >0</td>\n",
       "      <td id=\"T_a0588_row9_col13\" class=\"data row9 col13\" >0</td>\n",
       "      <td id=\"T_a0588_row9_col14\" class=\"data row9 col14\" >0</td>\n",
       "      <td id=\"T_a0588_row9_col15\" class=\"data row9 col15\" >0</td>\n",
       "      <td id=\"T_a0588_row9_col16\" class=\"data row9 col16\" >40</td>\n",
       "      <td id=\"T_a0588_row9_col17\" class=\"data row9 col17\" >229</td>\n",
       "      <td id=\"T_a0588_row9_col18\" class=\"data row9 col18\" >253</td>\n",
       "      <td id=\"T_a0588_row9_col19\" class=\"data row9 col19\" >253</td>\n",
       "      <td id=\"T_a0588_row9_col20\" class=\"data row9 col20\" >147</td>\n",
       "      <td id=\"T_a0588_row9_col21\" class=\"data row9 col21\" >0</td>\n",
       "      <td id=\"T_a0588_row9_col22\" class=\"data row9 col22\" >0</td>\n",
       "      <td id=\"T_a0588_row9_col23\" class=\"data row9 col23\" >0</td>\n",
       "      <td id=\"T_a0588_row9_col24\" class=\"data row9 col24\" >0</td>\n",
       "      <td id=\"T_a0588_row9_col25\" class=\"data row9 col25\" >0</td>\n",
       "      <td id=\"T_a0588_row9_col26\" class=\"data row9 col26\" >0</td>\n",
       "      <td id=\"T_a0588_row9_col27\" class=\"data row9 col27\" >0</td>\n",
       "    </tr>\n",
       "    <tr>\n",
       "      <th id=\"T_a0588_level0_row10\" class=\"row_heading level0 row10\" >10</th>\n",
       "      <td id=\"T_a0588_row10_col0\" class=\"data row10 col0\" >0</td>\n",
       "      <td id=\"T_a0588_row10_col1\" class=\"data row10 col1\" >0</td>\n",
       "      <td id=\"T_a0588_row10_col2\" class=\"data row10 col2\" >0</td>\n",
       "      <td id=\"T_a0588_row10_col3\" class=\"data row10 col3\" >0</td>\n",
       "      <td id=\"T_a0588_row10_col4\" class=\"data row10 col4\" >0</td>\n",
       "      <td id=\"T_a0588_row10_col5\" class=\"data row10 col5\" >0</td>\n",
       "      <td id=\"T_a0588_row10_col6\" class=\"data row10 col6\" >0</td>\n",
       "      <td id=\"T_a0588_row10_col7\" class=\"data row10 col7\" >0</td>\n",
       "      <td id=\"T_a0588_row10_col8\" class=\"data row10 col8\" >0</td>\n",
       "      <td id=\"T_a0588_row10_col9\" class=\"data row10 col9\" >0</td>\n",
       "      <td id=\"T_a0588_row10_col10\" class=\"data row10 col10\" >0</td>\n",
       "      <td id=\"T_a0588_row10_col11\" class=\"data row10 col11\" >0</td>\n",
       "      <td id=\"T_a0588_row10_col12\" class=\"data row10 col12\" >0</td>\n",
       "      <td id=\"T_a0588_row10_col13\" class=\"data row10 col13\" >0</td>\n",
       "      <td id=\"T_a0588_row10_col14\" class=\"data row10 col14\" >83</td>\n",
       "      <td id=\"T_a0588_row10_col15\" class=\"data row10 col15\" >206</td>\n",
       "      <td id=\"T_a0588_row10_col16\" class=\"data row10 col16\" >237</td>\n",
       "      <td id=\"T_a0588_row10_col17\" class=\"data row10 col17\" >253</td>\n",
       "      <td id=\"T_a0588_row10_col18\" class=\"data row10 col18\" >253</td>\n",
       "      <td id=\"T_a0588_row10_col19\" class=\"data row10 col19\" >211</td>\n",
       "      <td id=\"T_a0588_row10_col20\" class=\"data row10 col20\" >8</td>\n",
       "      <td id=\"T_a0588_row10_col21\" class=\"data row10 col21\" >0</td>\n",
       "      <td id=\"T_a0588_row10_col22\" class=\"data row10 col22\" >0</td>\n",
       "      <td id=\"T_a0588_row10_col23\" class=\"data row10 col23\" >0</td>\n",
       "      <td id=\"T_a0588_row10_col24\" class=\"data row10 col24\" >0</td>\n",
       "      <td id=\"T_a0588_row10_col25\" class=\"data row10 col25\" >0</td>\n",
       "      <td id=\"T_a0588_row10_col26\" class=\"data row10 col26\" >0</td>\n",
       "      <td id=\"T_a0588_row10_col27\" class=\"data row10 col27\" >0</td>\n",
       "    </tr>\n",
       "    <tr>\n",
       "      <th id=\"T_a0588_level0_row11\" class=\"row_heading level0 row11\" >11</th>\n",
       "      <td id=\"T_a0588_row11_col0\" class=\"data row11 col0\" >0</td>\n",
       "      <td id=\"T_a0588_row11_col1\" class=\"data row11 col1\" >0</td>\n",
       "      <td id=\"T_a0588_row11_col2\" class=\"data row11 col2\" >0</td>\n",
       "      <td id=\"T_a0588_row11_col3\" class=\"data row11 col3\" >0</td>\n",
       "      <td id=\"T_a0588_row11_col4\" class=\"data row11 col4\" >0</td>\n",
       "      <td id=\"T_a0588_row11_col5\" class=\"data row11 col5\" >0</td>\n",
       "      <td id=\"T_a0588_row11_col6\" class=\"data row11 col6\" >0</td>\n",
       "      <td id=\"T_a0588_row11_col7\" class=\"data row11 col7\" >0</td>\n",
       "      <td id=\"T_a0588_row11_col8\" class=\"data row11 col8\" >0</td>\n",
       "      <td id=\"T_a0588_row11_col9\" class=\"data row11 col9\" >0</td>\n",
       "      <td id=\"T_a0588_row11_col10\" class=\"data row11 col10\" >0</td>\n",
       "      <td id=\"T_a0588_row11_col11\" class=\"data row11 col11\" >70</td>\n",
       "      <td id=\"T_a0588_row11_col12\" class=\"data row11 col12\" >143</td>\n",
       "      <td id=\"T_a0588_row11_col13\" class=\"data row11 col13\" >243</td>\n",
       "      <td id=\"T_a0588_row11_col14\" class=\"data row11 col14\" >251</td>\n",
       "      <td id=\"T_a0588_row11_col15\" class=\"data row11 col15\" >253</td>\n",
       "      <td id=\"T_a0588_row11_col16\" class=\"data row11 col16\" >253</td>\n",
       "      <td id=\"T_a0588_row11_col17\" class=\"data row11 col17\" >253</td>\n",
       "      <td id=\"T_a0588_row11_col18\" class=\"data row11 col18\" >181</td>\n",
       "      <td id=\"T_a0588_row11_col19\" class=\"data row11 col19\" >50</td>\n",
       "      <td id=\"T_a0588_row11_col20\" class=\"data row11 col20\" >0</td>\n",
       "      <td id=\"T_a0588_row11_col21\" class=\"data row11 col21\" >0</td>\n",
       "      <td id=\"T_a0588_row11_col22\" class=\"data row11 col22\" >0</td>\n",
       "      <td id=\"T_a0588_row11_col23\" class=\"data row11 col23\" >0</td>\n",
       "      <td id=\"T_a0588_row11_col24\" class=\"data row11 col24\" >0</td>\n",
       "      <td id=\"T_a0588_row11_col25\" class=\"data row11 col25\" >0</td>\n",
       "      <td id=\"T_a0588_row11_col26\" class=\"data row11 col26\" >0</td>\n",
       "      <td id=\"T_a0588_row11_col27\" class=\"data row11 col27\" >0</td>\n",
       "    </tr>\n",
       "    <tr>\n",
       "      <th id=\"T_a0588_level0_row12\" class=\"row_heading level0 row12\" >12</th>\n",
       "      <td id=\"T_a0588_row12_col0\" class=\"data row12 col0\" >0</td>\n",
       "      <td id=\"T_a0588_row12_col1\" class=\"data row12 col1\" >0</td>\n",
       "      <td id=\"T_a0588_row12_col2\" class=\"data row12 col2\" >0</td>\n",
       "      <td id=\"T_a0588_row12_col3\" class=\"data row12 col3\" >0</td>\n",
       "      <td id=\"T_a0588_row12_col4\" class=\"data row12 col4\" >0</td>\n",
       "      <td id=\"T_a0588_row12_col5\" class=\"data row12 col5\" >0</td>\n",
       "      <td id=\"T_a0588_row12_col6\" class=\"data row12 col6\" >0</td>\n",
       "      <td id=\"T_a0588_row12_col7\" class=\"data row12 col7\" >0</td>\n",
       "      <td id=\"T_a0588_row12_col8\" class=\"data row12 col8\" >0</td>\n",
       "      <td id=\"T_a0588_row12_col9\" class=\"data row12 col9\" >0</td>\n",
       "      <td id=\"T_a0588_row12_col10\" class=\"data row12 col10\" >4</td>\n",
       "      <td id=\"T_a0588_row12_col11\" class=\"data row12 col11\" >204</td>\n",
       "      <td id=\"T_a0588_row12_col12\" class=\"data row12 col12\" >253</td>\n",
       "      <td id=\"T_a0588_row12_col13\" class=\"data row12 col13\" >253</td>\n",
       "      <td id=\"T_a0588_row12_col14\" class=\"data row12 col14\" >253</td>\n",
       "      <td id=\"T_a0588_row12_col15\" class=\"data row12 col15\" >253</td>\n",
       "      <td id=\"T_a0588_row12_col16\" class=\"data row12 col16\" >253</td>\n",
       "      <td id=\"T_a0588_row12_col17\" class=\"data row12 col17\" >253</td>\n",
       "      <td id=\"T_a0588_row12_col18\" class=\"data row12 col18\" >106</td>\n",
       "      <td id=\"T_a0588_row12_col19\" class=\"data row12 col19\" >0</td>\n",
       "      <td id=\"T_a0588_row12_col20\" class=\"data row12 col20\" >0</td>\n",
       "      <td id=\"T_a0588_row12_col21\" class=\"data row12 col21\" >0</td>\n",
       "      <td id=\"T_a0588_row12_col22\" class=\"data row12 col22\" >0</td>\n",
       "      <td id=\"T_a0588_row12_col23\" class=\"data row12 col23\" >0</td>\n",
       "      <td id=\"T_a0588_row12_col24\" class=\"data row12 col24\" >0</td>\n",
       "      <td id=\"T_a0588_row12_col25\" class=\"data row12 col25\" >0</td>\n",
       "      <td id=\"T_a0588_row12_col26\" class=\"data row12 col26\" >0</td>\n",
       "      <td id=\"T_a0588_row12_col27\" class=\"data row12 col27\" >0</td>\n",
       "    </tr>\n",
       "    <tr>\n",
       "      <th id=\"T_a0588_level0_row13\" class=\"row_heading level0 row13\" >13</th>\n",
       "      <td id=\"T_a0588_row13_col0\" class=\"data row13 col0\" >0</td>\n",
       "      <td id=\"T_a0588_row13_col1\" class=\"data row13 col1\" >0</td>\n",
       "      <td id=\"T_a0588_row13_col2\" class=\"data row13 col2\" >0</td>\n",
       "      <td id=\"T_a0588_row13_col3\" class=\"data row13 col3\" >0</td>\n",
       "      <td id=\"T_a0588_row13_col4\" class=\"data row13 col4\" >0</td>\n",
       "      <td id=\"T_a0588_row13_col5\" class=\"data row13 col5\" >0</td>\n",
       "      <td id=\"T_a0588_row13_col6\" class=\"data row13 col6\" >0</td>\n",
       "      <td id=\"T_a0588_row13_col7\" class=\"data row13 col7\" >0</td>\n",
       "      <td id=\"T_a0588_row13_col8\" class=\"data row13 col8\" >0</td>\n",
       "      <td id=\"T_a0588_row13_col9\" class=\"data row13 col9\" >0</td>\n",
       "      <td id=\"T_a0588_row13_col10\" class=\"data row13 col10\" >5</td>\n",
       "      <td id=\"T_a0588_row13_col11\" class=\"data row13 col11\" >235</td>\n",
       "      <td id=\"T_a0588_row13_col12\" class=\"data row13 col12\" >253</td>\n",
       "      <td id=\"T_a0588_row13_col13\" class=\"data row13 col13\" >253</td>\n",
       "      <td id=\"T_a0588_row13_col14\" class=\"data row13 col14\" >221</td>\n",
       "      <td id=\"T_a0588_row13_col15\" class=\"data row13 col15\" >167</td>\n",
       "      <td id=\"T_a0588_row13_col16\" class=\"data row13 col16\" >94</td>\n",
       "      <td id=\"T_a0588_row13_col17\" class=\"data row13 col17\" >250</td>\n",
       "      <td id=\"T_a0588_row13_col18\" class=\"data row13 col18\" >125</td>\n",
       "      <td id=\"T_a0588_row13_col19\" class=\"data row13 col19\" >0</td>\n",
       "      <td id=\"T_a0588_row13_col20\" class=\"data row13 col20\" >0</td>\n",
       "      <td id=\"T_a0588_row13_col21\" class=\"data row13 col21\" >0</td>\n",
       "      <td id=\"T_a0588_row13_col22\" class=\"data row13 col22\" >0</td>\n",
       "      <td id=\"T_a0588_row13_col23\" class=\"data row13 col23\" >0</td>\n",
       "      <td id=\"T_a0588_row13_col24\" class=\"data row13 col24\" >0</td>\n",
       "      <td id=\"T_a0588_row13_col25\" class=\"data row13 col25\" >0</td>\n",
       "      <td id=\"T_a0588_row13_col26\" class=\"data row13 col26\" >0</td>\n",
       "      <td id=\"T_a0588_row13_col27\" class=\"data row13 col27\" >0</td>\n",
       "    </tr>\n",
       "    <tr>\n",
       "      <th id=\"T_a0588_level0_row14\" class=\"row_heading level0 row14\" >14</th>\n",
       "      <td id=\"T_a0588_row14_col0\" class=\"data row14 col0\" >0</td>\n",
       "      <td id=\"T_a0588_row14_col1\" class=\"data row14 col1\" >0</td>\n",
       "      <td id=\"T_a0588_row14_col2\" class=\"data row14 col2\" >0</td>\n",
       "      <td id=\"T_a0588_row14_col3\" class=\"data row14 col3\" >0</td>\n",
       "      <td id=\"T_a0588_row14_col4\" class=\"data row14 col4\" >0</td>\n",
       "      <td id=\"T_a0588_row14_col5\" class=\"data row14 col5\" >0</td>\n",
       "      <td id=\"T_a0588_row14_col6\" class=\"data row14 col6\" >0</td>\n",
       "      <td id=\"T_a0588_row14_col7\" class=\"data row14 col7\" >0</td>\n",
       "      <td id=\"T_a0588_row14_col8\" class=\"data row14 col8\" >0</td>\n",
       "      <td id=\"T_a0588_row14_col9\" class=\"data row14 col9\" >0</td>\n",
       "      <td id=\"T_a0588_row14_col10\" class=\"data row14 col10\" >0</td>\n",
       "      <td id=\"T_a0588_row14_col11\" class=\"data row14 col11\" >110</td>\n",
       "      <td id=\"T_a0588_row14_col12\" class=\"data row14 col12\" >175</td>\n",
       "      <td id=\"T_a0588_row14_col13\" class=\"data row14 col13\" >76</td>\n",
       "      <td id=\"T_a0588_row14_col14\" class=\"data row14 col14\" >18</td>\n",
       "      <td id=\"T_a0588_row14_col15\" class=\"data row14 col15\" >0</td>\n",
       "      <td id=\"T_a0588_row14_col16\" class=\"data row14 col16\" >0</td>\n",
       "      <td id=\"T_a0588_row14_col17\" class=\"data row14 col17\" >249</td>\n",
       "      <td id=\"T_a0588_row14_col18\" class=\"data row14 col18\" >244</td>\n",
       "      <td id=\"T_a0588_row14_col19\" class=\"data row14 col19\" >62</td>\n",
       "      <td id=\"T_a0588_row14_col20\" class=\"data row14 col20\" >0</td>\n",
       "      <td id=\"T_a0588_row14_col21\" class=\"data row14 col21\" >0</td>\n",
       "      <td id=\"T_a0588_row14_col22\" class=\"data row14 col22\" >0</td>\n",
       "      <td id=\"T_a0588_row14_col23\" class=\"data row14 col23\" >0</td>\n",
       "      <td id=\"T_a0588_row14_col24\" class=\"data row14 col24\" >0</td>\n",
       "      <td id=\"T_a0588_row14_col25\" class=\"data row14 col25\" >0</td>\n",
       "      <td id=\"T_a0588_row14_col26\" class=\"data row14 col26\" >0</td>\n",
       "      <td id=\"T_a0588_row14_col27\" class=\"data row14 col27\" >0</td>\n",
       "    </tr>\n",
       "    <tr>\n",
       "      <th id=\"T_a0588_level0_row15\" class=\"row_heading level0 row15\" >15</th>\n",
       "      <td id=\"T_a0588_row15_col0\" class=\"data row15 col0\" >0</td>\n",
       "      <td id=\"T_a0588_row15_col1\" class=\"data row15 col1\" >0</td>\n",
       "      <td id=\"T_a0588_row15_col2\" class=\"data row15 col2\" >0</td>\n",
       "      <td id=\"T_a0588_row15_col3\" class=\"data row15 col3\" >0</td>\n",
       "      <td id=\"T_a0588_row15_col4\" class=\"data row15 col4\" >0</td>\n",
       "      <td id=\"T_a0588_row15_col5\" class=\"data row15 col5\" >0</td>\n",
       "      <td id=\"T_a0588_row15_col6\" class=\"data row15 col6\" >0</td>\n",
       "      <td id=\"T_a0588_row15_col7\" class=\"data row15 col7\" >0</td>\n",
       "      <td id=\"T_a0588_row15_col8\" class=\"data row15 col8\" >0</td>\n",
       "      <td id=\"T_a0588_row15_col9\" class=\"data row15 col9\" >0</td>\n",
       "      <td id=\"T_a0588_row15_col10\" class=\"data row15 col10\" >0</td>\n",
       "      <td id=\"T_a0588_row15_col11\" class=\"data row15 col11\" >0</td>\n",
       "      <td id=\"T_a0588_row15_col12\" class=\"data row15 col12\" >0</td>\n",
       "      <td id=\"T_a0588_row15_col13\" class=\"data row15 col13\" >0</td>\n",
       "      <td id=\"T_a0588_row15_col14\" class=\"data row15 col14\" >0</td>\n",
       "      <td id=\"T_a0588_row15_col15\" class=\"data row15 col15\" >0</td>\n",
       "      <td id=\"T_a0588_row15_col16\" class=\"data row15 col16\" >0</td>\n",
       "      <td id=\"T_a0588_row15_col17\" class=\"data row15 col17\" >213</td>\n",
       "      <td id=\"T_a0588_row15_col18\" class=\"data row15 col18\" >253</td>\n",
       "      <td id=\"T_a0588_row15_col19\" class=\"data row15 col19\" >124</td>\n",
       "      <td id=\"T_a0588_row15_col20\" class=\"data row15 col20\" >0</td>\n",
       "      <td id=\"T_a0588_row15_col21\" class=\"data row15 col21\" >0</td>\n",
       "      <td id=\"T_a0588_row15_col22\" class=\"data row15 col22\" >0</td>\n",
       "      <td id=\"T_a0588_row15_col23\" class=\"data row15 col23\" >0</td>\n",
       "      <td id=\"T_a0588_row15_col24\" class=\"data row15 col24\" >0</td>\n",
       "      <td id=\"T_a0588_row15_col25\" class=\"data row15 col25\" >0</td>\n",
       "      <td id=\"T_a0588_row15_col26\" class=\"data row15 col26\" >0</td>\n",
       "      <td id=\"T_a0588_row15_col27\" class=\"data row15 col27\" >0</td>\n",
       "    </tr>\n",
       "    <tr>\n",
       "      <th id=\"T_a0588_level0_row16\" class=\"row_heading level0 row16\" >16</th>\n",
       "      <td id=\"T_a0588_row16_col0\" class=\"data row16 col0\" >0</td>\n",
       "      <td id=\"T_a0588_row16_col1\" class=\"data row16 col1\" >0</td>\n",
       "      <td id=\"T_a0588_row16_col2\" class=\"data row16 col2\" >0</td>\n",
       "      <td id=\"T_a0588_row16_col3\" class=\"data row16 col3\" >0</td>\n",
       "      <td id=\"T_a0588_row16_col4\" class=\"data row16 col4\" >0</td>\n",
       "      <td id=\"T_a0588_row16_col5\" class=\"data row16 col5\" >0</td>\n",
       "      <td id=\"T_a0588_row16_col6\" class=\"data row16 col6\" >0</td>\n",
       "      <td id=\"T_a0588_row16_col7\" class=\"data row16 col7\" >0</td>\n",
       "      <td id=\"T_a0588_row16_col8\" class=\"data row16 col8\" >0</td>\n",
       "      <td id=\"T_a0588_row16_col9\" class=\"data row16 col9\" >0</td>\n",
       "      <td id=\"T_a0588_row16_col10\" class=\"data row16 col10\" >0</td>\n",
       "      <td id=\"T_a0588_row16_col11\" class=\"data row16 col11\" >0</td>\n",
       "      <td id=\"T_a0588_row16_col12\" class=\"data row16 col12\" >0</td>\n",
       "      <td id=\"T_a0588_row16_col13\" class=\"data row16 col13\" >0</td>\n",
       "      <td id=\"T_a0588_row16_col14\" class=\"data row16 col14\" >0</td>\n",
       "      <td id=\"T_a0588_row16_col15\" class=\"data row16 col15\" >0</td>\n",
       "      <td id=\"T_a0588_row16_col16\" class=\"data row16 col16\" >0</td>\n",
       "      <td id=\"T_a0588_row16_col17\" class=\"data row16 col17\" >130</td>\n",
       "      <td id=\"T_a0588_row16_col18\" class=\"data row16 col18\" >253</td>\n",
       "      <td id=\"T_a0588_row16_col19\" class=\"data row16 col19\" >206</td>\n",
       "      <td id=\"T_a0588_row16_col20\" class=\"data row16 col20\" >0</td>\n",
       "      <td id=\"T_a0588_row16_col21\" class=\"data row16 col21\" >0</td>\n",
       "      <td id=\"T_a0588_row16_col22\" class=\"data row16 col22\" >0</td>\n",
       "      <td id=\"T_a0588_row16_col23\" class=\"data row16 col23\" >0</td>\n",
       "      <td id=\"T_a0588_row16_col24\" class=\"data row16 col24\" >0</td>\n",
       "      <td id=\"T_a0588_row16_col25\" class=\"data row16 col25\" >0</td>\n",
       "      <td id=\"T_a0588_row16_col26\" class=\"data row16 col26\" >0</td>\n",
       "      <td id=\"T_a0588_row16_col27\" class=\"data row16 col27\" >0</td>\n",
       "    </tr>\n",
       "    <tr>\n",
       "      <th id=\"T_a0588_level0_row17\" class=\"row_heading level0 row17\" >17</th>\n",
       "      <td id=\"T_a0588_row17_col0\" class=\"data row17 col0\" >0</td>\n",
       "      <td id=\"T_a0588_row17_col1\" class=\"data row17 col1\" >0</td>\n",
       "      <td id=\"T_a0588_row17_col2\" class=\"data row17 col2\" >0</td>\n",
       "      <td id=\"T_a0588_row17_col3\" class=\"data row17 col3\" >0</td>\n",
       "      <td id=\"T_a0588_row17_col4\" class=\"data row17 col4\" >0</td>\n",
       "      <td id=\"T_a0588_row17_col5\" class=\"data row17 col5\" >0</td>\n",
       "      <td id=\"T_a0588_row17_col6\" class=\"data row17 col6\" >0</td>\n",
       "      <td id=\"T_a0588_row17_col7\" class=\"data row17 col7\" >0</td>\n",
       "      <td id=\"T_a0588_row17_col8\" class=\"data row17 col8\" >0</td>\n",
       "      <td id=\"T_a0588_row17_col9\" class=\"data row17 col9\" >0</td>\n",
       "      <td id=\"T_a0588_row17_col10\" class=\"data row17 col10\" >0</td>\n",
       "      <td id=\"T_a0588_row17_col11\" class=\"data row17 col11\" >0</td>\n",
       "      <td id=\"T_a0588_row17_col12\" class=\"data row17 col12\" >0</td>\n",
       "      <td id=\"T_a0588_row17_col13\" class=\"data row17 col13\" >0</td>\n",
       "      <td id=\"T_a0588_row17_col14\" class=\"data row17 col14\" >0</td>\n",
       "      <td id=\"T_a0588_row17_col15\" class=\"data row17 col15\" >0</td>\n",
       "      <td id=\"T_a0588_row17_col16\" class=\"data row17 col16\" >0</td>\n",
       "      <td id=\"T_a0588_row17_col17\" class=\"data row17 col17\" >238</td>\n",
       "      <td id=\"T_a0588_row17_col18\" class=\"data row17 col18\" >253</td>\n",
       "      <td id=\"T_a0588_row17_col19\" class=\"data row17 col19\" >206</td>\n",
       "      <td id=\"T_a0588_row17_col20\" class=\"data row17 col20\" >0</td>\n",
       "      <td id=\"T_a0588_row17_col21\" class=\"data row17 col21\" >0</td>\n",
       "      <td id=\"T_a0588_row17_col22\" class=\"data row17 col22\" >0</td>\n",
       "      <td id=\"T_a0588_row17_col23\" class=\"data row17 col23\" >0</td>\n",
       "      <td id=\"T_a0588_row17_col24\" class=\"data row17 col24\" >0</td>\n",
       "      <td id=\"T_a0588_row17_col25\" class=\"data row17 col25\" >0</td>\n",
       "      <td id=\"T_a0588_row17_col26\" class=\"data row17 col26\" >0</td>\n",
       "      <td id=\"T_a0588_row17_col27\" class=\"data row17 col27\" >0</td>\n",
       "    </tr>\n",
       "    <tr>\n",
       "      <th id=\"T_a0588_level0_row18\" class=\"row_heading level0 row18\" >18</th>\n",
       "      <td id=\"T_a0588_row18_col0\" class=\"data row18 col0\" >0</td>\n",
       "      <td id=\"T_a0588_row18_col1\" class=\"data row18 col1\" >0</td>\n",
       "      <td id=\"T_a0588_row18_col2\" class=\"data row18 col2\" >0</td>\n",
       "      <td id=\"T_a0588_row18_col3\" class=\"data row18 col3\" >0</td>\n",
       "      <td id=\"T_a0588_row18_col4\" class=\"data row18 col4\" >0</td>\n",
       "      <td id=\"T_a0588_row18_col5\" class=\"data row18 col5\" >0</td>\n",
       "      <td id=\"T_a0588_row18_col6\" class=\"data row18 col6\" >3</td>\n",
       "      <td id=\"T_a0588_row18_col7\" class=\"data row18 col7\" >189</td>\n",
       "      <td id=\"T_a0588_row18_col8\" class=\"data row18 col8\" >207</td>\n",
       "      <td id=\"T_a0588_row18_col9\" class=\"data row18 col9\" >21</td>\n",
       "      <td id=\"T_a0588_row18_col10\" class=\"data row18 col10\" >0</td>\n",
       "      <td id=\"T_a0588_row18_col11\" class=\"data row18 col11\" >0</td>\n",
       "      <td id=\"T_a0588_row18_col12\" class=\"data row18 col12\" >0</td>\n",
       "      <td id=\"T_a0588_row18_col13\" class=\"data row18 col13\" >0</td>\n",
       "      <td id=\"T_a0588_row18_col14\" class=\"data row18 col14\" >0</td>\n",
       "      <td id=\"T_a0588_row18_col15\" class=\"data row18 col15\" >0</td>\n",
       "      <td id=\"T_a0588_row18_col16\" class=\"data row18 col16\" >0</td>\n",
       "      <td id=\"T_a0588_row18_col17\" class=\"data row18 col17\" >249</td>\n",
       "      <td id=\"T_a0588_row18_col18\" class=\"data row18 col18\" >253</td>\n",
       "      <td id=\"T_a0588_row18_col19\" class=\"data row18 col19\" >145</td>\n",
       "      <td id=\"T_a0588_row18_col20\" class=\"data row18 col20\" >0</td>\n",
       "      <td id=\"T_a0588_row18_col21\" class=\"data row18 col21\" >0</td>\n",
       "      <td id=\"T_a0588_row18_col22\" class=\"data row18 col22\" >0</td>\n",
       "      <td id=\"T_a0588_row18_col23\" class=\"data row18 col23\" >0</td>\n",
       "      <td id=\"T_a0588_row18_col24\" class=\"data row18 col24\" >0</td>\n",
       "      <td id=\"T_a0588_row18_col25\" class=\"data row18 col25\" >0</td>\n",
       "      <td id=\"T_a0588_row18_col26\" class=\"data row18 col26\" >0</td>\n",
       "      <td id=\"T_a0588_row18_col27\" class=\"data row18 col27\" >0</td>\n",
       "    </tr>\n",
       "    <tr>\n",
       "      <th id=\"T_a0588_level0_row19\" class=\"row_heading level0 row19\" >19</th>\n",
       "      <td id=\"T_a0588_row19_col0\" class=\"data row19 col0\" >0</td>\n",
       "      <td id=\"T_a0588_row19_col1\" class=\"data row19 col1\" >0</td>\n",
       "      <td id=\"T_a0588_row19_col2\" class=\"data row19 col2\" >0</td>\n",
       "      <td id=\"T_a0588_row19_col3\" class=\"data row19 col3\" >0</td>\n",
       "      <td id=\"T_a0588_row19_col4\" class=\"data row19 col4\" >0</td>\n",
       "      <td id=\"T_a0588_row19_col5\" class=\"data row19 col5\" >0</td>\n",
       "      <td id=\"T_a0588_row19_col6\" class=\"data row19 col6\" >23</td>\n",
       "      <td id=\"T_a0588_row19_col7\" class=\"data row19 col7\" >216</td>\n",
       "      <td id=\"T_a0588_row19_col8\" class=\"data row19 col8\" >253</td>\n",
       "      <td id=\"T_a0588_row19_col9\" class=\"data row19 col9\" >159</td>\n",
       "      <td id=\"T_a0588_row19_col10\" class=\"data row19 col10\" >2</td>\n",
       "      <td id=\"T_a0588_row19_col11\" class=\"data row19 col11\" >0</td>\n",
       "      <td id=\"T_a0588_row19_col12\" class=\"data row19 col12\" >0</td>\n",
       "      <td id=\"T_a0588_row19_col13\" class=\"data row19 col13\" >0</td>\n",
       "      <td id=\"T_a0588_row19_col14\" class=\"data row19 col14\" >0</td>\n",
       "      <td id=\"T_a0588_row19_col15\" class=\"data row19 col15\" >0</td>\n",
       "      <td id=\"T_a0588_row19_col16\" class=\"data row19 col16\" >80</td>\n",
       "      <td id=\"T_a0588_row19_col17\" class=\"data row19 col17\" >251</td>\n",
       "      <td id=\"T_a0588_row19_col18\" class=\"data row19 col18\" >253</td>\n",
       "      <td id=\"T_a0588_row19_col19\" class=\"data row19 col19\" >88</td>\n",
       "      <td id=\"T_a0588_row19_col20\" class=\"data row19 col20\" >0</td>\n",
       "      <td id=\"T_a0588_row19_col21\" class=\"data row19 col21\" >0</td>\n",
       "      <td id=\"T_a0588_row19_col22\" class=\"data row19 col22\" >0</td>\n",
       "      <td id=\"T_a0588_row19_col23\" class=\"data row19 col23\" >0</td>\n",
       "      <td id=\"T_a0588_row19_col24\" class=\"data row19 col24\" >0</td>\n",
       "      <td id=\"T_a0588_row19_col25\" class=\"data row19 col25\" >0</td>\n",
       "      <td id=\"T_a0588_row19_col26\" class=\"data row19 col26\" >0</td>\n",
       "      <td id=\"T_a0588_row19_col27\" class=\"data row19 col27\" >0</td>\n",
       "    </tr>\n",
       "    <tr>\n",
       "      <th id=\"T_a0588_level0_row20\" class=\"row_heading level0 row20\" >20</th>\n",
       "      <td id=\"T_a0588_row20_col0\" class=\"data row20 col0\" >0</td>\n",
       "      <td id=\"T_a0588_row20_col1\" class=\"data row20 col1\" >0</td>\n",
       "      <td id=\"T_a0588_row20_col2\" class=\"data row20 col2\" >0</td>\n",
       "      <td id=\"T_a0588_row20_col3\" class=\"data row20 col3\" >0</td>\n",
       "      <td id=\"T_a0588_row20_col4\" class=\"data row20 col4\" >0</td>\n",
       "      <td id=\"T_a0588_row20_col5\" class=\"data row20 col5\" >0</td>\n",
       "      <td id=\"T_a0588_row20_col6\" class=\"data row20 col6\" >0</td>\n",
       "      <td id=\"T_a0588_row20_col7\" class=\"data row20 col7\" >167</td>\n",
       "      <td id=\"T_a0588_row20_col8\" class=\"data row20 col8\" >253</td>\n",
       "      <td id=\"T_a0588_row20_col9\" class=\"data row20 col9\" >253</td>\n",
       "      <td id=\"T_a0588_row20_col10\" class=\"data row20 col10\" >33</td>\n",
       "      <td id=\"T_a0588_row20_col11\" class=\"data row20 col11\" >0</td>\n",
       "      <td id=\"T_a0588_row20_col12\" class=\"data row20 col12\" >0</td>\n",
       "      <td id=\"T_a0588_row20_col13\" class=\"data row20 col13\" >0</td>\n",
       "      <td id=\"T_a0588_row20_col14\" class=\"data row20 col14\" >0</td>\n",
       "      <td id=\"T_a0588_row20_col15\" class=\"data row20 col15\" >63</td>\n",
       "      <td id=\"T_a0588_row20_col16\" class=\"data row20 col16\" >246</td>\n",
       "      <td id=\"T_a0588_row20_col17\" class=\"data row20 col17\" >253</td>\n",
       "      <td id=\"T_a0588_row20_col18\" class=\"data row20 col18\" >212</td>\n",
       "      <td id=\"T_a0588_row20_col19\" class=\"data row20 col19\" >31</td>\n",
       "      <td id=\"T_a0588_row20_col20\" class=\"data row20 col20\" >0</td>\n",
       "      <td id=\"T_a0588_row20_col21\" class=\"data row20 col21\" >0</td>\n",
       "      <td id=\"T_a0588_row20_col22\" class=\"data row20 col22\" >0</td>\n",
       "      <td id=\"T_a0588_row20_col23\" class=\"data row20 col23\" >0</td>\n",
       "      <td id=\"T_a0588_row20_col24\" class=\"data row20 col24\" >0</td>\n",
       "      <td id=\"T_a0588_row20_col25\" class=\"data row20 col25\" >0</td>\n",
       "      <td id=\"T_a0588_row20_col26\" class=\"data row20 col26\" >0</td>\n",
       "      <td id=\"T_a0588_row20_col27\" class=\"data row20 col27\" >0</td>\n",
       "    </tr>\n",
       "    <tr>\n",
       "      <th id=\"T_a0588_level0_row21\" class=\"row_heading level0 row21\" >21</th>\n",
       "      <td id=\"T_a0588_row21_col0\" class=\"data row21 col0\" >0</td>\n",
       "      <td id=\"T_a0588_row21_col1\" class=\"data row21 col1\" >0</td>\n",
       "      <td id=\"T_a0588_row21_col2\" class=\"data row21 col2\" >0</td>\n",
       "      <td id=\"T_a0588_row21_col3\" class=\"data row21 col3\" >0</td>\n",
       "      <td id=\"T_a0588_row21_col4\" class=\"data row21 col4\" >0</td>\n",
       "      <td id=\"T_a0588_row21_col5\" class=\"data row21 col5\" >0</td>\n",
       "      <td id=\"T_a0588_row21_col6\" class=\"data row21 col6\" >0</td>\n",
       "      <td id=\"T_a0588_row21_col7\" class=\"data row21 col7\" >20</td>\n",
       "      <td id=\"T_a0588_row21_col8\" class=\"data row21 col8\" >189</td>\n",
       "      <td id=\"T_a0588_row21_col9\" class=\"data row21 col9\" >253</td>\n",
       "      <td id=\"T_a0588_row21_col10\" class=\"data row21 col10\" >219</td>\n",
       "      <td id=\"T_a0588_row21_col11\" class=\"data row21 col11\" >112</td>\n",
       "      <td id=\"T_a0588_row21_col12\" class=\"data row21 col12\" >0</td>\n",
       "      <td id=\"T_a0588_row21_col13\" class=\"data row21 col13\" >0</td>\n",
       "      <td id=\"T_a0588_row21_col14\" class=\"data row21 col14\" >87</td>\n",
       "      <td id=\"T_a0588_row21_col15\" class=\"data row21 col15\" >209</td>\n",
       "      <td id=\"T_a0588_row21_col16\" class=\"data row21 col16\" >253</td>\n",
       "      <td id=\"T_a0588_row21_col17\" class=\"data row21 col17\" >253</td>\n",
       "      <td id=\"T_a0588_row21_col18\" class=\"data row21 col18\" >106</td>\n",
       "      <td id=\"T_a0588_row21_col19\" class=\"data row21 col19\" >0</td>\n",
       "      <td id=\"T_a0588_row21_col20\" class=\"data row21 col20\" >0</td>\n",
       "      <td id=\"T_a0588_row21_col21\" class=\"data row21 col21\" >0</td>\n",
       "      <td id=\"T_a0588_row21_col22\" class=\"data row21 col22\" >0</td>\n",
       "      <td id=\"T_a0588_row21_col23\" class=\"data row21 col23\" >0</td>\n",
       "      <td id=\"T_a0588_row21_col24\" class=\"data row21 col24\" >0</td>\n",
       "      <td id=\"T_a0588_row21_col25\" class=\"data row21 col25\" >0</td>\n",
       "      <td id=\"T_a0588_row21_col26\" class=\"data row21 col26\" >0</td>\n",
       "      <td id=\"T_a0588_row21_col27\" class=\"data row21 col27\" >0</td>\n",
       "    </tr>\n",
       "    <tr>\n",
       "      <th id=\"T_a0588_level0_row22\" class=\"row_heading level0 row22\" >22</th>\n",
       "      <td id=\"T_a0588_row22_col0\" class=\"data row22 col0\" >0</td>\n",
       "      <td id=\"T_a0588_row22_col1\" class=\"data row22 col1\" >0</td>\n",
       "      <td id=\"T_a0588_row22_col2\" class=\"data row22 col2\" >0</td>\n",
       "      <td id=\"T_a0588_row22_col3\" class=\"data row22 col3\" >0</td>\n",
       "      <td id=\"T_a0588_row22_col4\" class=\"data row22 col4\" >0</td>\n",
       "      <td id=\"T_a0588_row22_col5\" class=\"data row22 col5\" >0</td>\n",
       "      <td id=\"T_a0588_row22_col6\" class=\"data row22 col6\" >0</td>\n",
       "      <td id=\"T_a0588_row22_col7\" class=\"data row22 col7\" >0</td>\n",
       "      <td id=\"T_a0588_row22_col8\" class=\"data row22 col8\" >60</td>\n",
       "      <td id=\"T_a0588_row22_col9\" class=\"data row22 col9\" >244</td>\n",
       "      <td id=\"T_a0588_row22_col10\" class=\"data row22 col10\" >253</td>\n",
       "      <td id=\"T_a0588_row22_col11\" class=\"data row22 col11\" >248</td>\n",
       "      <td id=\"T_a0588_row22_col12\" class=\"data row22 col12\" >201</td>\n",
       "      <td id=\"T_a0588_row22_col13\" class=\"data row22 col13\" >201</td>\n",
       "      <td id=\"T_a0588_row22_col14\" class=\"data row22 col14\" >241</td>\n",
       "      <td id=\"T_a0588_row22_col15\" class=\"data row22 col15\" >253</td>\n",
       "      <td id=\"T_a0588_row22_col16\" class=\"data row22 col16\" >253</td>\n",
       "      <td id=\"T_a0588_row22_col17\" class=\"data row22 col17\" >211</td>\n",
       "      <td id=\"T_a0588_row22_col18\" class=\"data row22 col18\" >72</td>\n",
       "      <td id=\"T_a0588_row22_col19\" class=\"data row22 col19\" >0</td>\n",
       "      <td id=\"T_a0588_row22_col20\" class=\"data row22 col20\" >0</td>\n",
       "      <td id=\"T_a0588_row22_col21\" class=\"data row22 col21\" >0</td>\n",
       "      <td id=\"T_a0588_row22_col22\" class=\"data row22 col22\" >0</td>\n",
       "      <td id=\"T_a0588_row22_col23\" class=\"data row22 col23\" >0</td>\n",
       "      <td id=\"T_a0588_row22_col24\" class=\"data row22 col24\" >0</td>\n",
       "      <td id=\"T_a0588_row22_col25\" class=\"data row22 col25\" >0</td>\n",
       "      <td id=\"T_a0588_row22_col26\" class=\"data row22 col26\" >0</td>\n",
       "      <td id=\"T_a0588_row22_col27\" class=\"data row22 col27\" >0</td>\n",
       "    </tr>\n",
       "    <tr>\n",
       "      <th id=\"T_a0588_level0_row23\" class=\"row_heading level0 row23\" >23</th>\n",
       "      <td id=\"T_a0588_row23_col0\" class=\"data row23 col0\" >0</td>\n",
       "      <td id=\"T_a0588_row23_col1\" class=\"data row23 col1\" >0</td>\n",
       "      <td id=\"T_a0588_row23_col2\" class=\"data row23 col2\" >0</td>\n",
       "      <td id=\"T_a0588_row23_col3\" class=\"data row23 col3\" >0</td>\n",
       "      <td id=\"T_a0588_row23_col4\" class=\"data row23 col4\" >0</td>\n",
       "      <td id=\"T_a0588_row23_col5\" class=\"data row23 col5\" >0</td>\n",
       "      <td id=\"T_a0588_row23_col6\" class=\"data row23 col6\" >0</td>\n",
       "      <td id=\"T_a0588_row23_col7\" class=\"data row23 col7\" >0</td>\n",
       "      <td id=\"T_a0588_row23_col8\" class=\"data row23 col8\" >0</td>\n",
       "      <td id=\"T_a0588_row23_col9\" class=\"data row23 col9\" >81</td>\n",
       "      <td id=\"T_a0588_row23_col10\" class=\"data row23 col10\" >249</td>\n",
       "      <td id=\"T_a0588_row23_col11\" class=\"data row23 col11\" >253</td>\n",
       "      <td id=\"T_a0588_row23_col12\" class=\"data row23 col12\" >253</td>\n",
       "      <td id=\"T_a0588_row23_col13\" class=\"data row23 col13\" >253</td>\n",
       "      <td id=\"T_a0588_row23_col14\" class=\"data row23 col14\" >253</td>\n",
       "      <td id=\"T_a0588_row23_col15\" class=\"data row23 col15\" >253</td>\n",
       "      <td id=\"T_a0588_row23_col16\" class=\"data row23 col16\" >209</td>\n",
       "      <td id=\"T_a0588_row23_col17\" class=\"data row23 col17\" >19</td>\n",
       "      <td id=\"T_a0588_row23_col18\" class=\"data row23 col18\" >0</td>\n",
       "      <td id=\"T_a0588_row23_col19\" class=\"data row23 col19\" >0</td>\n",
       "      <td id=\"T_a0588_row23_col20\" class=\"data row23 col20\" >0</td>\n",
       "      <td id=\"T_a0588_row23_col21\" class=\"data row23 col21\" >0</td>\n",
       "      <td id=\"T_a0588_row23_col22\" class=\"data row23 col22\" >0</td>\n",
       "      <td id=\"T_a0588_row23_col23\" class=\"data row23 col23\" >0</td>\n",
       "      <td id=\"T_a0588_row23_col24\" class=\"data row23 col24\" >0</td>\n",
       "      <td id=\"T_a0588_row23_col25\" class=\"data row23 col25\" >0</td>\n",
       "      <td id=\"T_a0588_row23_col26\" class=\"data row23 col26\" >0</td>\n",
       "      <td id=\"T_a0588_row23_col27\" class=\"data row23 col27\" >0</td>\n",
       "    </tr>\n",
       "    <tr>\n",
       "      <th id=\"T_a0588_level0_row24\" class=\"row_heading level0 row24\" >24</th>\n",
       "      <td id=\"T_a0588_row24_col0\" class=\"data row24 col0\" >0</td>\n",
       "      <td id=\"T_a0588_row24_col1\" class=\"data row24 col1\" >0</td>\n",
       "      <td id=\"T_a0588_row24_col2\" class=\"data row24 col2\" >0</td>\n",
       "      <td id=\"T_a0588_row24_col3\" class=\"data row24 col3\" >0</td>\n",
       "      <td id=\"T_a0588_row24_col4\" class=\"data row24 col4\" >0</td>\n",
       "      <td id=\"T_a0588_row24_col5\" class=\"data row24 col5\" >0</td>\n",
       "      <td id=\"T_a0588_row24_col6\" class=\"data row24 col6\" >0</td>\n",
       "      <td id=\"T_a0588_row24_col7\" class=\"data row24 col7\" >0</td>\n",
       "      <td id=\"T_a0588_row24_col8\" class=\"data row24 col8\" >0</td>\n",
       "      <td id=\"T_a0588_row24_col9\" class=\"data row24 col9\" >0</td>\n",
       "      <td id=\"T_a0588_row24_col10\" class=\"data row24 col10\" >19</td>\n",
       "      <td id=\"T_a0588_row24_col11\" class=\"data row24 col11\" >201</td>\n",
       "      <td id=\"T_a0588_row24_col12\" class=\"data row24 col12\" >253</td>\n",
       "      <td id=\"T_a0588_row24_col13\" class=\"data row24 col13\" >253</td>\n",
       "      <td id=\"T_a0588_row24_col14\" class=\"data row24 col14\" >217</td>\n",
       "      <td id=\"T_a0588_row24_col15\" class=\"data row24 col15\" >91</td>\n",
       "      <td id=\"T_a0588_row24_col16\" class=\"data row24 col16\" >10</td>\n",
       "      <td id=\"T_a0588_row24_col17\" class=\"data row24 col17\" >0</td>\n",
       "      <td id=\"T_a0588_row24_col18\" class=\"data row24 col18\" >0</td>\n",
       "      <td id=\"T_a0588_row24_col19\" class=\"data row24 col19\" >0</td>\n",
       "      <td id=\"T_a0588_row24_col20\" class=\"data row24 col20\" >0</td>\n",
       "      <td id=\"T_a0588_row24_col21\" class=\"data row24 col21\" >0</td>\n",
       "      <td id=\"T_a0588_row24_col22\" class=\"data row24 col22\" >0</td>\n",
       "      <td id=\"T_a0588_row24_col23\" class=\"data row24 col23\" >0</td>\n",
       "      <td id=\"T_a0588_row24_col24\" class=\"data row24 col24\" >0</td>\n",
       "      <td id=\"T_a0588_row24_col25\" class=\"data row24 col25\" >0</td>\n",
       "      <td id=\"T_a0588_row24_col26\" class=\"data row24 col26\" >0</td>\n",
       "      <td id=\"T_a0588_row24_col27\" class=\"data row24 col27\" >0</td>\n",
       "    </tr>\n",
       "    <tr>\n",
       "      <th id=\"T_a0588_level0_row25\" class=\"row_heading level0 row25\" >25</th>\n",
       "      <td id=\"T_a0588_row25_col0\" class=\"data row25 col0\" >0</td>\n",
       "      <td id=\"T_a0588_row25_col1\" class=\"data row25 col1\" >0</td>\n",
       "      <td id=\"T_a0588_row25_col2\" class=\"data row25 col2\" >0</td>\n",
       "      <td id=\"T_a0588_row25_col3\" class=\"data row25 col3\" >0</td>\n",
       "      <td id=\"T_a0588_row25_col4\" class=\"data row25 col4\" >0</td>\n",
       "      <td id=\"T_a0588_row25_col5\" class=\"data row25 col5\" >0</td>\n",
       "      <td id=\"T_a0588_row25_col6\" class=\"data row25 col6\" >0</td>\n",
       "      <td id=\"T_a0588_row25_col7\" class=\"data row25 col7\" >0</td>\n",
       "      <td id=\"T_a0588_row25_col8\" class=\"data row25 col8\" >0</td>\n",
       "      <td id=\"T_a0588_row25_col9\" class=\"data row25 col9\" >0</td>\n",
       "      <td id=\"T_a0588_row25_col10\" class=\"data row25 col10\" >0</td>\n",
       "      <td id=\"T_a0588_row25_col11\" class=\"data row25 col11\" >0</td>\n",
       "      <td id=\"T_a0588_row25_col12\" class=\"data row25 col12\" >0</td>\n",
       "      <td id=\"T_a0588_row25_col13\" class=\"data row25 col13\" >0</td>\n",
       "      <td id=\"T_a0588_row25_col14\" class=\"data row25 col14\" >0</td>\n",
       "      <td id=\"T_a0588_row25_col15\" class=\"data row25 col15\" >0</td>\n",
       "      <td id=\"T_a0588_row25_col16\" class=\"data row25 col16\" >0</td>\n",
       "      <td id=\"T_a0588_row25_col17\" class=\"data row25 col17\" >0</td>\n",
       "      <td id=\"T_a0588_row25_col18\" class=\"data row25 col18\" >0</td>\n",
       "      <td id=\"T_a0588_row25_col19\" class=\"data row25 col19\" >0</td>\n",
       "      <td id=\"T_a0588_row25_col20\" class=\"data row25 col20\" >0</td>\n",
       "      <td id=\"T_a0588_row25_col21\" class=\"data row25 col21\" >0</td>\n",
       "      <td id=\"T_a0588_row25_col22\" class=\"data row25 col22\" >0</td>\n",
       "      <td id=\"T_a0588_row25_col23\" class=\"data row25 col23\" >0</td>\n",
       "      <td id=\"T_a0588_row25_col24\" class=\"data row25 col24\" >0</td>\n",
       "      <td id=\"T_a0588_row25_col25\" class=\"data row25 col25\" >0</td>\n",
       "      <td id=\"T_a0588_row25_col26\" class=\"data row25 col26\" >0</td>\n",
       "      <td id=\"T_a0588_row25_col27\" class=\"data row25 col27\" >0</td>\n",
       "    </tr>\n",
       "    <tr>\n",
       "      <th id=\"T_a0588_level0_row26\" class=\"row_heading level0 row26\" >26</th>\n",
       "      <td id=\"T_a0588_row26_col0\" class=\"data row26 col0\" >0</td>\n",
       "      <td id=\"T_a0588_row26_col1\" class=\"data row26 col1\" >0</td>\n",
       "      <td id=\"T_a0588_row26_col2\" class=\"data row26 col2\" >0</td>\n",
       "      <td id=\"T_a0588_row26_col3\" class=\"data row26 col3\" >0</td>\n",
       "      <td id=\"T_a0588_row26_col4\" class=\"data row26 col4\" >0</td>\n",
       "      <td id=\"T_a0588_row26_col5\" class=\"data row26 col5\" >0</td>\n",
       "      <td id=\"T_a0588_row26_col6\" class=\"data row26 col6\" >0</td>\n",
       "      <td id=\"T_a0588_row26_col7\" class=\"data row26 col7\" >0</td>\n",
       "      <td id=\"T_a0588_row26_col8\" class=\"data row26 col8\" >0</td>\n",
       "      <td id=\"T_a0588_row26_col9\" class=\"data row26 col9\" >0</td>\n",
       "      <td id=\"T_a0588_row26_col10\" class=\"data row26 col10\" >0</td>\n",
       "      <td id=\"T_a0588_row26_col11\" class=\"data row26 col11\" >0</td>\n",
       "      <td id=\"T_a0588_row26_col12\" class=\"data row26 col12\" >0</td>\n",
       "      <td id=\"T_a0588_row26_col13\" class=\"data row26 col13\" >0</td>\n",
       "      <td id=\"T_a0588_row26_col14\" class=\"data row26 col14\" >0</td>\n",
       "      <td id=\"T_a0588_row26_col15\" class=\"data row26 col15\" >0</td>\n",
       "      <td id=\"T_a0588_row26_col16\" class=\"data row26 col16\" >0</td>\n",
       "      <td id=\"T_a0588_row26_col17\" class=\"data row26 col17\" >0</td>\n",
       "      <td id=\"T_a0588_row26_col18\" class=\"data row26 col18\" >0</td>\n",
       "      <td id=\"T_a0588_row26_col19\" class=\"data row26 col19\" >0</td>\n",
       "      <td id=\"T_a0588_row26_col20\" class=\"data row26 col20\" >0</td>\n",
       "      <td id=\"T_a0588_row26_col21\" class=\"data row26 col21\" >0</td>\n",
       "      <td id=\"T_a0588_row26_col22\" class=\"data row26 col22\" >0</td>\n",
       "      <td id=\"T_a0588_row26_col23\" class=\"data row26 col23\" >0</td>\n",
       "      <td id=\"T_a0588_row26_col24\" class=\"data row26 col24\" >0</td>\n",
       "      <td id=\"T_a0588_row26_col25\" class=\"data row26 col25\" >0</td>\n",
       "      <td id=\"T_a0588_row26_col26\" class=\"data row26 col26\" >0</td>\n",
       "      <td id=\"T_a0588_row26_col27\" class=\"data row26 col27\" >0</td>\n",
       "    </tr>\n",
       "    <tr>\n",
       "      <th id=\"T_a0588_level0_row27\" class=\"row_heading level0 row27\" >27</th>\n",
       "      <td id=\"T_a0588_row27_col0\" class=\"data row27 col0\" >0</td>\n",
       "      <td id=\"T_a0588_row27_col1\" class=\"data row27 col1\" >0</td>\n",
       "      <td id=\"T_a0588_row27_col2\" class=\"data row27 col2\" >0</td>\n",
       "      <td id=\"T_a0588_row27_col3\" class=\"data row27 col3\" >0</td>\n",
       "      <td id=\"T_a0588_row27_col4\" class=\"data row27 col4\" >0</td>\n",
       "      <td id=\"T_a0588_row27_col5\" class=\"data row27 col5\" >0</td>\n",
       "      <td id=\"T_a0588_row27_col6\" class=\"data row27 col6\" >0</td>\n",
       "      <td id=\"T_a0588_row27_col7\" class=\"data row27 col7\" >0</td>\n",
       "      <td id=\"T_a0588_row27_col8\" class=\"data row27 col8\" >0</td>\n",
       "      <td id=\"T_a0588_row27_col9\" class=\"data row27 col9\" >0</td>\n",
       "      <td id=\"T_a0588_row27_col10\" class=\"data row27 col10\" >0</td>\n",
       "      <td id=\"T_a0588_row27_col11\" class=\"data row27 col11\" >0</td>\n",
       "      <td id=\"T_a0588_row27_col12\" class=\"data row27 col12\" >0</td>\n",
       "      <td id=\"T_a0588_row27_col13\" class=\"data row27 col13\" >0</td>\n",
       "      <td id=\"T_a0588_row27_col14\" class=\"data row27 col14\" >0</td>\n",
       "      <td id=\"T_a0588_row27_col15\" class=\"data row27 col15\" >0</td>\n",
       "      <td id=\"T_a0588_row27_col16\" class=\"data row27 col16\" >0</td>\n",
       "      <td id=\"T_a0588_row27_col17\" class=\"data row27 col17\" >0</td>\n",
       "      <td id=\"T_a0588_row27_col18\" class=\"data row27 col18\" >0</td>\n",
       "      <td id=\"T_a0588_row27_col19\" class=\"data row27 col19\" >0</td>\n",
       "      <td id=\"T_a0588_row27_col20\" class=\"data row27 col20\" >0</td>\n",
       "      <td id=\"T_a0588_row27_col21\" class=\"data row27 col21\" >0</td>\n",
       "      <td id=\"T_a0588_row27_col22\" class=\"data row27 col22\" >0</td>\n",
       "      <td id=\"T_a0588_row27_col23\" class=\"data row27 col23\" >0</td>\n",
       "      <td id=\"T_a0588_row27_col24\" class=\"data row27 col24\" >0</td>\n",
       "      <td id=\"T_a0588_row27_col25\" class=\"data row27 col25\" >0</td>\n",
       "      <td id=\"T_a0588_row27_col26\" class=\"data row27 col26\" >0</td>\n",
       "      <td id=\"T_a0588_row27_col27\" class=\"data row27 col27\" >0</td>\n",
       "    </tr>\n",
       "  </tbody>\n",
       "</table>\n"
      ],
      "text/plain": [
       "<pandas.io.formats.style.Styler at 0x79173101da50>"
      ]
     },
     "execution_count": 6,
     "metadata": {},
     "output_type": "execute_result"
    }
   ],
   "source": [
    "# Converting images to numpy array\n",
    "arr3 = array(img3)\n",
    "#Converting to pytorch tensor\n",
    "ten3 = tensor(img3)\n",
    "#Displaying them in a dataframe\n",
    "three_df = pd.DataFrame(ten3)\n",
    "three_df.style.set_properties(**{'font-size':'6pt'}).background_gradient('Greys')"
   ]
  },
  {
   "cell_type": "code",
   "execution_count": 7,
   "metadata": {
    "execution": {
     "iopub.execute_input": "2024-07-17T08:24:09.602122Z",
     "iopub.status.busy": "2024-07-17T08:24:09.601584Z",
     "iopub.status.idle": "2024-07-17T08:24:13.154955Z",
     "shell.execute_reply": "2024-07-17T08:24:13.153747Z",
     "shell.execute_reply.started": "2024-07-17T08:24:09.602087Z"
    }
   },
   "outputs": [
    {
     "data": {
      "text/plain": [
       "6131"
      ]
     },
     "execution_count": 7,
     "metadata": {},
     "output_type": "execute_result"
    },
    {
     "data": {
      "text/plain": [
       "6265"
      ]
     },
     "execution_count": 7,
     "metadata": {},
     "output_type": "execute_result"
    }
   ],
   "source": [
    "# Calculating averages of all the pixels in each of the images\n",
    "threes_tens = [tensor(Image.open(o)) for o in threes]\n",
    "sevens_tens = [tensor(Image.open(o)) for o in sevens]\n",
    "\n",
    "len(threes_tens)\n",
    "len(sevens_tens)\n",
    "\n",
    "\n"
   ]
  },
  {
   "cell_type": "code",
   "execution_count": 8,
   "metadata": {
    "execution": {
     "iopub.execute_input": "2024-07-17T08:24:13.157139Z",
     "iopub.status.busy": "2024-07-17T08:24:13.156707Z",
     "iopub.status.idle": "2024-07-17T08:24:13.273651Z",
     "shell.execute_reply": "2024-07-17T08:24:13.272438Z",
     "shell.execute_reply.started": "2024-07-17T08:24:13.157100Z"
    }
   },
   "outputs": [
    {
     "data": {
      "text/plain": [
       "<Axes: >"
      ]
     },
     "execution_count": 8,
     "metadata": {},
     "output_type": "execute_result"
    },
    {
     "data": {
      "text/plain": [
       "<Axes: >"
      ]
     },
     "execution_count": 8,
     "metadata": {},
     "output_type": "execute_result"
    },
    {
     "data": {
      "image/png": "[encoded data removed]",
      "text/plain": [
       "<Figure size 100x100 with 1 Axes>"
      ]
     },
     "metadata": {},
     "output_type": "display_data"
    },
    {
     "data": {
      "image/png": "[encoded data removed]",
      "text/plain": [
       "<Figure size 100x100 with 1 Axes>"
      ]
     },
     "metadata": {},
     "output_type": "display_data"
    }
   ],
   "source": [
    "show_image(threes_tens[7])\n",
    "show_image(sevens_tens[3])"
   ]
  },
  {
   "cell_type": "code",
   "execution_count": 9,
   "metadata": {
    "execution": {
     "iopub.execute_input": "2024-07-17T08:24:13.276243Z",
     "iopub.status.busy": "2024-07-17T08:24:13.275493Z",
     "iopub.status.idle": "2024-07-17T08:24:13.413135Z",
     "shell.execute_reply": "2024-07-17T08:24:13.412023Z",
     "shell.execute_reply.started": "2024-07-17T08:24:13.276198Z"
    }
   },
   "outputs": [
    {
     "data": {
      "text/plain": [
       "3"
      ]
     },
     "execution_count": 9,
     "metadata": {},
     "output_type": "execute_result"
    },
    {
     "data": {
      "text/plain": [
       "3"
      ]
     },
     "execution_count": 9,
     "metadata": {},
     "output_type": "execute_result"
    }
   ],
   "source": [
    "### Converting 1d tensor to 3d tensor\n",
    "\n",
    "stck_sevens = torch.stack(sevens_tens).float()/255\n",
    "stck_threes = torch.stack(threes_tens).float()/255\n",
    "\n",
    "# Length of a tensor shape is rank\n",
    "len(stck_sevens.shape)\n",
    "\n",
    "# dimenision and rank both are same\n",
    "stck_sevens.ndim"
   ]
  },
  {
   "cell_type": "code",
   "execution_count": 10,
   "metadata": {
    "execution": {
     "iopub.execute_input": "2024-07-17T08:24:13.415860Z",
     "iopub.status.busy": "2024-07-17T08:24:13.414706Z",
     "iopub.status.idle": "2024-07-17T08:24:13.520584Z",
     "shell.execute_reply": "2024-07-17T08:24:13.519415Z",
     "shell.execute_reply.started": "2024-07-17T08:24:13.415817Z"
    }
   },
   "outputs": [
    {
     "data": {
      "text/plain": [
       "<Axes: >"
      ]
     },
     "execution_count": 10,
     "metadata": {},
     "output_type": "execute_result"
    },
    {
     "data": {
      "text/plain": [
       "<Axes: >"
      ]
     },
     "execution_count": 10,
     "metadata": {},
     "output_type": "execute_result"
    },
    {
     "data": {
      "image/png": "[encoded data removed]",
      "text/plain": [
       "<Figure size 100x100 with 1 Axes>"
      ]
     },
     "metadata": {},
     "output_type": "display_data"
    },
    {
     "data": {
      "image/png": "[encoded data removed]",
      "text/plain": [
       "<Figure size 100x100 with 1 Axes>"
      ]
     },
     "metadata": {},
     "output_type": "display_data"
    }
   ],
   "source": [
    "#Now taking average of all pixels which stacked together\n",
    "mean_3 = stck_threes.mean(0)\n",
    "show_image(mean_3)\n",
    "\n",
    "mean_7 = stck_sevens.mean(0)\n",
    "show_image(mean_7)"
   ]
  },
  {
   "cell_type": "code",
   "execution_count": 11,
   "metadata": {
    "execution": {
     "iopub.execute_input": "2024-07-17T08:24:13.522952Z",
     "iopub.status.busy": "2024-07-17T08:24:13.522169Z",
     "iopub.status.idle": "2024-07-17T08:24:13.552844Z",
     "shell.execute_reply": "2024-07-17T08:24:13.551437Z",
     "shell.execute_reply.started": "2024-07-17T08:24:13.522890Z"
    }
   },
   "outputs": [
    {
     "name": "stdout",
     "output_type": "stream",
     "text": [
      "Error rate for threes : L1 : 0.11143654584884644, L2 : 0.040837619453668594\n",
      "Error rate for sevens : L1 : 0.13037648797035217, L2 : 0.06681827455759048\n"
     ]
    }
   ],
   "source": [
    "# Now the average is our ideal 3 lets calculate the difference mean abosule erro\n",
    "# and root mean sq L2\n",
    "\n",
    "l1_3 = (stck_threes[1] - mean_3).abs().mean()\n",
    "l2_3 = ((stck_threes[1] - mean_3) **2).mean()\n",
    "\n",
    "print(f'Error rate for threes : L1 : {l1_3}, L2 : {l2_3}')\n",
    "\n",
    "l1_7 = (stck_sevens[1] - mean_7).abs().mean()\n",
    "l2_7 = ((stck_sevens[1] - mean_7) **2).mean()\n",
    "\n",
    "print(f'Error rate for sevens : L1 : {l1_7}, L2 : {l2_7}')"
   ]
  },
  {
   "cell_type": "code",
   "execution_count": 12,
   "metadata": {
    "execution": {
     "iopub.execute_input": "2024-07-17T08:24:13.561088Z",
     "iopub.status.busy": "2024-07-17T08:24:13.554398Z",
     "iopub.status.idle": "2024-07-17T08:24:13.611237Z",
     "shell.execute_reply": "2024-07-17T08:24:13.610080Z",
     "shell.execute_reply.started": "2024-07-17T08:24:13.561033Z"
    }
   },
   "outputs": [
    {
     "data": {
      "text/plain": [
       "tensor(0.1114)"
      ]
     },
     "execution_count": 12,
     "metadata": {},
     "output_type": "execute_result"
    },
    {
     "data": {
      "text/plain": [
       "tensor(0.0408)"
      ]
     },
     "execution_count": 12,
     "metadata": {},
     "output_type": "execute_result"
    }
   ],
   "source": [
    "# Calculating loss using default function - Pytorch Here F uses torch.nn.functional\n",
    "F.l1_loss(stck_threes[1],mean_3)\n",
    "F.mse_loss(stck_threes[1],mean_3)"
   ]
  },
  {
   "cell_type": "markdown",
   "metadata": {},
   "source": [
    "### Some theory on arrays and tensors"
   ]
  },
  {
   "cell_type": "code",
   "execution_count": 13,
   "metadata": {
    "execution": {
     "iopub.execute_input": "2024-07-17T08:24:13.619427Z",
     "iopub.status.busy": "2024-07-17T08:24:13.616981Z",
     "iopub.status.idle": "2024-07-17T08:24:13.634672Z",
     "shell.execute_reply": "2024-07-17T08:24:13.633468Z",
     "shell.execute_reply.started": "2024-07-17T08:24:13.619361Z"
    }
   },
   "outputs": [
    {
     "name": "stdout",
     "output_type": "stream",
     "text": [
      "[[1 3 4]\n",
      " [6 8 2]]\n",
      "tensor([[1, 3, 4],\n",
      "        [6, 8, 2]])\n"
     ]
    }
   ],
   "source": [
    "\n",
    "a = [[1,3,4],\n",
    "     [6,8,2]]\n",
    "\n",
    "a_arr = array(a)\n",
    "a_tns = tensor(a)\n",
    "\n",
    "print(a_arr)\n",
    "print(a_tns)"
   ]
  },
  {
   "cell_type": "code",
   "execution_count": 14,
   "metadata": {
    "execution": {
     "iopub.execute_input": "2024-07-17T08:24:13.641544Z",
     "iopub.status.busy": "2024-07-17T08:24:13.640900Z",
     "iopub.status.idle": "2024-07-17T08:24:13.662868Z",
     "shell.execute_reply": "2024-07-17T08:24:13.661746Z",
     "shell.execute_reply.started": "2024-07-17T08:24:13.641496Z"
    }
   },
   "outputs": [
    {
     "data": {
      "text/plain": [
       "tensor(1)"
      ]
     },
     "execution_count": 14,
     "metadata": {},
     "output_type": "execute_result"
    },
    {
     "data": {
      "text/plain": [
       "tensor([3, 8])"
      ]
     },
     "execution_count": 14,
     "metadata": {},
     "output_type": "execute_result"
    },
    {
     "data": {
      "text/plain": [
       "tensor([[2, 4, 5],\n",
       "        [7, 9, 3]])"
      ]
     },
     "execution_count": 14,
     "metadata": {},
     "output_type": "execute_result"
    },
    {
     "data": {
      "text/plain": [
       "'torch.LongTensor'"
      ]
     },
     "execution_count": 14,
     "metadata": {},
     "output_type": "execute_result"
    },
    {
     "data": {
      "text/plain": [
       "tensor([[ 1.5000,  4.5000,  6.0000],\n",
       "        [ 9.0000, 12.0000,  3.0000]])"
      ]
     },
     "execution_count": 14,
     "metadata": {},
     "output_type": "execute_result"
    }
   ],
   "source": [
    "a_tns[0,0]\n",
    "\n",
    "a_tns[0:,1]\n",
    "\n",
    "a_tns + 1\n",
    "\n",
    "a_tns.type()\n",
    "\n",
    "a_tns * 1.5"
   ]
  },
  {
   "cell_type": "markdown",
   "metadata": {},
   "source": [
    "### Validation Set"
   ]
  },
  {
   "cell_type": "code",
   "execution_count": 15,
   "metadata": {
    "execution": {
     "iopub.execute_input": "2024-07-17T08:24:13.664643Z",
     "iopub.status.busy": "2024-07-17T08:24:13.664306Z",
     "iopub.status.idle": "2024-07-17T08:24:14.321414Z",
     "shell.execute_reply": "2024-07-17T08:24:14.320339Z",
     "shell.execute_reply.started": "2024-07-17T08:24:13.664612Z"
    }
   },
   "outputs": [
    {
     "data": {
      "text/plain": [
       "torch.Size([1010, 28, 28])"
      ]
     },
     "execution_count": 15,
     "metadata": {},
     "output_type": "execute_result"
    },
    {
     "data": {
      "text/plain": [
       "torch.Size([1028, 28, 28])"
      ]
     },
     "execution_count": 15,
     "metadata": {},
     "output_type": "execute_result"
    },
    {
     "data": {
      "text/plain": [
       "3"
      ]
     },
     "execution_count": 15,
     "metadata": {},
     "output_type": "execute_result"
    }
   ],
   "source": [
    "valid_3_tens = torch.stack([tensor(Image.open(o)) for o in (path/'valid'/'3').ls().sorted()])\n",
    "valid_7_tens = torch.stack([tensor(Image.open(o)) for o in (path/'valid'/'7').ls().sorted()])\n",
    "\n",
    "# Preprocessing\n",
    "valid_3_tens = valid_3_tens.float()/255\n",
    "valid_7_tens = valid_7_tens.float()/255\n",
    "\n",
    "valid_3_tens.shape\n",
    "valid_7_tens.shape\n",
    "\n",
    "valid_3_tens.ndim"
   ]
  },
  {
   "cell_type": "code",
   "execution_count": 16,
   "metadata": {
    "execution": {
     "iopub.execute_input": "2024-07-17T08:24:14.322991Z",
     "iopub.status.busy": "2024-07-17T08:24:14.322645Z",
     "iopub.status.idle": "2024-07-17T08:24:14.331789Z",
     "shell.execute_reply": "2024-07-17T08:24:14.330554Z",
     "shell.execute_reply.started": "2024-07-17T08:24:14.322954Z"
    }
   },
   "outputs": [],
   "source": [
    "def mnist_distance(valid_tens,true_tens):\n",
    "    return (valid_tens - true_tens).abs().mean((-1,-2))\n",
    "\n",
    "# Even though shapes are different it is able to calculate subraction \n",
    "#because of the tensor shape \n",
    "valid_3_dist = mnist_distance(valid_3_tens,mean_3)\n",
    "valid_7_dist = mnist_distance(valid_7_tens,mean_7)"
   ]
  },
  {
   "cell_type": "code",
   "execution_count": 17,
   "metadata": {
    "execution": {
     "iopub.execute_input": "2024-07-17T08:24:14.334064Z",
     "iopub.status.busy": "2024-07-17T08:24:14.333558Z",
     "iopub.status.idle": "2024-07-17T08:24:14.348480Z",
     "shell.execute_reply": "2024-07-17T08:24:14.347305Z",
     "shell.execute_reply.started": "2024-07-17T08:24:14.334023Z"
    }
   },
   "outputs": [
    {
     "data": {
      "text/plain": [
       "torch.Size([1010])"
      ]
     },
     "execution_count": 17,
     "metadata": {},
     "output_type": "execute_result"
    },
    {
     "data": {
      "text/plain": [
       "torch.Size([1028])"
      ]
     },
     "execution_count": 17,
     "metadata": {},
     "output_type": "execute_result"
    }
   ],
   "source": [
    "valid_3_dist.shape\n",
    "valid_7_dist.shape"
   ]
  },
  {
   "cell_type": "markdown",
   "metadata": {},
   "source": [
    "In below code even though A and B are in different shapes, pytoch broadcasts the smaller tensor b to the shape of a and adds it"
   ]
  },
  {
   "cell_type": "code",
   "execution_count": 18,
   "metadata": {
    "execution": {
     "iopub.execute_input": "2024-07-17T08:24:14.350769Z",
     "iopub.status.busy": "2024-07-17T08:24:14.350084Z",
     "iopub.status.idle": "2024-07-17T08:24:14.359320Z",
     "shell.execute_reply": "2024-07-17T08:24:14.358128Z",
     "shell.execute_reply.started": "2024-07-17T08:24:14.350729Z"
    }
   },
   "outputs": [
    {
     "data": {
      "text/plain": [
       "tensor([3, 5, 6])"
      ]
     },
     "execution_count": 18,
     "metadata": {},
     "output_type": "execute_result"
    }
   ],
   "source": [
    "# Some things about broadcasting\n",
    "a = tensor([1,3,4]) \n",
    "b = tensor([2])\n",
    "a + b\n",
    "\n"
   ]
  },
  {
   "cell_type": "markdown",
   "metadata": {},
   "source": [
    "Now going bac to our example of is 3 or 7"
   ]
  },
  {
   "cell_type": "code",
   "execution_count": 19,
   "metadata": {
    "execution": {
     "iopub.execute_input": "2024-07-17T08:24:14.360782Z",
     "iopub.status.busy": "2024-07-17T08:24:14.360415Z",
     "iopub.status.idle": "2024-07-17T08:24:14.388231Z",
     "shell.execute_reply": "2024-07-17T08:24:14.386699Z",
     "shell.execute_reply.started": "2024-07-17T08:24:14.360742Z"
    }
   },
   "outputs": [
    {
     "data": {
      "text/plain": [
       "tensor(False)"
      ]
     },
     "execution_count": 19,
     "metadata": {},
     "output_type": "execute_result"
    },
    {
     "data": {
      "text/plain": [
       "tensor(True)"
      ]
     },
     "execution_count": 19,
     "metadata": {},
     "output_type": "execute_result"
    },
    {
     "name": "stdout",
     "output_type": "stream",
     "text": [
      "Accuracy of 3 :0.9168316721916199\n",
      "Accuracy of 7 :0.9854085445404053\n"
     ]
    }
   ],
   "source": [
    "def is_3(x):\n",
    "    return mnist_distance(x,mean_3) < mnist_distance(x,mean_7)\n",
    "\n",
    "is_3(valid_7_tens[1])\n",
    "is_3(valid_3_tens[5])\n",
    "\n",
    "# NOw using broadcasting we will calculate for all validation set and calculate accuracy\n",
    "\n",
    "accuracy_3 = is_3(valid_3_tens).float().mean()\n",
    "accuracy_7 = (1 - is_3(valid_7_tens).float().mean())\n",
    "\n",
    "print(f'Accuracy of 3 :{accuracy_3}')\n",
    "print(f'Accuracy of 7 :{accuracy_7}')"
   ]
  },
  {
   "cell_type": "markdown",
   "metadata": {},
   "source": [
    "### Calculating Gradients"
   ]
  },
  {
   "cell_type": "code",
   "execution_count": 20,
   "metadata": {
    "execution": {
     "iopub.execute_input": "2024-07-17T08:24:14.390450Z",
     "iopub.status.busy": "2024-07-17T08:24:14.390105Z",
     "iopub.status.idle": "2024-07-17T08:24:14.410444Z",
     "shell.execute_reply": "2024-07-17T08:24:14.409377Z",
     "shell.execute_reply.started": "2024-07-17T08:24:14.390420Z"
    }
   },
   "outputs": [
    {
     "data": {
      "text/plain": [
       "tensor(9., grad_fn=<PowBackward0>)"
      ]
     },
     "execution_count": 20,
     "metadata": {},
     "output_type": "execute_result"
    },
    {
     "data": {
      "text/plain": [
       "tensor(6.)"
      ]
     },
     "execution_count": 20,
     "metadata": {},
     "output_type": "execute_result"
    }
   ],
   "source": [
    "def f(x):\n",
    "    return x**2\n",
    "\n",
    "# plot_function(f,'x','x^2')\n",
    "# plt.scatter(-1.5,f(-1.5), color = 'green')\n",
    "\n",
    "# Calculating gradient using pytorc\n",
    "\n",
    "# Defining at what value you want the grad\n",
    "xt = tensor(3.).requires_grad_()\n",
    "\n",
    "# Passing the value to loss function\n",
    "yt = f(xt)\n",
    "\n",
    "yt\n",
    "\n",
    "# Calculates gradient of loss function\n",
    "yt.backward()\n",
    "\n",
    "# Gradient value of the function - (3^2 --> 9 --> yt.backward() \n",
    "#(x^2 becomes 2x) --> so xt.grad becomes 3*2 = 6\n",
    "xt.grad"
   ]
  },
  {
   "cell_type": "code",
   "execution_count": 21,
   "metadata": {
    "execution": {
     "iopub.execute_input": "2024-07-17T08:24:14.412226Z",
     "iopub.status.busy": "2024-07-17T08:24:14.411868Z",
     "iopub.status.idle": "2024-07-17T08:24:14.429670Z",
     "shell.execute_reply": "2024-07-17T08:24:14.428352Z",
     "shell.execute_reply.started": "2024-07-17T08:24:14.412197Z"
    }
   },
   "outputs": [
    {
     "data": {
      "text/plain": [
       "tensor(45., grad_fn=<SumBackward0>)"
      ]
     },
     "execution_count": 21,
     "metadata": {},
     "output_type": "execute_result"
    },
    {
     "data": {
      "text/plain": [
       "tensor([ 4.,  8., 10.])"
      ]
     },
     "execution_count": 21,
     "metadata": {},
     "output_type": "execute_result"
    }
   ],
   "source": [
    "#One more example\n",
    "\n",
    "xt = tensor([2.,4.,5.]).requires_grad_()\n",
    "\n",
    "def f(x): return(x**2).sum()\n",
    "\n",
    "yt = f(xt)\n",
    "yt\n",
    "yt.backward() #(x**2 becomes 2x for each value in the tensor)\n",
    "xt.grad"
   ]
  },
  {
   "cell_type": "markdown",
   "metadata": {},
   "source": [
    "### End to End SGD example"
   ]
  },
  {
   "cell_type": "code",
   "execution_count": 22,
   "metadata": {
    "execution": {
     "iopub.execute_input": "2024-07-17T08:24:14.432063Z",
     "iopub.status.busy": "2024-07-17T08:24:14.431593Z",
     "iopub.status.idle": "2024-07-17T08:24:14.660167Z",
     "shell.execute_reply": "2024-07-17T08:24:14.658883Z",
     "shell.execute_reply.started": "2024-07-17T08:24:14.432028Z"
    }
   },
   "outputs": [
    {
     "data": {
      "image/svg+xml": [
       "<?xml version=\"1.0\" encoding=\"UTF-8\" standalone=\"no\"?>\n",
       "<!DOCTYPE svg PUBLIC \"-//W3C//DTD SVG 1.1//EN\"\n",
       " \"http://www.w3.org/Graphics/SVG/1.1/DTD/svg11.dtd\">\n",
       "<!-- Generated by graphviz version 9.0.0 (20231125.0833)\n",
       " -->\n",
       "<!-- Title: G Pages: 1 -->\n",
       "<svg width=\"689pt\" height=\"78pt\"\n",
       " viewBox=\"0.00 0.00 688.85 78.00\" xmlns=\"http://www.w3.org/2000/svg\" xmlns:xlink=\"http://www.w3.org/1999/xlink\">\n",
       "<g id=\"graph0\" class=\"graph\" transform=\"scale(1 1) rotate(0) translate(4 74)\">\n",
       "<title>G</title>\n",
       "<polygon fill=\"white\" stroke=\"none\" points=\"-4,4 -4,-74 684.85,-74 684.85,4 -4,4\"/>\n",
       "<!-- init -->\n",
       "<g id=\"node1\" class=\"node\">\n",
       "<title>init</title>\n",
       "<ellipse fill=\"none\" stroke=\"black\" cx=\"28.06\" cy=\"-18\" rx=\"28.06\" ry=\"18\"/>\n",
       "<text text-anchor=\"middle\" x=\"28.06\" y=\"-13.32\" font-family=\"Times,serif\" font-size=\"14.00\">init</text>\n",
       "</g>\n",
       "<!-- predict -->\n",
       "<g id=\"node2\" class=\"node\">\n",
       "<title>predict</title>\n",
       "<ellipse fill=\"none\" stroke=\"black\" cx=\"140.12\" cy=\"-18\" rx=\"47\" ry=\"18\"/>\n",
       "<text text-anchor=\"middle\" x=\"140.12\" y=\"-13.32\" font-family=\"Times,serif\" font-size=\"14.00\">predict</text>\n",
       "</g>\n",
       "<!-- init&#45;&gt;predict -->\n",
       "<g id=\"edge1\" class=\"edge\">\n",
       "<title>init&#45;&gt;predict</title>\n",
       "<path fill=\"none\" stroke=\"black\" d=\"M56.55,-18C64.16,-18 72.72,-18 81.38,-18\"/>\n",
       "<polygon fill=\"black\" stroke=\"black\" points=\"81.22,-21.5 91.22,-18 81.22,-14.5 81.22,-21.5\"/>\n",
       "</g>\n",
       "<!-- loss -->\n",
       "<g id=\"node3\" class=\"node\">\n",
       "<title>loss</title>\n",
       "<ellipse fill=\"none\" stroke=\"black\" cx=\"254.81\" cy=\"-52\" rx=\"30.69\" ry=\"18\"/>\n",
       "<text text-anchor=\"middle\" x=\"254.81\" y=\"-47.33\" font-family=\"Times,serif\" font-size=\"14.00\">loss</text>\n",
       "</g>\n",
       "<!-- predict&#45;&gt;loss -->\n",
       "<g id=\"edge2\" class=\"edge\">\n",
       "<title>predict&#45;&gt;loss</title>\n",
       "<path fill=\"none\" stroke=\"black\" d=\"M178.02,-29.13C190.2,-32.81 203.78,-36.9 216.03,-40.6\"/>\n",
       "<polygon fill=\"black\" stroke=\"black\" points=\"214.8,-43.89 225.38,-43.42 216.82,-37.18 214.8,-43.89\"/>\n",
       "</g>\n",
       "<!-- gradient -->\n",
       "<g id=\"node4\" class=\"node\">\n",
       "<title>gradient</title>\n",
       "<ellipse fill=\"none\" stroke=\"black\" cx=\"421.83\" cy=\"-52\" rx=\"53.84\" ry=\"18\"/>\n",
       "<text text-anchor=\"middle\" x=\"421.83\" y=\"-47.33\" font-family=\"Times,serif\" font-size=\"14.00\">gradient</text>\n",
       "</g>\n",
       "<!-- loss&#45;&gt;gradient -->\n",
       "<g id=\"edge3\" class=\"edge\">\n",
       "<title>loss&#45;&gt;gradient</title>\n",
       "<path fill=\"none\" stroke=\"black\" d=\"M285.69,-52C305.42,-52 332.03,-52 356.42,-52\"/>\n",
       "<polygon fill=\"black\" stroke=\"black\" points=\"356.29,-55.5 366.29,-52 356.29,-48.5 356.29,-55.5\"/>\n",
       "</g>\n",
       "<!-- step -->\n",
       "<g id=\"node5\" class=\"node\">\n",
       "<title>step</title>\n",
       "<ellipse fill=\"none\" stroke=\"black\" cx=\"545.47\" cy=\"-18\" rx=\"32.79\" ry=\"18\"/>\n",
       "<text text-anchor=\"middle\" x=\"545.47\" y=\"-13.32\" font-family=\"Times,serif\" font-size=\"14.00\">step</text>\n",
       "</g>\n",
       "<!-- gradient&#45;&gt;step -->\n",
       "<g id=\"edge4\" class=\"edge\">\n",
       "<title>gradient&#45;&gt;step</title>\n",
       "<path fill=\"none\" stroke=\"black\" d=\"M464.01,-40.49C477.13,-36.82 491.6,-32.78 504.62,-29.14\"/>\n",
       "<polygon fill=\"black\" stroke=\"black\" points=\"505.47,-32.54 514.16,-26.47 503.58,-25.79 505.47,-32.54\"/>\n",
       "</g>\n",
       "<!-- step&#45;&gt;predict -->\n",
       "<g id=\"edge6\" class=\"edge\">\n",
       "<title>step&#45;&gt;predict</title>\n",
       "<path fill=\"none\" stroke=\"black\" d=\"M512.3,-18C444.24,-18 284.9,-18 198.78,-18\"/>\n",
       "<polygon fill=\"black\" stroke=\"black\" points=\"198.9,-14.5 188.9,-18 198.9,-21.5 198.9,-14.5\"/>\n",
       "<text text-anchor=\"middle\" x=\"326.75\" y=\"-21.95\" font-family=\"Times,serif\" font-size=\"14.00\">repeat</text>\n",
       "</g>\n",
       "<!-- stop -->\n",
       "<g id=\"node6\" class=\"node\">\n",
       "<title>stop</title>\n",
       "<ellipse fill=\"none\" stroke=\"black\" cx=\"648.06\" cy=\"-18\" rx=\"32.79\" ry=\"18\"/>\n",
       "<text text-anchor=\"middle\" x=\"648.06\" y=\"-13.32\" font-family=\"Times,serif\" font-size=\"14.00\">stop</text>\n",
       "</g>\n",
       "<!-- step&#45;&gt;stop -->\n",
       "<g id=\"edge5\" class=\"edge\">\n",
       "<title>step&#45;&gt;stop</title>\n",
       "<path fill=\"none\" stroke=\"black\" d=\"M578.57,-18C586.56,-18 595.25,-18 603.68,-18\"/>\n",
       "<polygon fill=\"black\" stroke=\"black\" points=\"603.4,-21.5 613.4,-18 603.4,-14.5 603.4,-21.5\"/>\n",
       "</g>\n",
       "</g>\n",
       "</svg>\n"
      ],
      "text/plain": [
       "<graphviz.sources.Source at 0x791707110490>"
      ]
     },
     "execution_count": 22,
     "metadata": {},
     "output_type": "execute_result"
    }
   ],
   "source": [
    "gv('''\n",
    "init->predict->loss->gradient->step->stop\n",
    "step->predict[label=repeat]\n",
    "''')"
   ]
  },
  {
   "cell_type": "code",
   "execution_count": 23,
   "metadata": {
    "execution": {
     "iopub.execute_input": "2024-07-17T08:24:14.661823Z",
     "iopub.status.busy": "2024-07-17T08:24:14.661451Z",
     "iopub.status.idle": "2024-07-17T08:24:14.942733Z",
     "shell.execute_reply": "2024-07-17T08:24:14.941599Z",
     "shell.execute_reply.started": "2024-07-17T08:24:14.661791Z"
    }
   },
   "outputs": [
    {
     "data": {
      "text/plain": [
       "tensor([ 1.,  2.,  3.,  4.,  5.,  6.,  7.,  8.,  9., 10., 11., 12., 13., 14., 15., 16., 17., 18., 19., 20.])"
      ]
     },
     "execution_count": 23,
     "metadata": {},
     "output_type": "execute_result"
    },
    {
     "data": {
      "text/plain": [
       "<matplotlib.collections.PathCollection at 0x79170710dfc0>"
      ]
     },
     "execution_count": 23,
     "metadata": {},
     "output_type": "execute_result"
    },
    {
     "data": {
      "image/png": "[encoded data removed]",
      "text/plain": [
       "<Figure size 640x480 with 1 Axes>"
      ]
     },
     "metadata": {},
     "output_type": "display_data"
    }
   ],
   "source": [
    "# Measuuring the speed of a roller coaster\n",
    "\n",
    "# Lets create a time variale for 20 seconds\n",
    "time = torch.arange(1,21).float()\n",
    "time\n",
    "\n",
    "#Lets create a speed variable\n",
    "\n",
    "speed = torch.randn(20) * 3 + 0.75*(time - 9.5)**2 + 1\n",
    "plt.scatter(time, speed)"
   ]
  },
  {
   "cell_type": "code",
   "execution_count": 24,
   "metadata": {
    "execution": {
     "iopub.execute_input": "2024-07-17T08:24:14.944827Z",
     "iopub.status.busy": "2024-07-17T08:24:14.944464Z",
     "iopub.status.idle": "2024-07-17T08:24:15.510944Z",
     "shell.execute_reply": "2024-07-17T08:24:15.509705Z",
     "shell.execute_reply.started": "2024-07-17T08:24:14.944795Z"
    },
    "scrolled": true
   },
   "outputs": [
    {
     "name": "stdout",
     "output_type": "stream",
     "text": [
      "Orginal Weights:tensor([-0.7658, -0.7506,  1.3525], requires_grad=True)\n",
      "Predictions:tensor([-1.6391e-01, -3.2121e+00, -7.7919e+00, -1.3903e+01, -2.1547e+01, -3.0721e+01, -4.1428e+01, -5.3666e+01, -6.7436e+01, -8.2738e+01, -9.9571e+01, -1.1794e+02, -1.3783e+02, -1.5926e+02,\n",
      "        -1.8222e+02, -2.0671e+02, -2.3274e+02, -2.6029e+02, -2.8938e+02, -3.2000e+02], grad_fn=<AddBackward0>)\n",
      "loss:33737.1953125\n",
      "parameter gradient:tensor([-69349.5156,  -4228.3770,   -287.5256])\n",
      "Updated Weights:tensor([-0.0723, -0.7083,  1.3554])\n"
     ]
    },
    {
     "data": {
      "image/png": "[encoded data removed]",
      "text/plain": [
       "<Figure size 640x480 with 1 Axes>"
      ]
     },
     "metadata": {},
     "output_type": "display_data"
    },
    {
     "data": {
      "image/png": "[encoded data removed]",
      "text/plain": [
       "<Figure size 640x480 with 1 Axes>"
      ]
     },
     "metadata": {},
     "output_type": "display_data"
    }
   ],
   "source": [
    "# Activation function\n",
    "def f(t,params):\n",
    "    a,b,c = params\n",
    "    return a*(t**2) + (b*t) + c\n",
    "\n",
    "#Loss function\n",
    "def mse(actuals, preds):\n",
    "    return ((preds-actuals)**2).mean()\n",
    "\n",
    "# Initializing weights\n",
    "params = torch.randn(3).requires_grad_()\n",
    "print(f'Orginal Weights:{params}')\n",
    "\n",
    "#Saving inital weights\n",
    "orig_params = params.clone()\n",
    "\n",
    "#Calculate predicitions\n",
    "predictions = f(time,params)\n",
    "print(f'Predictions:{predictions}')\n",
    "\n",
    "# Lets visualize predicitions\n",
    "def show_preds(preds, ax = None):\n",
    "    if ax is None: ax = plt.subplots()[1]\n",
    "    ax.scatter(time, speed)\n",
    "    ax.scatter(time,to_np(preds), color = 'red')\n",
    "    ax.set_ylim(-300, 100)\n",
    "    return\n",
    "\n",
    "show_preds(predictions) # Going in negative direction\n",
    "\n",
    "# Calculating loss\n",
    "loss = mse(speed, predictions)\n",
    "print(f'loss:{loss}')\n",
    "\n",
    "#Calculate Gradients\n",
    "loss.backward()\n",
    "print(f'parameter gradient:{params.grad}')\n",
    "\n",
    "\n",
    "#Now Optimize weights or parametersbased on the loss\n",
    "lr = 1e-5 # Learning rate\n",
    "\n",
    "params.data -= params.grad * lr\n",
    "params.grad = None\n",
    "\n",
    "print(f'Updated Weights:{params.data}')\n",
    "\n",
    "#See if predictions improved\n",
    "predictions = f(time,params)\n",
    "show_preds(predictions) "
   ]
  },
  {
   "cell_type": "code",
   "execution_count": 25,
   "metadata": {
    "execution": {
     "iopub.execute_input": "2024-07-17T08:24:15.513225Z",
     "iopub.status.busy": "2024-07-17T08:24:15.512712Z",
     "iopub.status.idle": "2024-07-17T08:24:17.855923Z",
     "shell.execute_reply": "2024-07-17T08:24:17.854811Z",
     "shell.execute_reply.started": "2024-07-17T08:24:15.513182Z"
    }
   },
   "outputs": [
    {
     "name": "stdout",
     "output_type": "stream",
     "text": [
      "Loss:2971.96728515625\n",
      "Loss:651.590576171875\n",
      "Loss:1522.4622802734375\n",
      "Loss:3515.979736328125\n",
      "Loss:1896.895751953125\n",
      "Loss:511.03216552734375\n",
      "Loss:2650.2333984375\n",
      "Loss:3233.196533203125\n",
      "Loss:875.1726684570312\n",
      "Loss:1177.183349609375\n"
     ]
    },
    {
     "data": {
      "image/png": "[encoded data removed]",
      "text/plain": [
       "<Figure size 640x480 with 1 Axes>"
      ]
     },
     "metadata": {},
     "output_type": "display_data"
    },
    {
     "data": {
      "image/png": "[encoded data removed]",
      "text/plain": [
       "<Figure size 640x480 with 1 Axes>"
      ]
     },
     "metadata": {},
     "output_type": "display_data"
    },
    {
     "data": {
      "image/png": "[encoded data removed]",
      "text/plain": [
       "<Figure size 640x480 with 1 Axes>"
      ]
     },
     "metadata": {},
     "output_type": "display_data"
    },
    {
     "data": {
      "image/png": "[encoded data removed]",
      "text/plain": [
       "<Figure size 640x480 with 1 Axes>"
      ]
     },
     "metadata": {},
     "output_type": "display_data"
    },
    {
     "data": {
      "image/png": "[encoded data removed]",
      "text/plain": [
       "<Figure size 640x480 with 1 Axes>"
      ]
     },
     "metadata": {},
     "output_type": "display_data"
    },
    {
     "data": {
      "image/png": "[encoded data removed]",
      "text/plain": [
       "<Figure size 640x480 with 1 Axes>"
      ]
     },
     "metadata": {},
     "output_type": "display_data"
    },
    {
     "data": {
      "image/png": "[encoded data removed]",
      "text/plain": [
       "<Figure size 640x480 with 1 Axes>"
      ]
     },
     "metadata": {},
     "output_type": "display_data"
    },
    {
     "data": {
      "image/png": "[encoded data removed]",
      "text/plain": [
       "<Figure size 640x480 with 1 Axes>"
      ]
     },
     "metadata": {},
     "output_type": "display_data"
    },
    {
     "data": {
      "image/png": "[encoded data removed]",
      "text/plain": [
       "<Figure size 640x480 with 1 Axes>"
      ]
     },
     "metadata": {},
     "output_type": "display_data"
    },
    {
     "data": {
      "image/png": "[encoded data removed]",
      "text/plain": [
       "<Figure size 640x480 with 1 Axes>"
      ]
     },
     "metadata": {},
     "output_type": "display_data"
    }
   ],
   "source": [
    "lr = 1e-5 # Learning Rate\n",
    "def apply_step(params, prnt = True):\n",
    "    preds = f(time,params)\n",
    "    show_preds(preds)\n",
    "    loss = mse(speed,preds)\n",
    "    loss.backward()\n",
    "    params.data -= params.grad * lr\n",
    "    if prnt : print(f'Loss:{loss.item()}')\n",
    "    return \n",
    "\n",
    "for i in range(10): apply_step(params) # 10 epochs"
   ]
  },
  {
   "cell_type": "code",
   "execution_count": 26,
   "metadata": {
    "execution": {
     "iopub.execute_input": "2024-07-17T08:24:17.858433Z",
     "iopub.status.busy": "2024-07-17T08:24:17.857492Z",
     "iopub.status.idle": "2024-07-17T08:24:17.867196Z",
     "shell.execute_reply": "2024-07-17T08:24:17.865910Z",
     "shell.execute_reply.started": "2024-07-17T08:24:17.858388Z"
    }
   },
   "outputs": [
    {
     "name": "stdout",
     "output_type": "stream",
     "text": [
      "tensor([-0.7658, -0.7506,  1.3525], grad_fn=<CloneBackward0>)\n",
      "tensor([ 0.4755, -0.6775,  1.3641], requires_grad=True)\n"
     ]
    }
   ],
   "source": [
    "print(orig_params) # Orginal Parameter\n",
    "print(params) # Final parameters after 10 epochs\n",
    "\n",
    "# params = orig_params.detach().requires_grad_()\n",
    "# params"
   ]
  },
  {
   "attachments": {
    "c5c0f942-9039-43f9-9707-38130378f111.png": {
     "image/png": "[encoded data removed]"
    }
   },
   "cell_type": "markdown",
   "metadata": {},
   "source": [
    "## What does unsqueeze does?\n",
    "\n",
    "![image.png](attachment:c5c0f942-9039-43f9-9707-38130378f111.png)"
   ]
  },
  {
   "cell_type": "markdown",
   "metadata": {},
   "source": [
    "### Applying the same logic to MNIST"
   ]
  },
  {
   "cell_type": "code",
   "execution_count": 27,
   "metadata": {
    "execution": {
     "iopub.execute_input": "2024-07-17T08:24:17.869097Z",
     "iopub.status.busy": "2024-07-17T08:24:17.868640Z",
     "iopub.status.idle": "2024-07-17T08:24:18.251411Z",
     "shell.execute_reply": "2024-07-17T08:24:18.250137Z",
     "shell.execute_reply.started": "2024-07-17T08:24:17.869054Z"
    }
   },
   "outputs": [
    {
     "data": {
      "text/plain": [
       "torch.Size([6131, 28, 28])"
      ]
     },
     "execution_count": 27,
     "metadata": {},
     "output_type": "execute_result"
    },
    {
     "data": {
      "text/plain": [
       "torch.Size([6265, 28, 28])"
      ]
     },
     "execution_count": 27,
     "metadata": {},
     "output_type": "execute_result"
    },
    {
     "data": {
      "text/plain": [
       "torch.Size([12396, 784])"
      ]
     },
     "execution_count": 27,
     "metadata": {},
     "output_type": "execute_result"
    },
    {
     "data": {
      "text/plain": [
       "torch.Size([12396, 1])"
      ]
     },
     "execution_count": 27,
     "metadata": {},
     "output_type": "execute_result"
    },
    {
     "data": {
      "text/plain": [
       "(torch.Size([784]), tensor([1]))"
      ]
     },
     "execution_count": 27,
     "metadata": {},
     "output_type": "execute_result"
    },
    {
     "data": {
      "text/plain": [
       "torch.Size([1])"
      ]
     },
     "execution_count": 27,
     "metadata": {},
     "output_type": "execute_result"
    },
    {
     "data": {
      "text/plain": [
       "torch.Size([784, 1])"
      ]
     },
     "execution_count": 27,
     "metadata": {},
     "output_type": "execute_result"
    }
   ],
   "source": [
    "# Creation of independent variables - train x\n",
    "stck_threes.shape\n",
    "stck_sevens.shape\n",
    "train_x = torch.cat([stck_threes,stck_sevens]).view(-1,28*28)\n",
    "train_x.shape\n",
    "\n",
    "#Creation of dependent variables - train y\n",
    "train_y = tensor([1]*len(threes) + [0] * len(sevens)).unsqueeze(1)\n",
    "train_y.shape\n",
    "\n",
    "\n",
    "# Creation of dataset - training\n",
    "train_ds  = list(zip(train_x,train_y))\n",
    "x,y = train_ds[0]\n",
    "x.shape, y\n",
    "\n",
    "# Creation of dataset - testing\n",
    "valid_x = torch.cat([valid_3_tens,valid_7_tens]).view(-1,28*28)\n",
    "valid_y = tensor([1]*len(valid_3_tens)+[0]*len(valid_7_tens)).unsqueeze(1)\n",
    "\n",
    "#Creation of dataset - validation \n",
    "valid_ds = list(zip(valid_x,valid_y))\n",
    "\n",
    "# Step 1   - Initializing weights\n",
    "\n",
    "def init_params(size,std=1.0):\n",
    "    params = (torch.randn(size)*std).requires_grad_()\n",
    "    return params\n",
    "\n",
    "\n",
    "weights = init_params((28*28,1))\n",
    "\n",
    "bias = init_params(1)\n",
    "\n",
    "bias.shape\n",
    "weights.shape \n",
    "\n",
    "\n"
   ]
  },
  {
   "cell_type": "code",
   "execution_count": 28,
   "metadata": {
    "execution": {
     "iopub.execute_input": "2024-07-17T08:24:18.253452Z",
     "iopub.status.busy": "2024-07-17T08:24:18.253107Z",
     "iopub.status.idle": "2024-07-17T08:24:18.285406Z",
     "shell.execute_reply": "2024-07-17T08:24:18.284154Z",
     "shell.execute_reply.started": "2024-07-17T08:24:18.253420Z"
    }
   },
   "outputs": [
    {
     "data": {
      "text/plain": [
       "tensor([20.2336], grad_fn=<AddBackward0>)"
      ]
     },
     "execution_count": 28,
     "metadata": {},
     "output_type": "execute_result"
    },
    {
     "data": {
      "text/plain": [
       "tensor([[20.2336],\n",
       "        [17.0644],\n",
       "        [15.2384],\n",
       "        ...,\n",
       "        [18.3804],\n",
       "        [23.8567],\n",
       "        [28.6816]], grad_fn=<AddBackward0>)"
      ]
     },
     "execution_count": 28,
     "metadata": {},
     "output_type": "execute_result"
    },
    {
     "data": {
      "text/plain": [
       "0.4912068545818329"
      ]
     },
     "execution_count": 28,
     "metadata": {},
     "output_type": "execute_result"
    }
   ],
   "source": [
    "# For one imahge\n",
    "(train_x[0]* weights.T).sum() + bias\n",
    "\n",
    "\n",
    "# Using matrix multpilcation to calculate output for all inputs\n",
    "def linear1(xb):\n",
    "    return xb@weights + bias # here @ is the matrix multiplication\n",
    "\n",
    "#getting bredicitons\n",
    "preds = linear1(train_x)\n",
    "preds\n",
    "\n",
    "#Calculating accuracy\n",
    "corrects  = (preds>0.0).float() == train_y\n",
    "accuracy = corrects.float().mean().item()\n",
    "\n",
    "accuracy\n"
   ]
  },
  {
   "cell_type": "markdown",
   "metadata": {},
   "source": [
    "Unfortunately, we have a significant technical problem here. The gradient of a function is its slope, or its steepness, which can be defined as rise over run—that is, how much the value of the function goes up or down, divided by how much we changed the input. We can write this in mathematically as: (y_new - y_old) / (x_new - x_old). This gives us a good approximation of the gradient when x_new is very similar to x_old, meaning that their difference is very small. But accuracy only changes at all when a prediction changes from a 3 to a 7, or vice versa. The problem is that a small change in weights from x_old to x_new isn't likely to cause any prediction to change, so (y_new - y_old) will almost always be 0. In other words, the gradient is 0 almost everywhere."
   ]
  },
  {
   "cell_type": "code",
   "execution_count": 29,
   "metadata": {
    "execution": {
     "iopub.execute_input": "2024-07-17T08:24:18.287810Z",
     "iopub.status.busy": "2024-07-17T08:24:18.287356Z",
     "iopub.status.idle": "2024-07-17T08:24:18.515598Z",
     "shell.execute_reply": "2024-07-17T08:24:18.514050Z",
     "shell.execute_reply.started": "2024-07-17T08:24:18.287767Z"
    }
   },
   "outputs": [
    {
     "data": {
      "text/plain": [
       "tensor([[20.2336],\n",
       "        [17.0644],\n",
       "        [15.2384],\n",
       "        ...,\n",
       "        [18.3804],\n",
       "        [23.8567],\n",
       "        [28.6816]], grad_fn=<AddBackward0>)"
      ]
     },
     "execution_count": 29,
     "metadata": {},
     "output_type": "execute_result"
    },
    {
     "data": {
      "text/plain": [
       "0.4912068545818329"
      ]
     },
     "execution_count": 29,
     "metadata": {},
     "output_type": "execute_result"
    }
   ],
   "source": [
    "# Changing the weights to see the change accuracy\n",
    "with torch.no_grad(): \n",
    "    weights[0] *= tensor([1.001])\n",
    "\n",
    "def linear1(xb):\n",
    "    return xb@weights + bias     \n",
    "#getting bredicitons\n",
    "preds = linear1(train_x)\n",
    "preds\n",
    "#Calculating accuracy\n",
    "corrects  = (preds>0.0).float() == train_y\n",
    "accuracy = corrects.float().mean().item()\n",
    "accuracy"
   ]
  },
  {
   "cell_type": "markdown",
   "metadata": {},
   "source": [
    "we can't use accuracy as loss function because it will be a constant number, taking gradient of constant number will be always zero, and only on the threshold point the gradient will be infinite"
   ]
  },
  {
   "cell_type": "code",
   "execution_count": 30,
   "metadata": {
    "execution": {
     "iopub.execute_input": "2024-07-17T08:24:18.517218Z",
     "iopub.status.busy": "2024-07-17T08:24:18.516844Z",
     "iopub.status.idle": "2024-07-17T08:24:18.527802Z",
     "shell.execute_reply": "2024-07-17T08:24:18.526529Z",
     "shell.execute_reply.started": "2024-07-17T08:24:18.517187Z"
    }
   },
   "outputs": [
    {
     "data": {
      "text/plain": [
       "tensor(0.4333)"
      ]
     },
     "execution_count": 30,
     "metadata": {},
     "output_type": "execute_result"
    }
   ],
   "source": [
    "def mnist_loss(predictions, targets):\n",
    "    return torch.where(targets == 1, 1- predictions, predictions).mean()\n",
    "\n",
    "# Lets test an example\n",
    "act= tensor([1,0,1])\n",
    "pred = tensor([0.9,0.4,0.2])\n",
    "\n",
    "mnist_loss(pred, act) \n"
   ]
  },
  {
   "cell_type": "code",
   "execution_count": 31,
   "metadata": {
    "execution": {
     "iopub.execute_input": "2024-07-17T08:24:18.529648Z",
     "iopub.status.busy": "2024-07-17T08:24:18.529247Z",
     "iopub.status.idle": "2024-07-17T08:24:18.797795Z",
     "shell.execute_reply": "2024-07-17T08:24:18.796350Z",
     "shell.execute_reply.started": "2024-07-17T08:24:18.529616Z"
    }
   },
   "outputs": [
    {
     "data": {
      "image/png": "[encoded data removed]",
      "text/plain": [
       "<Figure size 600x400 with 1 Axes>"
      ]
     },
     "metadata": {},
     "output_type": "display_data"
    }
   ],
   "source": [
    "# Here the mnist loss functions assumes that predictions will be always between 0 and 1\n",
    "# so we have to make sure the activation function outputs only results between 0 and 1\n",
    "def sigmoid(x):\n",
    "    return 1/(1+torch.exp(-x))\n",
    "\n",
    "\n",
    "plot_function(torch.sigmoid, title = 'Sigmoid', min = -5, max = 5)\n",
    "\n",
    "\n",
    "#Now lets update the mnist loss functions to update the outputs to be within 0 and 1\n",
    "\n",
    "def mnist_loss(predictions, actuals):\n",
    "    predictions = predictions.sigmoid()\n",
    "    return torch.where(targets == 1, 1- predictions, predictions).mean()\n",
    "\n"
   ]
  },
  {
   "cell_type": "markdown",
   "metadata": {},
   "source": [
    "### Putting it all together - SGD & MNIST"
   ]
  },
  {
   "cell_type": "code",
   "execution_count": 32,
   "metadata": {
    "execution": {
     "iopub.execute_input": "2024-07-17T08:24:18.799884Z",
     "iopub.status.busy": "2024-07-17T08:24:18.799421Z",
     "iopub.status.idle": "2024-07-17T08:24:20.658976Z",
     "shell.execute_reply": "2024-07-17T08:24:20.657837Z",
     "shell.execute_reply.started": "2024-07-17T08:24:18.799838Z"
    },
    "scrolled": true
   },
   "outputs": [
    {
     "data": {
      "text/plain": [
       "(torch.Size([256, 784]), torch.Size([256, 1]))"
      ]
     },
     "execution_count": 32,
     "metadata": {},
     "output_type": "execute_result"
    },
    {
     "data": {
      "text/html": [
       "<div>\n",
       "<style scoped>\n",
       "    .dataframe tbody tr th:only-of-type {\n",
       "        vertical-align: middle;\n",
       "    }\n",
       "\n",
       "    .dataframe tbody tr th {\n",
       "        vertical-align: top;\n",
       "    }\n",
       "\n",
       "    .dataframe thead th {\n",
       "        text-align: right;\n",
       "    }\n",
       "</style>\n",
       "<table border=\"1\" class=\"dataframe\">\n",
       "  <thead>\n",
       "    <tr style=\"text-align: right;\">\n",
       "      <th></th>\n",
       "      <th>Epoch</th>\n",
       "      <th>Train Accuracy</th>\n",
       "      <th>valid_accuracy</th>\n",
       "    </tr>\n",
       "  </thead>\n",
       "  <tbody>\n",
       "    <tr>\n",
       "      <th>0</th>\n",
       "      <td>0</td>\n",
       "      <td>0.501371</td>\n",
       "      <td>0.51362</td>\n",
       "    </tr>\n",
       "    <tr>\n",
       "      <th>1</th>\n",
       "      <td>1</td>\n",
       "      <td>0.517748</td>\n",
       "      <td>0.52337</td>\n",
       "    </tr>\n",
       "    <tr>\n",
       "      <th>2</th>\n",
       "      <td>2</td>\n",
       "      <td>0.531704</td>\n",
       "      <td>0.53717</td>\n",
       "    </tr>\n",
       "    <tr>\n",
       "      <th>3</th>\n",
       "      <td>3</td>\n",
       "      <td>0.548725</td>\n",
       "      <td>0.55673</td>\n",
       "    </tr>\n",
       "    <tr>\n",
       "      <th>4</th>\n",
       "      <td>4</td>\n",
       "      <td>0.578170</td>\n",
       "      <td>0.58604</td>\n",
       "    </tr>\n",
       "    <tr>\n",
       "      <th>5</th>\n",
       "      <td>5</td>\n",
       "      <td>0.634640</td>\n",
       "      <td>0.64175</td>\n",
       "    </tr>\n",
       "    <tr>\n",
       "      <th>6</th>\n",
       "      <td>6</td>\n",
       "      <td>0.705954</td>\n",
       "      <td>0.71317</td>\n",
       "    </tr>\n",
       "    <tr>\n",
       "      <th>7</th>\n",
       "      <td>7</td>\n",
       "      <td>0.773717</td>\n",
       "      <td>0.78324</td>\n",
       "    </tr>\n",
       "    <tr>\n",
       "      <th>8</th>\n",
       "      <td>8</td>\n",
       "      <td>0.822039</td>\n",
       "      <td>0.83264</td>\n",
       "    </tr>\n",
       "    <tr>\n",
       "      <th>9</th>\n",
       "      <td>9</td>\n",
       "      <td>0.852130</td>\n",
       "      <td>0.86314</td>\n",
       "    </tr>\n",
       "    <tr>\n",
       "      <th>10</th>\n",
       "      <td>10</td>\n",
       "      <td>0.872540</td>\n",
       "      <td>0.88102</td>\n",
       "    </tr>\n",
       "    <tr>\n",
       "      <th>11</th>\n",
       "      <td>11</td>\n",
       "      <td>0.886818</td>\n",
       "      <td>0.89476</td>\n",
       "    </tr>\n",
       "    <tr>\n",
       "      <th>12</th>\n",
       "      <td>12</td>\n",
       "      <td>0.895692</td>\n",
       "      <td>0.90161</td>\n",
       "    </tr>\n",
       "    <tr>\n",
       "      <th>13</th>\n",
       "      <td>13</td>\n",
       "      <td>0.904001</td>\n",
       "      <td>0.90836</td>\n",
       "    </tr>\n",
       "    <tr>\n",
       "      <th>14</th>\n",
       "      <td>14</td>\n",
       "      <td>0.910616</td>\n",
       "      <td>0.91424</td>\n",
       "    </tr>\n",
       "    <tr>\n",
       "      <th>15</th>\n",
       "      <td>15</td>\n",
       "      <td>0.915295</td>\n",
       "      <td>0.91719</td>\n",
       "    </tr>\n",
       "    <tr>\n",
       "      <th>16</th>\n",
       "      <td>16</td>\n",
       "      <td>0.918845</td>\n",
       "      <td>0.92142</td>\n",
       "    </tr>\n",
       "    <tr>\n",
       "      <th>17</th>\n",
       "      <td>17</td>\n",
       "      <td>0.922959</td>\n",
       "      <td>0.92289</td>\n",
       "    </tr>\n",
       "    <tr>\n",
       "      <th>18</th>\n",
       "      <td>18</td>\n",
       "      <td>0.926509</td>\n",
       "      <td>0.92772</td>\n",
       "    </tr>\n",
       "    <tr>\n",
       "      <th>19</th>\n",
       "      <td>19</td>\n",
       "      <td>0.929816</td>\n",
       "      <td>0.93105</td>\n",
       "    </tr>\n",
       "  </tbody>\n",
       "</table>\n",
       "</div>"
      ],
      "text/plain": [
       "    Epoch  Train Accuracy  valid_accuracy\n",
       "0       0        0.501371         0.51362\n",
       "1       1        0.517748         0.52337\n",
       "2       2        0.531704         0.53717\n",
       "3       3        0.548725         0.55673\n",
       "4       4        0.578170         0.58604\n",
       "5       5        0.634640         0.64175\n",
       "6       6        0.705954         0.71317\n",
       "7       7        0.773717         0.78324\n",
       "8       8        0.822039         0.83264\n",
       "9       9        0.852130         0.86314\n",
       "10     10        0.872540         0.88102\n",
       "11     11        0.886818         0.89476\n",
       "12     12        0.895692         0.90161\n",
       "13     13        0.904001         0.90836\n",
       "14     14        0.910616         0.91424\n",
       "15     15        0.915295         0.91719\n",
       "16     16        0.918845         0.92142\n",
       "17     17        0.922959         0.92289\n",
       "18     18        0.926509         0.92772\n",
       "19     19        0.929816         0.93105"
      ]
     },
     "execution_count": 32,
     "metadata": {},
     "output_type": "execute_result"
    }
   ],
   "source": [
    "def init_params(size,std=1.0):\n",
    "    params = (torch.randn(size)*std).requires_grad_()\n",
    "    return params\n",
    "\n",
    "\n",
    "def linear1(xb):\n",
    "    return xb@weights + bias # here @ is the matrix multiplication\n",
    "\n",
    "def mnist_loss(predictions, actuals):\n",
    "    predictions = predictions.sigmoid()\n",
    "    return torch.where(actuals == 1, 1- predictions, predictions).mean()\n",
    "\n",
    "def calc_grad(batch_data,target_vals,model):\n",
    "    preds = model(batch_data)\n",
    "    loss = mnist_loss(preds,target_vals)\n",
    "    loss.backward()\n",
    "    return preds\n",
    "    \n",
    "def train_epoch(model,lr,params):\n",
    "    for batch_x, batch_y in train_dl:\n",
    "        preds = calc_grad(batch_x,batch_y, model)\n",
    "        for p in params:\n",
    "            p.data -= p.grad * lr\n",
    "            p.grad.zero_()\n",
    "\n",
    "\n",
    "def calc_batch_accuracy(preds,target_vals):\n",
    "    predictions = torch.sigmoid(preds)\n",
    "    correct_preds = ((preds>0.5) == target_vals).float()\n",
    "    return correct_preds.mean()\n",
    "\n",
    "def calc_validate_epoch(model):\n",
    "    valid_accs = [calc_batch_accuracy(model(xb),yb) for xb,yb in valid_dl]\n",
    "    return round(torch.stack(valid_accs).mean().item(), 5)\n",
    "\n",
    "\n",
    "\n",
    "\n",
    "    \n",
    "# Initializing weights & Bias\n",
    "weights = init_params((28*28),1)\n",
    "bias = init_params(1)\n",
    "params = weights, bias\n",
    "\n",
    "\n",
    "#Data Preparation - train set\n",
    "train_dl = DataLoader(train_ds, batch_size = 256)\n",
    "\n",
    "\n",
    "#Data Preparation - test set\n",
    "valid_dl = DataLoader(valid_ds, batch_size = 256)\n",
    "first(valid_dl)[0].shape,first(valid_dl)[1].shape\n",
    "\n",
    "\n",
    "\n",
    "\n",
    "# Setting learning rate and no of epochs\n",
    "train_log_df = pd.DataFrame()\n",
    "lr = 0.1\n",
    "epochs = 20\n",
    "#Model training\n",
    "for i in range(epochs):\n",
    "    train_epoch(linear1,lr,params)\n",
    "    predictions = linear1(train_x)\n",
    "    train_accuracy = calc_batch_accuracy(predictions,train_y.squeeze(1)).item()\n",
    "    valid_accuracy  = calc_validate_epoch(linear1)\n",
    "    temp_df = pd.DataFrame({f'Epoch': i, 'Train Accuracy':train_accuracy,'valid_accuracy':valid_accuracy}, index = np.arange(1))\n",
    "    train_log_df = pd.concat([train_log_df,temp_df],ignore_index = True)\n",
    "    \n",
    "train_log_df    \n",
    "\n",
    "\n",
    "\n",
    "\n",
    "\n",
    "\n",
    "\n",
    "#\n"
   ]
  },
  {
   "cell_type": "markdown",
   "metadata": {},
   "source": [
    "### Optimizer"
   ]
  },
  {
   "cell_type": "code",
   "execution_count": 33,
   "metadata": {
    "execution": {
     "iopub.execute_input": "2024-07-17T08:24:20.660509Z",
     "iopub.status.busy": "2024-07-17T08:24:20.660175Z",
     "iopub.status.idle": "2024-07-17T08:24:20.666785Z",
     "shell.execute_reply": "2024-07-17T08:24:20.665641Z",
     "shell.execute_reply.started": "2024-07-17T08:24:20.660480Z"
    }
   },
   "outputs": [
    {
     "name": "stdout",
     "output_type": "stream",
     "text": [
      "args:  ('geeks', 'for', 'geeks')\n",
      "kwargs:  {'first': 'Geeks', 'mid': 'for', 'last': 'Geeks'}\n"
     ]
    }
   ],
   "source": [
    "#Understanding *args & **kwards\n",
    "def myFun(*args, **kwargs):\n",
    "    print(\"args: \", args)\n",
    "    print(\"kwargs: \", kwargs)\n",
    "\n",
    "\n",
    "# Now we can use both *args ,**kwargs\n",
    "# to pass arguments to this function :\n",
    "myFun('geeks', 'for', 'geeks', first=\"Geeks\", mid=\"for\", last=\"Geeks\")"
   ]
  },
  {
   "cell_type": "code",
   "execution_count": 34,
   "metadata": {
    "execution": {
     "iopub.execute_input": "2024-07-17T08:24:20.668753Z",
     "iopub.status.busy": "2024-07-17T08:24:20.668408Z",
     "iopub.status.idle": "2024-07-17T08:24:20.683930Z",
     "shell.execute_reply": "2024-07-17T08:24:20.682847Z",
     "shell.execute_reply.started": "2024-07-17T08:24:20.668722Z"
    }
   },
   "outputs": [
    {
     "data": {
      "text/plain": [
       "(torch.Size([1, 784]), torch.Size([1]))"
      ]
     },
     "execution_count": 34,
     "metadata": {},
     "output_type": "execute_result"
    }
   ],
   "source": [
    "# Now lets use pytorch to use fasten the process\n",
    "\n",
    "# Setting model architecture, weights & bias\n",
    "linear_model = nn.Linear(28*28,1)\n",
    "w,b = linear_model.parameters()\n",
    "\n",
    "w.shape, b.shape"
   ]
  },
  {
   "cell_type": "code",
   "execution_count": 35,
   "metadata": {
    "execution": {
     "iopub.execute_input": "2024-07-17T08:24:20.685521Z",
     "iopub.status.busy": "2024-07-17T08:24:20.685165Z",
     "iopub.status.idle": "2024-07-17T08:24:22.217438Z",
     "shell.execute_reply": "2024-07-17T08:24:22.216366Z",
     "shell.execute_reply.started": "2024-07-17T08:24:20.685492Z"
    }
   },
   "outputs": [
    {
     "name": "stdout",
     "output_type": "stream",
     "text": [
      "0.64746 0.82422 0.89551 0.92527 0.94041 0.94627 0.94871 0.95311 0.9575 0.96043 0.96141 0.96139 0.96187 0.96139 0.96187 0.96236 0.96236 0.96236 0.96236 0.96236 "
     ]
    }
   ],
   "source": [
    "class BasicOptimizer:\n",
    "    def __init__(self,params,lr):\n",
    "        self.params = list(params)\n",
    "        self.lr = lr\n",
    "    \n",
    "    def step(self,*args,**kwargs):\n",
    "        for p in self.params: \n",
    "            p.data -= p.grad.data * self.lr\n",
    "            p.grad_ = None\n",
    "    def zero_grad(self,*args,**kwargs):\n",
    "        for p in self.params : p.grad = None\n",
    "            \n",
    "\n",
    "def train_one_epoch(model):\n",
    "    for xb,yb in train_dl:\n",
    "        calc_grad(xb,yb,model)\n",
    "        opt.step()\n",
    "        opt.zero_grad()\n",
    "\n",
    "def train_model(model,epochs):\n",
    "    for i in range(epochs):\n",
    "        train_one_epoch(model)\n",
    "        print(calc_validate_epoch(model),end = ' ')\n",
    "\n",
    "lr = 0.01\n",
    "opt = BasicOptimizer(linear_model.parameters(),lr)\n",
    "\n",
    "train_model(linear_model,20)\n"
   ]
  },
  {
   "cell_type": "code",
   "execution_count": 39,
   "metadata": {
    "execution": {
     "iopub.execute_input": "2024-07-17T08:25:30.650130Z",
     "iopub.status.busy": "2024-07-17T08:25:30.648886Z",
     "iopub.status.idle": "2024-07-17T08:25:32.164998Z",
     "shell.execute_reply": "2024-07-17T08:25:32.163865Z",
     "shell.execute_reply.started": "2024-07-17T08:25:30.650089Z"
    }
   },
   "outputs": [
    {
     "name": "stdout",
     "output_type": "stream",
     "text": [
      "0.50928 0.50928 0.50928 0.50928 0.50928 0.50928 0.50928 0.50928 0.50928 0.50928 0.50928 0.50928 0.50928 0.50928 0.50928 0.50928 0.50928 0.50928 0.50928 0.50928 "
     ]
    }
   ],
   "source": [
    "def train_one_epoch(model):\n",
    "    for xb,yb in train_dl:\n",
    "        calc_grad(xb,yb,model)\n",
    "        opt.step()\n",
    "        opt.zero_grad()\n",
    "\n",
    "def train_model(model,epochs):\n",
    "    for i in range(epochs):\n",
    "        train_one_epoch(model)\n",
    "        print(calc_validate_epoch(model),end = ' ')\n",
    "        \n",
    "# Now we will replace our Basic optimizer with SGD which is there in FAST AI\n",
    "lin_mod= nn.Linear(28*28,1)\n",
    "opt = SGD(lin_mod.parameters,0.1)\n",
    "\n",
    "train_model(lin_mod,20)\n",
    "\n",
    "\n"
   ]
  },
  {
   "cell_type": "code",
   "execution_count": 41,
   "metadata": {
    "execution": {
     "iopub.execute_input": "2024-07-17T08:27:46.093988Z",
     "iopub.status.busy": "2024-07-17T08:27:46.093586Z",
     "iopub.status.idle": "2024-07-17T08:27:48.997757Z",
     "shell.execute_reply": "2024-07-17T08:27:48.996546Z",
     "shell.execute_reply.started": "2024-07-17T08:27:46.093930Z"
    }
   },
   "outputs": [
    {
     "data": {
      "text/html": [
       "\n",
       "<style>\n",
       "    /* Turns off some styling */\n",
       "    progress {\n",
       "        /* gets rid of default border in Firefox and Opera. */\n",
       "        border: none;\n",
       "        /* Needs to be in here for Safari polyfill so background images work as expected. */\n",
       "        background-size: auto;\n",
       "    }\n",
       "    progress:not([value]), progress:not([value])::-webkit-progress-bar {\n",
       "        background: repeating-linear-gradient(45deg, #7e7e7e, #7e7e7e 10px, #5c5c5c 10px, #5c5c5c 20px);\n",
       "    }\n",
       "    .progress-bar-interrupted, .progress-bar-interrupted::-webkit-progress-bar {\n",
       "        background: #F44336;\n",
       "    }\n",
       "</style>\n"
      ],
      "text/plain": [
       "<IPython.core.display.HTML object>"
      ]
     },
     "metadata": {},
     "output_type": "display_data"
    },
    {
     "data": {
      "text/html": [
       "<table border=\"1\" class=\"dataframe\">\n",
       "  <thead>\n",
       "    <tr style=\"text-align: left;\">\n",
       "      <th>epoch</th>\n",
       "      <th>train_loss</th>\n",
       "      <th>valid_loss</th>\n",
       "      <th>calc_batch_accuracy</th>\n",
       "      <th>time</th>\n",
       "    </tr>\n",
       "  </thead>\n",
       "  <tbody>\n",
       "    <tr>\n",
       "      <td>0</td>\n",
       "      <td>0.429151</td>\n",
       "      <td>0.350353</td>\n",
       "      <td>0.716389</td>\n",
       "      <td>00:00</td>\n",
       "    </tr>\n",
       "    <tr>\n",
       "      <td>1</td>\n",
       "      <td>0.319836</td>\n",
       "      <td>0.263555</td>\n",
       "      <td>0.824828</td>\n",
       "      <td>00:00</td>\n",
       "    </tr>\n",
       "    <tr>\n",
       "      <td>2</td>\n",
       "      <td>0.246747</td>\n",
       "      <td>0.205949</td>\n",
       "      <td>0.896958</td>\n",
       "      <td>00:00</td>\n",
       "    </tr>\n",
       "    <tr>\n",
       "      <td>3</td>\n",
       "      <td>0.198511</td>\n",
       "      <td>0.169435</td>\n",
       "      <td>0.922473</td>\n",
       "      <td>00:00</td>\n",
       "    </tr>\n",
       "    <tr>\n",
       "      <td>4</td>\n",
       "      <td>0.166255</td>\n",
       "      <td>0.146036</td>\n",
       "      <td>0.940137</td>\n",
       "      <td>00:00</td>\n",
       "    </tr>\n",
       "    <tr>\n",
       "      <td>5</td>\n",
       "      <td>0.144234</td>\n",
       "      <td>0.130101</td>\n",
       "      <td>0.948479</td>\n",
       "      <td>00:00</td>\n",
       "    </tr>\n",
       "    <tr>\n",
       "      <td>6</td>\n",
       "      <td>0.128704</td>\n",
       "      <td>0.118585</td>\n",
       "      <td>0.951914</td>\n",
       "      <td>00:00</td>\n",
       "    </tr>\n",
       "    <tr>\n",
       "      <td>7</td>\n",
       "      <td>0.117321</td>\n",
       "      <td>0.109856</td>\n",
       "      <td>0.955839</td>\n",
       "      <td>00:00</td>\n",
       "    </tr>\n",
       "    <tr>\n",
       "      <td>8</td>\n",
       "      <td>0.108652</td>\n",
       "      <td>0.102987</td>\n",
       "      <td>0.957802</td>\n",
       "      <td>00:00</td>\n",
       "    </tr>\n",
       "    <tr>\n",
       "      <td>9</td>\n",
       "      <td>0.101818</td>\n",
       "      <td>0.097422</td>\n",
       "      <td>0.957802</td>\n",
       "      <td>00:00</td>\n",
       "    </tr>\n",
       "    <tr>\n",
       "      <td>10</td>\n",
       "      <td>0.096270</td>\n",
       "      <td>0.092807</td>\n",
       "      <td>0.958783</td>\n",
       "      <td>00:00</td>\n",
       "    </tr>\n",
       "    <tr>\n",
       "      <td>11</td>\n",
       "      <td>0.091656</td>\n",
       "      <td>0.088906</td>\n",
       "      <td>0.960255</td>\n",
       "      <td>00:00</td>\n",
       "    </tr>\n",
       "    <tr>\n",
       "      <td>12</td>\n",
       "      <td>0.087742</td>\n",
       "      <td>0.085557</td>\n",
       "      <td>0.960746</td>\n",
       "      <td>00:00</td>\n",
       "    </tr>\n",
       "    <tr>\n",
       "      <td>13</td>\n",
       "      <td>0.084369</td>\n",
       "      <td>0.082643</td>\n",
       "      <td>0.961727</td>\n",
       "      <td>00:00</td>\n",
       "    </tr>\n",
       "    <tr>\n",
       "      <td>14</td>\n",
       "      <td>0.081422</td>\n",
       "      <td>0.080079</td>\n",
       "      <td>0.961727</td>\n",
       "      <td>00:00</td>\n",
       "    </tr>\n",
       "  </tbody>\n",
       "</table>"
      ],
      "text/plain": [
       "<IPython.core.display.HTML object>"
      ]
     },
     "metadata": {},
     "output_type": "display_data"
    }
   ],
   "source": [
    "#Now using high level API like fast ai to do the process\n",
    "\n",
    "dls = DataLoaders(train_dl,valid_dl)\n",
    "mnist_learner = Learner(dls, nn.Linear(28*28,1),opt_func= SGD,\n",
    "                       loss_func = mnist_loss,metrics = calc_batch_accuracy )\n",
    "\n",
    "mnist_learner.fit(15,lr = 0.01)"
   ]
  },
  {
   "cell_type": "code",
   "execution_count": 42,
   "metadata": {
    "execution": {
     "iopub.execute_input": "2024-07-17T08:51:40.744800Z",
     "iopub.status.busy": "2024-07-17T08:51:40.744400Z",
     "iopub.status.idle": "2024-07-17T08:51:41.014903Z",
     "shell.execute_reply": "2024-07-17T08:51:41.013617Z",
     "shell.execute_reply.started": "2024-07-17T08:51:40.744765Z"
    }
   },
   "outputs": [
    {
     "data": {
      "image/png": "[encoded data removed]",
      "text/plain": [
       "<Figure size 600x400 with 1 Axes>"
      ]
     },
     "metadata": {},
     "output_type": "display_data"
    }
   ],
   "source": [
    "# Adding non linearity between networks\n",
    "plot_function(F.relu)"
   ]
  },
  {
   "cell_type": "code",
   "execution_count": 43,
   "metadata": {
    "execution": {
     "iopub.execute_input": "2024-07-17T08:54:06.575319Z",
     "iopub.status.busy": "2024-07-17T08:54:06.574869Z",
     "iopub.status.idle": "2024-07-17T08:54:06.582745Z",
     "shell.execute_reply": "2024-07-17T08:54:06.581508Z",
     "shell.execute_reply.started": "2024-07-17T08:54:06.575284Z"
    }
   },
   "outputs": [],
   "source": [
    "## Replacing linear model(one layer) with neural networks\n",
    "# ita just the same linearnetworks u add non linearity in between\n",
    "\n",
    "def simple_net(xb):\n",
    "    res1 = xb@w1 + b1\n",
    "    res1 = res1.max(tensor(0.0))\n",
    "    res = res1@w2 + b2\n",
    "    return res\n",
    "\n",
    "w1 = init_params((28*28,30))\n",
    "b1 = init_params(30)\n",
    "\n",
    "w2 = init_params((30,1))\n",
    "b2 = init_params(1)\n",
    "\n",
    "\n"
   ]
  },
  {
   "cell_type": "code",
   "execution_count": 46,
   "metadata": {
    "execution": {
     "iopub.execute_input": "2024-07-17T08:57:20.166718Z",
     "iopub.status.busy": "2024-07-17T08:57:20.166324Z",
     "iopub.status.idle": "2024-07-17T08:57:27.318952Z",
     "shell.execute_reply": "2024-07-17T08:57:27.317878Z",
     "shell.execute_reply.started": "2024-07-17T08:57:20.166684Z"
    }
   },
   "outputs": [
    {
     "data": {
      "text/html": [
       "\n",
       "<style>\n",
       "    /* Turns off some styling */\n",
       "    progress {\n",
       "        /* gets rid of default border in Firefox and Opera. */\n",
       "        border: none;\n",
       "        /* Needs to be in here for Safari polyfill so background images work as expected. */\n",
       "        background-size: auto;\n",
       "    }\n",
       "    progress:not([value]), progress:not([value])::-webkit-progress-bar {\n",
       "        background: repeating-linear-gradient(45deg, #7e7e7e, #7e7e7e 10px, #5c5c5c 10px, #5c5c5c 20px);\n",
       "    }\n",
       "    .progress-bar-interrupted, .progress-bar-interrupted::-webkit-progress-bar {\n",
       "        background: #F44336;\n",
       "    }\n",
       "</style>\n"
      ],
      "text/plain": [
       "<IPython.core.display.HTML object>"
      ]
     },
     "metadata": {},
     "output_type": "display_data"
    },
    {
     "data": {
      "text/html": [
       "<table border=\"1\" class=\"dataframe\">\n",
       "  <thead>\n",
       "    <tr style=\"text-align: left;\">\n",
       "      <th>epoch</th>\n",
       "      <th>train_loss</th>\n",
       "      <th>valid_loss</th>\n",
       "      <th>calc_batch_accuracy</th>\n",
       "      <th>time</th>\n",
       "    </tr>\n",
       "  </thead>\n",
       "  <tbody>\n",
       "    <tr>\n",
       "      <td>0</td>\n",
       "      <td>0.296038</td>\n",
       "      <td>0.407808</td>\n",
       "      <td>0.504416</td>\n",
       "      <td>00:00</td>\n",
       "    </tr>\n",
       "    <tr>\n",
       "      <td>1</td>\n",
       "      <td>0.138809</td>\n",
       "      <td>0.221001</td>\n",
       "      <td>0.762022</td>\n",
       "      <td>00:00</td>\n",
       "    </tr>\n",
       "    <tr>\n",
       "      <td>2</td>\n",
       "      <td>0.077651</td>\n",
       "      <td>0.112858</td>\n",
       "      <td>0.896958</td>\n",
       "      <td>00:00</td>\n",
       "    </tr>\n",
       "    <tr>\n",
       "      <td>3</td>\n",
       "      <td>0.051642</td>\n",
       "      <td>0.076918</td>\n",
       "      <td>0.929343</td>\n",
       "      <td>00:00</td>\n",
       "    </tr>\n",
       "    <tr>\n",
       "      <td>4</td>\n",
       "      <td>0.039547</td>\n",
       "      <td>0.060362</td>\n",
       "      <td>0.947007</td>\n",
       "      <td>00:00</td>\n",
       "    </tr>\n",
       "    <tr>\n",
       "      <td>5</td>\n",
       "      <td>0.033327</td>\n",
       "      <td>0.051007</td>\n",
       "      <td>0.958292</td>\n",
       "      <td>00:00</td>\n",
       "    </tr>\n",
       "    <tr>\n",
       "      <td>6</td>\n",
       "      <td>0.029719</td>\n",
       "      <td>0.045073</td>\n",
       "      <td>0.963690</td>\n",
       "      <td>00:00</td>\n",
       "    </tr>\n",
       "    <tr>\n",
       "      <td>7</td>\n",
       "      <td>0.027353</td>\n",
       "      <td>0.040994</td>\n",
       "      <td>0.967125</td>\n",
       "      <td>00:00</td>\n",
       "    </tr>\n",
       "    <tr>\n",
       "      <td>8</td>\n",
       "      <td>0.025634</td>\n",
       "      <td>0.038011</td>\n",
       "      <td>0.967615</td>\n",
       "      <td>00:00</td>\n",
       "    </tr>\n",
       "    <tr>\n",
       "      <td>9</td>\n",
       "      <td>0.024296</td>\n",
       "      <td>0.035729</td>\n",
       "      <td>0.969087</td>\n",
       "      <td>00:00</td>\n",
       "    </tr>\n",
       "    <tr>\n",
       "      <td>10</td>\n",
       "      <td>0.023207</td>\n",
       "      <td>0.033915</td>\n",
       "      <td>0.970069</td>\n",
       "      <td>00:00</td>\n",
       "    </tr>\n",
       "    <tr>\n",
       "      <td>11</td>\n",
       "      <td>0.022296</td>\n",
       "      <td>0.032430</td>\n",
       "      <td>0.970559</td>\n",
       "      <td>00:00</td>\n",
       "    </tr>\n",
       "    <tr>\n",
       "      <td>12</td>\n",
       "      <td>0.021521</td>\n",
       "      <td>0.031183</td>\n",
       "      <td>0.973013</td>\n",
       "      <td>00:00</td>\n",
       "    </tr>\n",
       "    <tr>\n",
       "      <td>13</td>\n",
       "      <td>0.020850</td>\n",
       "      <td>0.030112</td>\n",
       "      <td>0.973503</td>\n",
       "      <td>00:00</td>\n",
       "    </tr>\n",
       "    <tr>\n",
       "      <td>14</td>\n",
       "      <td>0.020261</td>\n",
       "      <td>0.029181</td>\n",
       "      <td>0.973503</td>\n",
       "      <td>00:00</td>\n",
       "    </tr>\n",
       "    <tr>\n",
       "      <td>15</td>\n",
       "      <td>0.019740</td>\n",
       "      <td>0.028358</td>\n",
       "      <td>0.973994</td>\n",
       "      <td>00:00</td>\n",
       "    </tr>\n",
       "    <tr>\n",
       "      <td>16</td>\n",
       "      <td>0.019273</td>\n",
       "      <td>0.027626</td>\n",
       "      <td>0.974975</td>\n",
       "      <td>00:00</td>\n",
       "    </tr>\n",
       "    <tr>\n",
       "      <td>17</td>\n",
       "      <td>0.018852</td>\n",
       "      <td>0.026967</td>\n",
       "      <td>0.975957</td>\n",
       "      <td>00:00</td>\n",
       "    </tr>\n",
       "    <tr>\n",
       "      <td>18</td>\n",
       "      <td>0.018468</td>\n",
       "      <td>0.026371</td>\n",
       "      <td>0.976448</td>\n",
       "      <td>00:00</td>\n",
       "    </tr>\n",
       "    <tr>\n",
       "      <td>19</td>\n",
       "      <td>0.018118</td>\n",
       "      <td>0.025830</td>\n",
       "      <td>0.976448</td>\n",
       "      <td>00:00</td>\n",
       "    </tr>\n",
       "    <tr>\n",
       "      <td>20</td>\n",
       "      <td>0.017794</td>\n",
       "      <td>0.025335</td>\n",
       "      <td>0.976938</td>\n",
       "      <td>00:00</td>\n",
       "    </tr>\n",
       "    <tr>\n",
       "      <td>21</td>\n",
       "      <td>0.017495</td>\n",
       "      <td>0.024882</td>\n",
       "      <td>0.976938</td>\n",
       "      <td>00:00</td>\n",
       "    </tr>\n",
       "    <tr>\n",
       "      <td>22</td>\n",
       "      <td>0.017217</td>\n",
       "      <td>0.024465</td>\n",
       "      <td>0.977429</td>\n",
       "      <td>00:00</td>\n",
       "    </tr>\n",
       "    <tr>\n",
       "      <td>23</td>\n",
       "      <td>0.016957</td>\n",
       "      <td>0.024080</td>\n",
       "      <td>0.977920</td>\n",
       "      <td>00:00</td>\n",
       "    </tr>\n",
       "    <tr>\n",
       "      <td>24</td>\n",
       "      <td>0.016714</td>\n",
       "      <td>0.023725</td>\n",
       "      <td>0.977920</td>\n",
       "      <td>00:00</td>\n",
       "    </tr>\n",
       "    <tr>\n",
       "      <td>25</td>\n",
       "      <td>0.016485</td>\n",
       "      <td>0.023395</td>\n",
       "      <td>0.978410</td>\n",
       "      <td>00:00</td>\n",
       "    </tr>\n",
       "    <tr>\n",
       "      <td>26</td>\n",
       "      <td>0.016269</td>\n",
       "      <td>0.023089</td>\n",
       "      <td>0.978901</td>\n",
       "      <td>00:00</td>\n",
       "    </tr>\n",
       "    <tr>\n",
       "      <td>27</td>\n",
       "      <td>0.016065</td>\n",
       "      <td>0.022804</td>\n",
       "      <td>0.979392</td>\n",
       "      <td>00:00</td>\n",
       "    </tr>\n",
       "    <tr>\n",
       "      <td>28</td>\n",
       "      <td>0.015872</td>\n",
       "      <td>0.022538</td>\n",
       "      <td>0.979882</td>\n",
       "      <td>00:00</td>\n",
       "    </tr>\n",
       "    <tr>\n",
       "      <td>29</td>\n",
       "      <td>0.015688</td>\n",
       "      <td>0.022291</td>\n",
       "      <td>0.979882</td>\n",
       "      <td>00:00</td>\n",
       "    </tr>\n",
       "  </tbody>\n",
       "</table>"
      ],
      "text/plain": [
       "<IPython.core.display.HTML object>"
      ]
     },
     "metadata": {},
     "output_type": "display_data"
    }
   ],
   "source": [
    "# Same implementation in Pytorch\n",
    "\n",
    "simple_net = nn.Sequential(\n",
    "                nn.Linear(28*28,30),\n",
    "                nn.ReLU(),\n",
    "                nn.Linear(30,1) \n",
    ")\n",
    "\n",
    "learn = Learner(dls,simple_net, opt_func = SGD,\n",
    "               loss_func = mnist_loss, metrics = calc_batch_accuracy)\n",
    "\n",
    "\n",
    "learn.fit(30,0.1)"
   ]
  },
  {
   "cell_type": "code",
   "execution_count": 50,
   "metadata": {
    "execution": {
     "iopub.execute_input": "2024-07-17T08:59:21.217484Z",
     "iopub.status.busy": "2024-07-17T08:59:21.216704Z",
     "iopub.status.idle": "2024-07-17T08:59:21.467882Z",
     "shell.execute_reply": "2024-07-17T08:59:21.466569Z",
     "shell.execute_reply.started": "2024-07-17T08:59:21.217442Z"
    }
   },
   "outputs": [
    {
     "data": {
      "text/plain": [
       "[<matplotlib.lines.Line2D at 0x7916f0490250>]"
      ]
     },
     "execution_count": 50,
     "metadata": {},
     "output_type": "execute_result"
    },
    {
     "name": "stdout",
     "output_type": "stream",
     "text": [
      "Final Accuracy: 0.9798822402954102\n"
     ]
    },
    {
     "data": {
      "image/png": "[encoded data removed]",
      "text/plain": [
       "<Figure size 640x480 with 1 Axes>"
      ]
     },
     "metadata": {},
     "output_type": "display_data"
    }
   ],
   "source": [
    "plt.plot(L(learn.recorder.values).itemgot(2))\n",
    "print(f'Final Accuracy: {learn.recorder.values[-1][2]}')"
   ]
  },
  {
   "cell_type": "code",
   "execution_count": null,
   "metadata": {},
   "outputs": [],
   "source": []
  }
 ],
 "metadata": {
  "kaggle": {
   "accelerator": "none",
   "dataSources": [],
   "dockerImageVersionId": 30732,
   "isGpuEnabled": false,
   "isInternetEnabled": true,
   "language": "python",
   "sourceType": "notebook"
  },
  "kernelspec": {
   "display_name": "Python 3 (ipykernel)",
   "language": "python",
   "name": "python3"
  },
  "language_info": {
   "codemirror_mode": {
    "name": "ipython",
    "version": 3
   },
   "file_extension": ".py",
   "mimetype": "text/x-python",
   "name": "python",
   "nbconvert_exporter": "python",
   "pygments_lexer": "ipython3",
   "version": "3.10.12"
  }
 },
 "nbformat": 4,
 "nbformat_minor": 4
}
